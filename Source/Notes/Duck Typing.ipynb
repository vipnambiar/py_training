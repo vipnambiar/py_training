{
 "cells": [
  {
   "cell_type": "markdown",
   "metadata": {},
   "source": [
    "### Duck Typing Examples\n",
    "--------------------"
   ]
  },
  {
   "cell_type": "markdown",
   "metadata": {},
   "source": [
    "*If it quacks like a duck and walks like a duck,*\n",
    "*it **is** a duck!*"
   ]
  },
  {
   "cell_type": "markdown",
   "metadata": {},
   "source": [
    "##### **A custom iterator object**"
   ]
  },
  {
   "cell_type": "code",
   "execution_count": 3,
   "metadata": {
    "collapsed": true
   },
   "outputs": [],
   "source": [
    "class MyObject(object):\n",
    "    ''' A custom iterator '''\n",
    "    \n",
    "    def __init__(self, *args, **kwargs):\n",
    "        self._args = args\n",
    "        self._kwargs = kwargs\n",
    "    \n",
    "    def __str__(self):\n",
    "        return \"%s<%d>\" % (self.__doc__, id(self))\n",
    "\n",
    "    def __iter__(self):\n",
    "        return iter(self._args)\n",
    "    \n",
    "    def __len__(self):\n",
    "        return len(self._args)"
   ]
  },
  {
   "cell_type": "code",
   "execution_count": 4,
   "metadata": {
    "collapsed": false
   },
   "outputs": [
    {
     "name": "stdout",
     "output_type": "stream",
     "text": [
      " A custom iterator <52980112>\n"
     ]
    }
   ],
   "source": [
    "obj = MyObject()\n",
    "print str(obj)"
   ]
  },
  {
   "cell_type": "code",
   "execution_count": 5,
   "metadata": {
    "collapsed": false
   },
   "outputs": [
    {
     "name": "stdout",
     "output_type": "stream",
     "text": [
      "eggs\n",
      "spam\n",
      "bar\n",
      "baz\n",
      "foo\n"
     ]
    }
   ],
   "source": [
    "obj = MyObject('eggs', 'spam', 'bar', 'baz', 'foo')\n",
    "for item in obj:\n",
    "    print item\n"
   ]
  },
  {
   "cell_type": "code",
   "execution_count": 6,
   "metadata": {
    "collapsed": false
   },
   "outputs": [
    {
     "name": "stdout",
     "output_type": "stream",
     "text": [
      "5\n"
     ]
    }
   ],
   "source": [
    "print len(obj)"
   ]
  },
  {
   "cell_type": "code",
   "execution_count": 7,
   "metadata": {
    "collapsed": false
   },
   "outputs": [
    {
     "name": "stdout",
     "output_type": "stream",
     "text": [
      " A custom iterator <52980272>\n"
     ]
    }
   ],
   "source": [
    "print obj"
   ]
  },
  {
   "cell_type": "code",
   "execution_count": null,
   "metadata": {
    "collapsed": true
   },
   "outputs": [],
   "source": []
  }
 ],
 "metadata": {
  "kernelspec": {
   "display_name": "Python 2",
   "language": "python",
   "name": "python2"
  },
  "language_info": {
   "codemirror_mode": {
    "name": "ipython",
    "version": 2
   },
   "file_extension": ".py",
   "mimetype": "text/x-python",
   "name": "python",
   "nbconvert_exporter": "python",
   "pygments_lexer": "ipython2",
   "version": "2.7.11"
  }
 },
 "nbformat": 4,
 "nbformat_minor": 0
}
