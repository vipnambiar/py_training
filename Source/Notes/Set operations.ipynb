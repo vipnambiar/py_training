{
 "cells": [
  {
   "cell_type": "markdown",
   "metadata": {},
   "source": [
    "# Sets"
   ]
  },
  {
   "cell_type": "code",
   "execution_count": 1,
   "metadata": {
    "collapsed": false
   },
   "outputs": [
    {
     "name": "stdout",
     "output_type": "stream",
     "text": [
      "set(['mango', 'apple', 'banana'])\n"
     ]
    }
   ],
   "source": [
    "s = set(['apple', 'mango', 'banana', 'banana', 'grapes', 'oranges', 'pineapple', 'watermelon'])\n",
    "\n",
    "t = set(['apple', 'mango', 'banana', 'grey', 'yellow'])\n",
    "\n",
    "print s.intersection(t)"
   ]
  },
  {
   "cell_type": "code",
   "execution_count": 2,
   "metadata": {
    "collapsed": false
   },
   "outputs": [
    {
     "name": "stdout",
     "output_type": "stream",
     "text": [
      "set(['apple', 'grey', 'oranges', 'mango', 'watermelon', 'yellow', 'grapes', 'pineapple', 'banana'])\n"
     ]
    }
   ],
   "source": [
    "print s.union(t)"
   ]
  },
  {
   "cell_type": "code",
   "execution_count": 3,
   "metadata": {
    "collapsed": false
   },
   "outputs": [
    {
     "name": "stdout",
     "output_type": "stream",
     "text": [
      "set(['watermelon', 'grapes', 'oranges', 'pineapple'])\n",
      "set(['grey', 'yellow'])\n"
     ]
    }
   ],
   "source": [
    "print s.difference(t)\n",
    "print t.difference(s)"
   ]
  },
  {
   "cell_type": "code",
   "execution_count": 4,
   "metadata": {
    "collapsed": false
   },
   "outputs": [
    {
     "name": "stdout",
     "output_type": "stream",
     "text": [
      "['y', 'x']\n"
     ]
    }
   ],
   "source": [
    "# get the unique values from the list\n",
    "l = ['x','y', 'x']\n",
    "r = list(set(l))\n",
    "print r"
   ]
  },
  {
   "cell_type": "code",
   "execution_count": 5,
   "metadata": {
    "collapsed": false
   },
   "outputs": [],
   "source": [
    "# Immutable set\n",
    "f = frozenset(['a', 'b', 'c'])"
   ]
  },
  {
   "cell_type": "code",
   "execution_count": 6,
   "metadata": {
    "collapsed": false
   },
   "outputs": [
    {
     "name": "stdout",
     "output_type": "stream",
     "text": [
      "[2, 6]\n"
     ]
    }
   ],
   "source": [
    "# Get only the unique values from list\n",
    "\n",
    "l = [ 1,2, 3,5,6]\n",
    "e = []\n",
    "for n in l:\n",
    "    if n % 2 == 0:\n",
    "        e.append(n)\n",
    "print e"
   ]
  },
  {
   "cell_type": "code",
   "execution_count": 7,
   "metadata": {
    "collapsed": false
   },
   "outputs": [
    {
     "name": "stdout",
     "output_type": "stream",
     "text": [
      "[2, 6]\n",
      "[0, 2, 0, 0, 6]\n"
     ]
    }
   ],
   "source": [
    "# List comprehensions\n",
    "u = [n for n in l if n%2 == 0]\n",
    "print u\n",
    "e = [n if n%2 == 0 else 0 for n in l]\n",
    "print e"
   ]
  }
 ],
 "metadata": {
  "kernelspec": {
   "display_name": "Python 2",
   "language": "python",
   "name": "python2"
  },
  "language_info": {
   "codemirror_mode": {
    "name": "ipython",
    "version": 2
   },
   "file_extension": ".py",
   "mimetype": "text/x-python",
   "name": "python",
   "nbconvert_exporter": "python",
   "pygments_lexer": "ipython2",
   "version": "2.7.11"
  }
 },
 "nbformat": 4,
 "nbformat_minor": 0
}
