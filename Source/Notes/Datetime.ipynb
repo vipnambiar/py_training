{
 "cells": [
  {
   "cell_type": "markdown",
   "metadata": {},
   "source": [
    "## Handling Date and time"
   ]
  },
  {
   "cell_type": "markdown",
   "metadata": {},
   "source": [
    "#### Naive Datetime (Does not have timezone info)"
   ]
  },
  {
   "cell_type": "code",
   "execution_count": 1,
   "metadata": {
    "collapsed": false
   },
   "outputs": [
    {
     "name": "stdout",
     "output_type": "stream",
     "text": [
      "2016-04-07 19:55:03.978000\n"
     ]
    }
   ],
   "source": [
    "from datetime import datetime, timedelta, tzinfo\n",
    "\n",
    "today = datetime.now()\n",
    "print today"
   ]
  },
  {
   "cell_type": "markdown",
   "metadata": {},
   "source": [
    "#### Timezone aware datetime"
   ]
  },
  {
   "cell_type": "markdown",
   "metadata": {},
   "source": [
    "***Approach 1 - Creating a custom timezone object using abstract class tzinfo***"
   ]
  },
  {
   "cell_type": "code",
   "execution_count": 2,
   "metadata": {
    "collapsed": false
   },
   "outputs": [
    {
     "name": "stdout",
     "output_type": "stream",
     "text": [
      "2016-04-07 19:55:04.139000+05:30\n"
     ]
    }
   ],
   "source": [
    "# Subclassing tzinfo abstract class to get our tzinfo object\n",
    "class IST(tzinfo):\n",
    "    def utcoffset(self, dt):\n",
    "        return timedelta(hours=5, minutes=30) + self.dst(dt)\n",
    "    \n",
    "    def dst(self, dt):\n",
    "        # DST is not followed in this timezone\n",
    "        return timedelta(0)\n",
    "    \n",
    "    def tzname(self,dt):\n",
    "        return \"GMT +5:30\"\n",
    "\n",
    "tz = IST()\n",
    "today = datetime.now(tz)\n",
    "print today"
   ]
  },
  {
   "cell_type": "markdown",
   "metadata": {},
   "source": [
    "*** Approach 2 - Using third party package called pytz ***"
   ]
  },
  {
   "cell_type": "code",
   "execution_count": 3,
   "metadata": {
    "collapsed": false
   },
   "outputs": [
    {
     "name": "stdout",
     "output_type": "stream",
     "text": [
      "2016-04-07 19:55:04.442000+05:30\n"
     ]
    }
   ],
   "source": [
    "import pytz\n",
    "\n",
    "tz = pytz.timezone('Asia/Kolkata')\n",
    "today = datetime.now(tz)\n",
    "print today"
   ]
  },
  {
   "cell_type": "markdown",
   "metadata": {},
   "source": [
    "#### Convert to a different timezone"
   ]
  },
  {
   "cell_type": "code",
   "execution_count": 4,
   "metadata": {
    "collapsed": false
   },
   "outputs": [
    {
     "name": "stdout",
     "output_type": "stream",
     "text": [
      "2016-04-07 09:25:04.442000-05:00\n",
      "US/Central\n",
      "2016-04-07\n",
      "3\n",
      "7\n",
      "4\n",
      "2016\n"
     ]
    }
   ],
   "source": [
    "cst = pytz.timezone('US/Central')\n",
    "cst_date = today.astimezone(cst)\n",
    "\n",
    "print cst_date\n",
    "print cst_date.tzinfo\n",
    "print cst_date.date()\n",
    "print cst_date.weekday()\n",
    "print cst_date.day\n",
    "print cst_date.month\n",
    "print cst_date.year\n"
   ]
  },
  {
   "cell_type": "markdown",
   "metadata": {},
   "source": [
    "#### Converting from datetime to string and back"
   ]
  },
  {
   "cell_type": "code",
   "execution_count": 5,
   "metadata": {
    "collapsed": false
   },
   "outputs": [
    {
     "name": "stdout",
     "output_type": "stream",
     "text": [
      "<type 'str'>\n",
      "2016-Apr-07 19:55:04\n",
      "<type 'datetime.datetime'>\n",
      "2016-04-07 19:55:04\n"
     ]
    }
   ],
   "source": [
    "# convert to string\n",
    "str_date = today.strftime('%Y-%b-%d %H:%M:%S')\n",
    "print type(str_date)\n",
    "print str_date\n",
    "\n",
    "# convert back to datetime\n",
    "dt = datetime.strptime(str_date, '%Y-%b-%d %H:%M:%S')\n",
    "print type(dt)\n",
    "print dt\n"
   ]
  }
 ],
 "metadata": {
  "kernelspec": {
   "display_name": "Python 2",
   "language": "python",
   "name": "python2"
  },
  "language_info": {
   "codemirror_mode": {
    "name": "ipython",
    "version": 2
   },
   "file_extension": ".py",
   "mimetype": "text/x-python",
   "name": "python",
   "nbconvert_exporter": "python",
   "pygments_lexer": "ipython2",
   "version": "2.7.11"
  }
 },
 "nbformat": 4,
 "nbformat_minor": 0
}
