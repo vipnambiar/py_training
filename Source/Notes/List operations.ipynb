{
 "cells": [
  {
   "cell_type": "markdown",
   "metadata": {},
   "source": [
    "## List"
   ]
  },
  {
   "cell_type": "code",
   "execution_count": 1,
   "metadata": {
    "collapsed": false
   },
   "outputs": [
    {
     "name": "stdout",
     "output_type": "stream",
     "text": [
      "['apple', 'oranges', 'grapes', 'banana']\n"
     ]
    }
   ],
   "source": [
    "basket = ['apple', 'oranges', 'grapes']\n",
    "\n",
    "'''\n",
    "append  - Add to the end of the list\n",
    "count   - No of times the item is repeated in the list\n",
    "extend  - Extend a list with the items from another list\n",
    "index   - Returns the index of the position of the item in the list\n",
    "insert  - Insert an item before the specified index position\n",
    "pop     - Remove and return an item from a list from a specified index. Default to last\n",
    "remove  - Remove a given item from the list\n",
    "reverse - Reverse the order of the items in the list IN PLACE.\n",
    "sort    - sort the items based on given key or cmp function.\n",
    "'''\n",
    "\n",
    "basket.append('banana')\n",
    "print basket"
   ]
  },
  {
   "cell_type": "code",
   "execution_count": 2,
   "metadata": {
    "collapsed": false
   },
   "outputs": [
    {
     "name": "stdout",
     "output_type": "stream",
     "text": [
      "['apple', 'oranges', 'grapes', 'banana', 'pineapple', 'mango']\n"
     ]
    }
   ],
   "source": [
    "extra = ['pineapple', 'mango']\n",
    "basket.extend(extra)\n",
    "print basket"
   ]
  },
  {
   "cell_type": "code",
   "execution_count": 3,
   "metadata": {
    "collapsed": false
   },
   "outputs": [
    {
     "name": "stdout",
     "output_type": "stream",
     "text": [
      "2\n"
     ]
    }
   ],
   "source": [
    "basket.append('banana')\n",
    "print basket.count('banana')"
   ]
  },
  {
   "cell_type": "code",
   "execution_count": 4,
   "metadata": {
    "collapsed": false
   },
   "outputs": [
    {
     "name": "stdout",
     "output_type": "stream",
     "text": [
      "7\n",
      "3\n",
      "banana\n",
      "['apple', 'oranges', 'grapes', 'pineapple', 'mango']\n"
     ]
    }
   ],
   "source": [
    "print len(basket)\n",
    "print basket.index('banana')\n",
    "print basket.pop(3)\n",
    "basket.remove('banana')\n",
    "print basket\n"
   ]
  },
  {
   "cell_type": "code",
   "execution_count": 5,
   "metadata": {
    "collapsed": false
   },
   "outputs": [
    {
     "name": "stdout",
     "output_type": "stream",
     "text": [
      "['apple', 'grapes', 'mango', 'oranges', 'pineapple']\n"
     ]
    }
   ],
   "source": [
    "basket.sort()\n",
    "print basket"
   ]
  },
  {
   "cell_type": "code",
   "execution_count": 6,
   "metadata": {
    "collapsed": false
   },
   "outputs": [
    {
     "name": "stdout",
     "output_type": "stream",
     "text": [
      "mango\n"
     ]
    }
   ],
   "source": [
    "print basket.pop(2)"
   ]
  },
  {
   "cell_type": "code",
   "execution_count": 7,
   "metadata": {
    "collapsed": false
   },
   "outputs": [
    {
     "name": "stdout",
     "output_type": "stream",
     "text": [
      "['apple', 'grapes', 'oranges', 'pineapple']\n",
      "False\n"
     ]
    }
   ],
   "source": [
    "print basket\n",
    "print 'grapes' not in basket"
   ]
  },
  {
   "cell_type": "code",
   "execution_count": 8,
   "metadata": {
    "collapsed": true
   },
   "outputs": [],
   "source": [
    "basket.insert(0, 'watermelon')"
   ]
  },
  {
   "cell_type": "code",
   "execution_count": 9,
   "metadata": {
    "collapsed": false
   },
   "outputs": [
    {
     "name": "stdout",
     "output_type": "stream",
     "text": [
      "['apple', 'grapes', 'oranges', 'pineapple', 'watermelon']\n",
      "['watermelon', 'pineapple', 'oranges', 'grapes', 'apple']\n"
     ]
    }
   ],
   "source": [
    "basket.sort()\n",
    "print basket\n",
    "basket.reverse()\n",
    "print basket"
   ]
  },
  {
   "cell_type": "code",
   "execution_count": 10,
   "metadata": {
    "collapsed": false
   },
   "outputs": [
    {
     "name": "stdout",
     "output_type": "stream",
     "text": [
      "['apple', 'grapes', 'oranges', 'pineapple', 'watermelon']\n"
     ]
    }
   ],
   "source": [
    "# Custom sorting\n",
    "\n",
    "def chk_length(x, y):\n",
    "    ''' sort based on length \n",
    "        of each item\n",
    "    '''\n",
    "    if len(x) > len(y):\n",
    "        return -1\n",
    "    elif len(y) > len(x):\n",
    "        return 1\n",
    "    else:\n",
    "        return 0\n",
    "\n",
    "    \n",
    "basket.sort(cmp=chk_length, reverse=True)\n",
    "print basket"
   ]
  },
  {
   "cell_type": "code",
   "execution_count": 11,
   "metadata": {
    "collapsed": false
   },
   "outputs": [
    {
     "name": "stdout",
     "output_type": "stream",
     "text": [
      "[('bread', 1), ('egg', 2), ('butter', 4)]\n"
     ]
    }
   ],
   "source": [
    "# sort based on a key\n",
    "\n",
    "import operator\n",
    "l = [('egg', 2), ('bread', 1), ('butter', 4)]\n",
    "l.sort(key=operator.itemgetter(1))\n",
    "print l\n"
   ]
  }
 ],
 "metadata": {
  "kernelspec": {
   "display_name": "Python 2",
   "language": "python",
   "name": "python2"
  },
  "language_info": {
   "codemirror_mode": {
    "name": "ipython",
    "version": 2
   },
   "file_extension": ".py",
   "mimetype": "text/x-python",
   "name": "python",
   "nbconvert_exporter": "python",
   "pygments_lexer": "ipython2",
   "version": "2.7.11"
  }
 },
 "nbformat": 4,
 "nbformat_minor": 0
}
