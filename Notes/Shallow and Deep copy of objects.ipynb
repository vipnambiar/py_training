{
 "cells": [
  {
   "cell_type": "markdown",
   "metadata": {},
   "source": [
    "### Shallow Copy and Deep Copy of objects"
   ]
  },
  {
   "cell_type": "markdown",
   "metadata": {},
   "source": [
    "__shallow copy__ - causes a newly created object of the same type as the original object whose contents are references to the elements of the original object.\n",
    "\n",
    "__deep copy__ - causes a newly created object of the same type as the original whose contents are also a cope of the original objects elements."
   ]
  },
  {
   "cell_type": "code",
   "execution_count": null,
   "metadata": {},
   "outputs": [],
   "source": [
    "person = ['name', ['savings', 100.00]]\n",
    "husband = person[:]    # slice copy\n",
    "wife = list(person)   # factory func copy"
   ]
  },
  {
   "cell_type": "code",
   "execution_count": null,
   "metadata": {},
   "outputs": [],
   "source": [
    "print 'Husband'\n",
    "for x in husband:\n",
    "    print x, '->', id(x)\n",
    "print '-'*30\n",
    "print 'Wife'\n",
    "for x in wife:\n",
    "    print x, '->', id(x)"
   ]
  },
  {
   "cell_type": "code",
   "execution_count": null,
   "metadata": {},
   "outputs": [],
   "source": [
    "husband[0] = 'Joe'\n",
    "wife[0] = 'Jane'\n",
    "print husband, wife"
   ]
  },
  {
   "cell_type": "code",
   "execution_count": null,
   "metadata": {},
   "outputs": [],
   "source": [
    "husband[1][1] = 50.00\n",
    "print husband, wife"
   ]
  },
  {
   "cell_type": "code",
   "execution_count": null,
   "metadata": {
    "collapsed": true
   },
   "outputs": [],
   "source": [
    "import copy\n",
    "wife = copy.deepcopy(person)"
   ]
  },
  {
   "cell_type": "code",
   "execution_count": null,
   "metadata": {
    "collapsed": true
   },
   "outputs": [],
   "source": [
    "wife[1][1]=1000.00"
   ]
  }
 ],
 "metadata": {
  "kernelspec": {
   "display_name": "Python 2",
   "language": "python",
   "name": "python2"
  },
  "language_info": {
   "codemirror_mode": {
    "name": "ipython",
    "version": 2
   },
   "file_extension": ".py",
   "mimetype": "text/x-python",
   "name": "python",
   "nbconvert_exporter": "python",
   "pygments_lexer": "ipython2",
   "version": "2.7.13"
  }
 },
 "nbformat": 4,
 "nbformat_minor": 2
}
