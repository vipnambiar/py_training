{
 "cells": [
  {
   "cell_type": "markdown",
   "metadata": {},
   "source": [
    "#### Functional Programing"
   ]
  },
  {
   "cell_type": "code",
   "execution_count": 3,
   "metadata": {},
   "outputs": [
    {
     "name": "stdout",
     "output_type": "stream",
     "text": [
      "15\n"
     ]
    }
   ],
   "source": [
    "def func(x, y):\n",
    "    return x*y\n",
    "\n",
    "foo = lambda x,y: x+y\n",
    "#print type(foo)\n",
    "#print dir(foo)\n",
    "print foo(10, 5)"
   ]
  },
  {
   "cell_type": "code",
   "execution_count": 6,
   "metadata": {},
   "outputs": [
    {
     "name": "stdout",
     "output_type": "stream",
     "text": [
      "['abcdefghig', 'rstuvrstuv']\n"
     ]
    }
   ],
   "source": [
    "#Map\n",
    "l = ('abcde', 'rstuv')\n",
    "a = ('fghig', 'rstuv')\n",
    "\n",
    "def foo(x, y):\n",
    "    return x+y\n",
    "\n",
    "print map(foo, l, a)\n"
   ]
  },
  {
   "cell_type": "code",
   "execution_count": 5,
   "metadata": {},
   "outputs": [
    {
     "name": "stdout",
     "output_type": "stream",
     "text": [
      "[1, 3, 5, 7]\n",
      "[1, 3, 5, 7]\n"
     ]
    }
   ],
   "source": [
    "# filter\n",
    "\n",
    "l = [1,2,3,4,5,6,7]\n",
    "\n",
    "def odd(num):\n",
    "    if num % 2 != 0:\n",
    "        return True\n",
    "    else:\n",
    "        return False\n",
    "\n",
    "print filter(odd, l)\n",
    "#print l\n",
    "\n",
    "print [ i for i in l if i%2 != 0]"
   ]
  },
  {
   "cell_type": "code",
   "execution_count": 11,
   "metadata": {},
   "outputs": [
    {
     "name": "stdout",
     "output_type": "stream",
     "text": [
      "39\n",
      "Help on built-in function reduce in module __builtin__:\n",
      "\n",
      "reduce(...)\n",
      "    reduce(function, sequence[, initial]) -> value\n",
      "    \n",
      "    Apply a function of two arguments cumulatively to the items of a sequence,\n",
      "    from left to right, so as to reduce the sequence to a single value.\n",
      "    For example, reduce(lambda x, y: x+y, [1, 2, 3, 4, 5]) calculates\n",
      "    ((((1+2)+3)+4)+5).  If initial is present, it is placed before the items\n",
      "    of the sequence in the calculation, and serves as a default when the\n",
      "    sequence is empty.\n",
      "\n",
      "None\n"
     ]
    }
   ],
   "source": [
    "# reduce\n",
    "x = lambda a,b: a+b\n",
    "\n",
    "l = [ 4, 6, 8, 10, 11]\n",
    "#s = 4*6*8*10\n",
    "#print s\n",
    "# print help(reduce)\n",
    "\n",
    "#print reduce(x, l)\n",
    "#print help(reduce)"
   ]
  },
  {
   "cell_type": "code",
   "execution_count": 6,
   "metadata": {},
   "outputs": [
    {
     "name": "stdout",
     "output_type": "stream",
     "text": [
      "[('a', 1, 'apple'), ('b', 2, 'mango'), ('c', 3, 'pineapple')]\n"
     ]
    }
   ],
   "source": [
    "l = ('a', 'b', 'c', 'd')\n",
    "d = (1,2,3,4)\n",
    "c = ('apple', 'mango', 'pineapple')\n",
    "print zip(l, d, c)"
   ]
  },
  {
   "cell_type": "code",
   "execution_count": 13,
   "metadata": {},
   "outputs": [
    {
     "name": "stdout",
     "output_type": "stream",
     "text": [
      "[('a', 1), ('b', 4), ('c', 5)]\n",
      "{'a': 1, 'c': 5, 'b': 4}\n"
     ]
    }
   ],
   "source": [
    "keys = ['a','b','c']\n",
    "values = [1,4,5]\n",
    "print zip(keys, values)\n",
    "d = dict(zip(keys,values))\n",
    "print d"
   ]
  },
  {
   "cell_type": "code",
   "execution_count": 14,
   "metadata": {},
   "outputs": [
    {
     "name": "stdout",
     "output_type": "stream",
     "text": [
      "40\n"
     ]
    }
   ],
   "source": [
    "from functools import partial\n",
    "\n",
    "def func(x, y, z):\n",
    "    return x*y*z\n",
    "\n",
    "pt = partial(func, x=2, z=5)\n",
    "print pt(y=4)"
   ]
  },
  {
   "cell_type": "code",
   "execution_count": 17,
   "metadata": {},
   "outputs": [
    {
     "name": "stdout",
     "output_type": "stream",
     "text": [
      "Vipin\n",
      "<class '__main__.record'>\n"
     ]
    }
   ],
   "source": [
    "from collections import namedtuple\n",
    "\n",
    "Point = namedtuple('Point', 'x, y')\n",
    "Row = namedtuple('record', 'id, name, dept')\n",
    "r = Row(10, 'Vipin', 'CSG')\n",
    "print r.name\n",
    "print type(r)\n",
    "\n",
    "#p = Point(3,5)\n",
    "#print p.x\n",
    "#print p.y"
   ]
  },
  {
   "cell_type": "code",
   "execution_count": null,
   "metadata": {
    "collapsed": true
   },
   "outputs": [],
   "source": []
  }
 ],
 "metadata": {
  "kernelspec": {
   "display_name": "Python 2",
   "language": "python",
   "name": "python2"
  },
  "language_info": {
   "codemirror_mode": {
    "name": "ipython",
    "version": 2
   },
   "file_extension": ".py",
   "mimetype": "text/x-python",
   "name": "python",
   "nbconvert_exporter": "python",
   "pygments_lexer": "ipython2",
   "version": "2.7.13"
  }
 },
 "nbformat": 4,
 "nbformat_minor": 1
}
