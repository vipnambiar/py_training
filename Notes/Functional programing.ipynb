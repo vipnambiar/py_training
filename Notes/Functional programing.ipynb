{
 "cells": [
  {
   "cell_type": "markdown",
   "metadata": {},
   "source": [
    "#### Functional Programing"
   ]
  },
  {
   "cell_type": "code",
   "execution_count": 1,
   "metadata": {
    "collapsed": false
   },
   "outputs": [
    {
     "name": "stdout",
     "output_type": "stream",
     "text": [
      "50\n"
     ]
    }
   ],
   "source": [
    "func = lambda x,y: x*y\n",
    "print func(10, 5)"
   ]
  },
  {
   "cell_type": "code",
   "execution_count": 6,
   "metadata": {
    "collapsed": false
   },
   "outputs": [
    {
     "name": "stdout",
     "output_type": "stream",
     "text": [
      "['abcdefghig', 'rstuvrstuv']\n"
     ]
    }
   ],
   "source": [
    "#Map\n",
    "l = 'abcde', 'rstuv'\n",
    "a = 'fghig', 'rstuv'\n",
    "\n",
    "def foo(x, y):\n",
    "    return x+y\n",
    "\n",
    "print map(foo, l, a)\n"
   ]
  },
  {
   "cell_type": "code",
   "execution_count": 7,
   "metadata": {
    "collapsed": false
   },
   "outputs": [
    {
     "name": "stdout",
     "output_type": "stream",
     "text": [
      "[1, 3, 5, 7]\n"
     ]
    }
   ],
   "source": [
    "# filter\n",
    "\n",
    "l = [1,2,3,4,5,6,7]\n",
    "\n",
    "def odd(num):\n",
    "    if num % 2 != 0:\n",
    "        return True\n",
    "    else:\n",
    "        return False\n",
    "\n",
    "print filter(odd, l)"
   ]
  },
  {
   "cell_type": "code",
   "execution_count": 9,
   "metadata": {
    "collapsed": false
   },
   "outputs": [
    {
     "name": "stdout",
     "output_type": "stream",
     "text": [
      "1920\n"
     ]
    }
   ],
   "source": [
    "# reduce\n",
    "\n",
    "l = [ 4, 6, 8, 10]\n",
    "\n",
    "# print help(reduce)\n",
    "\n",
    "print reduce(func, l)"
   ]
  },
  {
   "cell_type": "code",
   "execution_count": 13,
   "metadata": {
    "collapsed": false
   },
   "outputs": [
    {
     "name": "stdout",
     "output_type": "stream",
     "text": [
      "[('a', 1, 'apple'), ('b', 2, 'mango'), ('c', 3, 'pineapple')]\n"
     ]
    }
   ],
   "source": [
    "l = ('a', 'b', 'c', 'd')\n",
    "d = (1,2,3,4)\n",
    "c = ('apple', 'mango', 'pineapple')\n",
    "print zip(l, d, c)"
   ]
  },
  {
   "cell_type": "code",
   "execution_count": 21,
   "metadata": {
    "collapsed": false
   },
   "outputs": [
    {
     "name": "stdout",
     "output_type": "stream",
     "text": [
      "8\n"
     ]
    }
   ],
   "source": [
    "from functools import partial\n",
    "\n",
    "def func(x, y):\n",
    "    return x*y\n",
    "\n",
    "pt = partial(func, x=2)\n",
    "print pt(y=4)"
   ]
  },
  {
   "cell_type": "code",
   "execution_count": 22,
   "metadata": {
    "collapsed": false
   },
   "outputs": [
    {
     "name": "stdout",
     "output_type": "stream",
     "text": [
      "3\n",
      "5\n"
     ]
    }
   ],
   "source": [
    "from collections import namedtuple\n",
    "\n",
    "Point = namedtuple('Point', 'x, y')\n",
    "\n",
    "p = Point(3,5)\n",
    "print p.x\n",
    "print p.y"
   ]
  },
  {
   "cell_type": "code",
   "execution_count": null,
   "metadata": {
    "collapsed": true
   },
   "outputs": [],
   "source": []
  }
 ],
 "metadata": {
  "kernelspec": {
   "display_name": "Python 2",
   "language": "python",
   "name": "python2"
  },
  "language_info": {
   "codemirror_mode": {
    "name": "ipython",
    "version": 2
   },
   "file_extension": ".py",
   "mimetype": "text/x-python",
   "name": "python",
   "nbconvert_exporter": "python",
   "pygments_lexer": "ipython2",
   "version": "2.7.11"
  }
 },
 "nbformat": 4,
 "nbformat_minor": 0
}
