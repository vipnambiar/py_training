{
 "cells": [
  {
   "cell_type": "markdown",
   "metadata": {},
   "source": [
    "## Functions"
   ]
  },
  {
   "cell_type": "code",
   "execution_count": 3,
   "metadata": {},
   "outputs": [
    {
     "name": "stdout",
     "output_type": "stream",
     "text": [
      "<function foo at 0x00000000040EB828>\n",
      "hello\n"
     ]
    },
    {
     "data": {
      "text/plain": [
       "10"
      ]
     },
     "execution_count": 3,
     "metadata": {},
     "output_type": "execute_result"
    }
   ],
   "source": [
    "def foo():\n",
    "    print \"hello\"\n",
    "    return 10\n",
    "    \n",
    "#def func(fn):\n",
    "#    print type(fn)\n",
    "    #return fn()\n",
    "\n",
    "var = foo\n",
    "print var\n",
    "var()\n",
    "#st = foo\n",
    "#print st"
   ]
  },
  {
   "cell_type": "code",
   "execution_count": 8,
   "metadata": {},
   "outputs": [
    {
     "name": "stdout",
     "output_type": "stream",
     "text": [
      "15\n",
      "15\n"
     ]
    }
   ],
   "source": [
    "b = 5\n",
    "\n",
    "def foo(a):\n",
    "    global b\n",
    "    b=b+10\n",
    "    print b\n",
    "    #print id(a)\n",
    "\n",
    "foo(2)\n",
    "print b\n",
    "    \n"
   ]
  },
  {
   "cell_type": "code",
   "execution_count": 12,
   "metadata": {},
   "outputs": [
    {
     "name": "stdout",
     "output_type": "stream",
     "text": [
      "5\n",
      "10\n"
     ]
    }
   ],
   "source": [
    "var = 10\n",
    "\n",
    "def baz():\n",
    "    # global var\n",
    "    var = 5\n",
    "    print(var)\n",
    "\n",
    "baz()\n",
    "print(var)"
   ]
  },
  {
   "cell_type": "code",
   "execution_count": null,
   "metadata": {
    "collapsed": true
   },
   "outputs": [],
   "source": []
  },
  {
   "cell_type": "code",
   "execution_count": 13,
   "metadata": {},
   "outputs": [
    {
     "name": "stdout",
     "output_type": "stream",
     "text": [
      "5\n"
     ]
    }
   ],
   "source": [
    "foo = baz\n",
    "foo()"
   ]
  },
  {
   "cell_type": "code",
   "execution_count": 14,
   "metadata": {},
   "outputs": [
    {
     "name": "stdout",
     "output_type": "stream",
     "text": [
      "()\n",
      "(1,)\n",
      "(2, 3)\n",
      "('a', 'b', 'c', 'd')\n",
      "(2, 'x', 'y', 'z')\n"
     ]
    }
   ],
   "source": [
    "def foo(*args):\n",
    "    print args\n",
    "\n",
    "foo()\n",
    "foo(1)\n",
    "foo(2,3)\n",
    "foo('a','b','c','d')\n",
    "x = ['x','y','z']\n",
    "foo(2, *x)"
   ]
  },
  {
   "cell_type": "code",
   "execution_count": 9,
   "metadata": {},
   "outputs": [
    {
     "name": "stdout",
     "output_type": "stream",
     "text": [
      "<type 'tuple'>\n",
      "(2,)\n"
     ]
    }
   ],
   "source": [
    "t = (2,)\n",
    "print type(t)\n",
    "print t"
   ]
  },
  {
   "cell_type": "code",
   "execution_count": 12,
   "metadata": {},
   "outputs": [
    {
     "name": "stdout",
     "output_type": "stream",
     "text": [
      "Hello  World\n",
      "('Vipin', 12)\n",
      "{'y': 20, 'x': 10}\n",
      "None\n"
     ]
    }
   ],
   "source": [
    "\n",
    "def add(a, b=None, *args, **kwargs):\n",
    "    print a, b\n",
    "    print args\n",
    "    print kwargs\n",
    "\n",
    "\n",
    "#t = add(10)\n",
    "#print(t)\n",
    "print(add('Hello', ' World', 'Vipin', 12, x=10, y=20))\n",
    "#add(10)"
   ]
  },
  {
   "cell_type": "code",
   "execution_count": 13,
   "metadata": {},
   "outputs": [
    {
     "name": "stdout",
     "output_type": "stream",
     "text": [
      "Hello  World\n",
      "()\n",
      "{}\n",
      "None\n"
     ]
    }
   ],
   "source": [
    "print add(\"Hello \", \"World\") # Duck typing"
   ]
  },
  {
   "cell_type": "markdown",
   "metadata": {},
   "source": [
    "**Functions can take other function objects as arguments**"
   ]
  },
  {
   "cell_type": "code",
   "execution_count": 5,
   "metadata": {},
   "outputs": [
    {
     "name": "stdout",
     "output_type": "stream",
     "text": [
      "Calling function\n",
      "Completed function\n",
      "10\n"
     ]
    }
   ],
   "source": [
    "\n",
    "def new_func(fn):\n",
    "    print(\"Calling function\")\n",
    "    def wrapped_func(*args):\n",
    "        return fn(*args)\n",
    "    print(\"Completed function\")\n",
    "    return wrapped_func\n",
    "\n",
    "@new_func\n",
    "def subtract(x, y):\n",
    "    return x - y\n",
    "\n",
    "#wrapped_func = new_func(subtract)\n",
    "#print wrapped_func(10,5)\n",
    "print subtract(20,10)\n"
   ]
  },
  {
   "cell_type": "code",
   "execution_count": 26,
   "metadata": {},
   "outputs": [
    {
     "name": "stdout",
     "output_type": "stream",
     "text": [
      "Calling function\n",
      "Completed function\n"
     ]
    },
    {
     "data": {
      "text/plain": [
       "5"
      ]
     },
     "execution_count": 26,
     "metadata": {},
     "output_type": "execute_result"
    }
   ],
   "source": [
    "@new_func\n",
    "def subtract(x, y):\n",
    "    return x - y\n",
    "\n",
    "subtract(10, 5)\n",
    "#new_func(subtract)(10)"
   ]
  },
  {
   "cell_type": "markdown",
   "metadata": {},
   "source": [
    "**Passing variable arguments to function**"
   ]
  },
  {
   "cell_type": "code",
   "execution_count": 15,
   "metadata": {},
   "outputs": [
    {
     "name": "stdout",
     "output_type": "stream",
     "text": [
      "0\n",
      "2\n",
      "13\n",
      "25\n"
     ]
    }
   ],
   "source": [
    "def add(*args):\n",
    "    total = 0\n",
    "    for val in args:\n",
    "        total += val\n",
    "    return total\n",
    "\n",
    "print add()\n",
    "print add(2)\n",
    "print add(3,10)\n",
    "print add(3,4,5,6,7)\n",
    "\n"
   ]
  },
  {
   "cell_type": "code",
   "execution_count": 14,
   "metadata": {},
   "outputs": [
    {
     "name": "stdout",
     "output_type": "stream",
     "text": [
      "Value of y 10\n",
      "20\n",
      "Value of y 5\n",
      "15\n",
      "Value of y 5\n",
      "17\n"
     ]
    }
   ],
   "source": [
    "def foo(x,  y=5, **kwargs):\n",
    "    \"\"\"\n",
    "    A sample function\n",
    "    second line\n",
    "    \"\"\"\n",
    "    a = 10\n",
    "    print \"Value of y\", y\n",
    "    if 'bar' in kwargs:\n",
    "        return sum([x,y,kwargs['bar']])\n",
    "    return sum([x,y])\n",
    "\n",
    "print foo(10, 10)\n",
    "print foo(10)\n",
    "print foo(10, bar=2, baz=5)"
   ]
  },
  {
   "cell_type": "code",
   "execution_count": 8,
   "metadata": {},
   "outputs": [
    {
     "name": "stdout",
     "output_type": "stream",
     "text": [
      "<type 'int'>\n",
      "<type 'str'>\n",
      "The number is 67\n",
      "<function foo at 0x03325770>\n"
     ]
    }
   ],
   "source": [
    "print type(67)\n",
    "number = str(67)\n",
    "print type(number)\n",
    "print \"The number is \" + number\n",
    "print str(foo)"
   ]
  },
  {
   "cell_type": "code",
   "execution_count": 11,
   "metadata": {},
   "outputs": [
    {
     "name": "stdout",
     "output_type": "stream",
     "text": [
      "['__call__', '__class__', '__closure__', '__code__', '__defaults__', '__delattr__', '__dict__', '__doc__', '__format__', '__get__', '__getattribute__', '__globals__', '__hash__', '__init__', '__module__', '__name__', '__new__', '__reduce__', '__reduce_ex__', '__repr__', '__setattr__', '__sizeof__', '__str__', '__subclasshook__', 'func_closure', 'func_code', 'func_defaults', 'func_dict', 'func_doc', 'func_globals', 'func_name']\n"
     ]
    }
   ],
   "source": [
    "print dir(foo)"
   ]
  },
  {
   "cell_type": "code",
   "execution_count": 16,
   "metadata": {},
   "outputs": [
    {
     "name": "stdout",
     "output_type": "stream",
     "text": [
      "foo\n",
      "<code object foo at 033245C0, file \"<ipython-input-14-0bf5d2ee52bb>\", line 1>\n"
     ]
    }
   ],
   "source": [
    "my_func = foo\n",
    "print my_func.func_name\n",
    "print my_func.func_code"
   ]
  },
  {
   "cell_type": "code",
   "execution_count": null,
   "metadata": {
    "collapsed": true
   },
   "outputs": [],
   "source": []
  }
 ],
 "metadata": {
  "kernelspec": {
   "display_name": "Python 2",
   "language": "python",
   "name": "python2"
  },
  "language_info": {
   "codemirror_mode": {
    "name": "ipython",
    "version": 2
   },
   "file_extension": ".py",
   "mimetype": "text/x-python",
   "name": "python",
   "nbconvert_exporter": "python",
   "pygments_lexer": "ipython2",
   "version": "2.7.13"
  }
 },
 "nbformat": 4,
 "nbformat_minor": 1
}
