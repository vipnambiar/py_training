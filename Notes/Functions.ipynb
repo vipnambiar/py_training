{
 "cells": [
  {
   "cell_type": "markdown",
   "metadata": {},
   "source": [
    "## Functions"
   ]
  },
  {
   "cell_type": "code",
   "execution_count": 1,
   "metadata": {
    "collapsed": false
   },
   "outputs": [
    {
     "name": "stdout",
     "output_type": "stream",
     "text": [
      "20\n",
      "2\n"
     ]
    }
   ],
   "source": [
    "v = 2\n",
    "def add(a, b):\n",
    "    i = 5\n",
    "    v = 5   # Variable v initialized in function local scope which overshadows the global v\n",
    "    return a + b + v\n",
    "\n",
    "x = add(5, 10)\n",
    "print x\n",
    "print v"
   ]
  },
  {
   "cell_type": "code",
   "execution_count": 2,
   "metadata": {
    "collapsed": false
   },
   "outputs": [
    {
     "name": "stdout",
     "output_type": "stream",
     "text": [
      "Hello World\n"
     ]
    }
   ],
   "source": [
    "print add(\"Hello \", \"World\") # Duck typing"
   ]
  },
  {
   "cell_type": "markdown",
   "metadata": {},
   "source": [
    "**Functions can take other function objects as arguments**"
   ]
  },
  {
   "cell_type": "code",
   "execution_count": 12,
   "metadata": {
    "collapsed": false
   },
   "outputs": [
    {
     "name": "stdout",
     "output_type": "stream",
     "text": [
      "16\n",
      "inside new_func\n",
      "14\n"
     ]
    }
   ],
   "source": [
    "my_func = add\n",
    "print my_func(4, 7)\n",
    "\n",
    "def new_func(fn):\n",
    "    print \"inside new_func\"\n",
    "    print fn(4, 5)\n",
    "\n",
    "new_func(add)"
   ]
  },
  {
   "cell_type": "markdown",
   "metadata": {},
   "source": [
    "**Passing variable arguments to function**"
   ]
  },
  {
   "cell_type": "code",
   "execution_count": 15,
   "metadata": {
    "collapsed": false
   },
   "outputs": [
    {
     "name": "stdout",
     "output_type": "stream",
     "text": [
      "0\n",
      "2\n",
      "13\n",
      "25\n"
     ]
    }
   ],
   "source": [
    "def add(*args):\n",
    "    total = 0\n",
    "    for val in args:\n",
    "        total += val\n",
    "    return total\n",
    "\n",
    "print add()\n",
    "print add(2)\n",
    "print add(3,10)\n",
    "print add(3,4,5,6,7)\n",
    "\n"
   ]
  },
  {
   "cell_type": "code",
   "execution_count": 18,
   "metadata": {
    "collapsed": false
   },
   "outputs": [
    {
     "name": "stdout",
     "output_type": "stream",
     "text": [
      "20\n",
      "15\n",
      "17\n"
     ]
    }
   ],
   "source": [
    "def foo(x, y=5, **kwargs):\n",
    "    \"\"\"\n",
    "    A sample function\n",
    "    second line\n",
    "    \"\"\"\n",
    "    if 'bar' in kwargs:\n",
    "        return sum([x,y,kwargs['bar']])\n",
    "    return sum([x,y])\n",
    "\n",
    "print foo(10, 10)\n",
    "print foo(10)\n",
    "print foo(10, bar=2, baz=5)"
   ]
  },
  {
   "cell_type": "code",
   "execution_count": 10,
   "metadata": {
    "collapsed": false
   },
   "outputs": [
    {
     "name": "stdout",
     "output_type": "stream",
     "text": [
      "<type 'int'>\n",
      "<type 'str'>\n",
      "The number is 67\n",
      "<function foo at 0x031146F0>\n"
     ]
    }
   ],
   "source": [
    "print type(67)\n",
    "number = str(67)\n",
    "print type(number)\n",
    "print \"The number is \" + number\n",
    "print str(foo)"
   ]
  },
  {
   "cell_type": "code",
   "execution_count": 11,
   "metadata": {
    "collapsed": false
   },
   "outputs": [
    {
     "name": "stdout",
     "output_type": "stream",
     "text": [
      "['__call__', '__class__', '__closure__', '__code__', '__defaults__', '__delattr__', '__dict__', '__doc__', '__format__', '__get__', '__getattribute__', '__globals__', '__hash__', '__init__', '__module__', '__name__', '__new__', '__reduce__', '__reduce_ex__', '__repr__', '__setattr__', '__sizeof__', '__str__', '__subclasshook__', 'func_closure', 'func_code', 'func_defaults', 'func_dict', 'func_doc', 'func_globals', 'func_name']\n"
     ]
    }
   ],
   "source": [
    "print dir(foo)"
   ]
  },
  {
   "cell_type": "code",
   "execution_count": 21,
   "metadata": {
    "collapsed": false
   },
   "outputs": [
    {
     "name": "stdout",
     "output_type": "stream",
     "text": [
      "foo\n",
      "None\n"
     ]
    }
   ],
   "source": [
    "my_func = foo\n",
    "print my_func.func_name\n"
   ]
  },
  {
   "cell_type": "code",
   "execution_count": null,
   "metadata": {
    "collapsed": true
   },
   "outputs": [],
   "source": []
  }
 ],
 "metadata": {
  "kernelspec": {
   "display_name": "Python 2",
   "language": "python",
   "name": "python2"
  },
  "language_info": {
   "codemirror_mode": {
    "name": "ipython",
    "version": 2
   },
   "file_extension": ".py",
   "mimetype": "text/x-python",
   "name": "python",
   "nbconvert_exporter": "python",
   "pygments_lexer": "ipython2",
   "version": "2.7.11"
  }
 },
 "nbformat": 4,
 "nbformat_minor": 0
}
