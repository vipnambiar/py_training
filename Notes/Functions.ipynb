{
 "cells": [
  {
   "cell_type": "markdown",
   "metadata": {},
   "source": [
    "## Functions"
   ]
  },
  {
   "cell_type": "code",
   "execution_count": 1,
   "metadata": {
    "collapsed": false
   },
   "outputs": [
    {
     "name": "stdout",
     "output_type": "stream",
     "text": [
      "20\n",
      "2\n"
     ]
    }
   ],
   "source": [
    "v = 2\n",
    "def add(a, b):\n",
    "    i = 5\n",
    "    v = 5   # Variable v initialized in function local scope which overshadows the global v\n",
    "    return a + b + v\n",
    "\n",
    "x = add(5, 10)\n",
    "print x\n",
    "print v"
   ]
  },
  {
   "cell_type": "code",
   "execution_count": 2,
   "metadata": {
    "collapsed": false
   },
   "outputs": [
    {
     "name": "stdout",
     "output_type": "stream",
     "text": [
      "Hello World\n"
     ]
    }
   ],
   "source": [
    "print add(\"Hello \", \"World\") # Duck typing"
   ]
  },
  {
   "cell_type": "markdown",
   "metadata": {},
   "source": [
    "**Functions can take other function objects as arguments**"
   ]
  },
  {
   "cell_type": "code",
   "execution_count": 12,
   "metadata": {
    "collapsed": false
   },
   "outputs": [
    {
     "name": "stdout",
     "output_type": "stream",
     "text": [
      "16\n",
      "inside new_func\n",
      "14\n"
     ]
    }
   ],
   "source": [
    "my_func = add\n",
    "print my_func(4, 7)\n",
    "\n",
    "def new_func(fn):\n",
    "    print \"inside new_func\"\n",
    "    print fn(4, 5)\n",
    "\n",
    "new_func(add)"
   ]
  },
  {
   "cell_type": "markdown",
   "metadata": {},
   "source": [
    "**Passing variable arguments to function**"
   ]
  },
  {
   "cell_type": "code",
   "execution_count": 15,
   "metadata": {
    "collapsed": false
   },
   "outputs": [
    {
     "name": "stdout",
     "output_type": "stream",
     "text": [
      "0\n",
      "2\n",
      "13\n",
      "25\n"
     ]
    }
   ],
   "source": [
    "def add(*args):\n",
    "    total = 0\n",
    "    for val in args:\n",
    "        total += val\n",
    "    return total\n",
    "\n",
    "print add()\n",
    "print add(2)\n",
    "print add(3,10)\n",
    "print add(3,4,5,6,7)\n",
    "\n"
   ]
  }
 ],
 "metadata": {
  "kernelspec": {
   "display_name": "Python 2",
   "language": "python",
   "name": "python2"
  },
  "language_info": {
   "codemirror_mode": {
    "name": "ipython",
    "version": 2
   },
   "file_extension": ".py",
   "mimetype": "text/x-python",
   "name": "python",
   "nbconvert_exporter": "python",
   "pygments_lexer": "ipython2",
   "version": "2.7.11"
  }
 },
 "nbformat": 4,
 "nbformat_minor": 0
}
