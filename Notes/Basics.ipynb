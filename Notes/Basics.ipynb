{
 "cells": [
  {
   "cell_type": "markdown",
   "metadata": {},
   "source": [
    "# Basics\n"
   ]
  },
  {
   "cell_type": "code",
   "execution_count": null,
   "metadata": {},
   "outputs": [],
   "source": [
    "# line comment\n",
    "\n",
    "\"\"\"\n",
    "multiline\n",
    "comment\n",
    "\"\"\""
   ]
  },
  {
   "cell_type": "code",
   "execution_count": null,
   "metadata": {},
   "outputs": [],
   "source": [
    "# statement delimiter in end of line(\\n)\n",
    "# Normally each line in your python file is treated as one statement.\n",
    "# But if you have a very long statement which you need to break into multiple lines, you can use backslash ( \\ )\n",
    "# at the end of line, to signal to the interpreter to consider the following line as continuation of this statement.\n",
    "\n",
    "weather_is_hot = 1\n",
    "shark_warnings = 0\n",
    "\n",
    "if (weather_is_hot == 1) and \\\n",
    "    (shark_warnings == 0):\n",
    "        print \"go to beach\""
   ]
  },
  {
   "cell_type": "code",
   "execution_count": null,
   "metadata": {
    "collapsed": true
   },
   "outputs": [],
   "source": [
    "# If you need to put multiple statements in one line, use semicolon (;) as delimiter\n",
    "weather_is_hot = 1; shark_warnings = 0"
   ]
  },
  {
   "cell_type": "code",
   "execution_count": null,
   "metadata": {},
   "outputs": [],
   "source": [
    "var = 5\n",
    "var = \"Foo\"\n",
    "print var"
   ]
  },
  {
   "cell_type": "markdown",
   "metadata": {},
   "source": [
    "### Naming of variables a.k.a Identifiers\n",
    "\n",
    "- Variables are also known as Identifiers in python.\n",
    "- A variable name can start with an alphabet or underscore ( \\_ ) followed by alphanumeric or underscore.\n",
    "- Variables in python are case sensitive. **CaSe** and **case** are two different variables.\n",
    "- Python being dynamicaly typed language, no pre declaration or type declaration of variables is required.\n",
    "    "
   ]
  },
  {
   "cell_type": "markdown",
   "metadata": {},
   "source": [
    "#### builtin functions id() and type()"
   ]
  },
  {
   "cell_type": "code",
   "execution_count": null,
   "metadata": {},
   "outputs": [],
   "source": [
    "# id() - refers to the memory address where the object is stored\n",
    "# type() - refers to the type of the object\n",
    "var = \"foo\"\n",
    "print \"Type of var is\", type(var)"
   ]
  },
  {
   "cell_type": "code",
   "execution_count": null,
   "metadata": {},
   "outputs": [],
   "source": [
    "# builtin function isinstance() to check if the object is an instance of a particular type.\n",
    "print isinstance(var, int)\n",
    "print \"id of var is\", id(var)"
   ]
  },
  {
   "cell_type": "code",
   "execution_count": null,
   "metadata": {},
   "outputs": [],
   "source": [
    "# variables are pointers to the objects. You can have multiple variables pointing to the same object.\n",
    "bar = var\n",
    "print \"id of bar is\", id(bar)\n",
    "var = 10\n",
    "print \"id of var is\", id(var)"
   ]
  },
  {
   "cell_type": "code",
   "execution_count": null,
   "metadata": {},
   "outputs": [],
   "source": [
    "# is - keyword for identity comparison\n",
    "print bar is var\n",
    "print 'bar', '->', bar\n",
    "print 'var', '->', var\n",
    "var = 15"
   ]
  },
  {
   "cell_type": "code",
   "execution_count": null,
   "metadata": {},
   "outputs": [],
   "source": [
    "print type(object) # Base class from which all objects inherit from"
   ]
  },
  {
   "cell_type": "markdown",
   "metadata": {},
   "source": [
    "### Strings\n",
    "\n",
    "- Strings in python are identified as a contiguous set of characaters in between quotation marks.\n",
    "- Strings can either be single quoted or double quoted.\n",
    "- For multiline strings triple quotes are used which can be single triple quotes (''') or double triple quotes (\"\"\")."
   ]
  },
  {
   "cell_type": "code",
   "execution_count": null,
   "metadata": {
    "collapsed": true
   },
   "outputs": [],
   "source": [
    "st = 'I am a string'\n",
    "\n",
    "st1 = \"I am also a string\"\n",
    "\n",
    "mt = '''\n",
    "I am a multiline string.\n",
    "I consists of more than one line\n",
    "'''\n",
    "\n",
    "mt1 = \"\"\"\n",
    "I am also a multiline string.\n",
    "I consists of more than one line.\n",
    "\"\"\""
   ]
  },
  {
   "cell_type": "markdown",
   "metadata": {},
   "source": [
    "**Escaping special chars in strings**"
   ]
  },
  {
   "cell_type": "code",
   "execution_count": null,
   "metadata": {},
   "outputs": [],
   "source": [
    "s = 'End of line character is represented as \\\\n\\n This is my second line'\n",
    "\n",
    "# Raw strings are defined by prefixing the string with letter r. \n",
    "# In raw strings special charcaters do not have any meaning and are rendered as such.\n",
    "a = r'End of line character is represented as \\\\n\\n This is my second line'\n",
    "print s\n",
    "print\n",
    "print a"
   ]
  },
  {
   "cell_type": "markdown",
   "metadata": {},
   "source": [
    "- Strings are immutable objects in python. \n",
    "- Since string are a sequence of ascii characters they are considered as a sequence object like lists, tuple etc\n",
    "- Most sequence operations can be performed on strings, like concatenation, slicing, indexing etc."
   ]
  },
  {
   "cell_type": "code",
   "execution_count": null,
   "metadata": {},
   "outputs": [],
   "source": [
    "# [ ] is the index operator. All indexes in python start from zero.\n",
    "# You can get the first character from a string using string[0]\n",
    "\n",
    "st = 'abracacadabra'\n",
    "print st[12]\n",
    "print st[-1::-1]"
   ]
  },
  {
   "cell_type": "code",
   "execution_count": null,
   "metadata": {},
   "outputs": [],
   "source": [
    "# [:] is used as slicing operator to get a substring from a string\n",
    "# [start:stop:step]\n",
    "print st[6:]\n",
    "print st[5:10]"
   ]
  },
  {
   "cell_type": "code",
   "execution_count": null,
   "metadata": {},
   "outputs": [],
   "source": [
    "# plus sign ( + ) is the operator for concatenation of string\n",
    "\n",
    "st = \"Hello\" + \" \" + \"World\"\n",
    "print st"
   ]
  },
  {
   "cell_type": "code",
   "execution_count": null,
   "metadata": {},
   "outputs": [],
   "source": [
    "# asterisk ( * ) is therepetition operator\n",
    "\n",
    "st = '-' * 10\n",
    "print st"
   ]
  },
  {
   "cell_type": "markdown",
   "metadata": {},
   "source": [
    "#### Byte strings and Unicode strings"
   ]
  },
  {
   "cell_type": "code",
   "execution_count": null,
   "metadata": {
    "collapsed": true
   },
   "outputs": [],
   "source": [
    "# In python 2.x by default strings are byte string - They contain only ascii characters.\n",
    "# In order to define a unicode string you need to prefix your string with the character u\n",
    "st = 'Hello'   # byte string\n",
    "ut = u'Hello'  # unicode string\n",
    "\n",
    "# In python 3,x unicode strings are the default and you need to prefix b to define a byte string\n",
    "st = b'Hello'"
   ]
  },
  {
   "cell_type": "markdown",
   "metadata": {},
   "source": [
    "#### Difference between floor division and true division"
   ]
  },
  {
   "cell_type": "code",
   "execution_count": null,
   "metadata": {},
   "outputs": [],
   "source": [
    "# By default python 2.x supports floor division\n",
    "# To enable normal division use the below import statement\n",
    "from __future__ import division\n",
    "\n",
    "answer = 10//3\n",
    "print answer"
   ]
  },
  {
   "cell_type": "code",
   "execution_count": null,
   "metadata": {},
   "outputs": [],
   "source": [
    "# The operator // ensures floor division in all cases\n",
    "print 10//3"
   ]
  },
  {
   "cell_type": "markdown",
   "metadata": {},
   "source": [
    "### Standard Types\n",
    "\n",
    "1. **Numbers** - Python supports five basic numerical types, three of which are integer types.\n",
    "    - int (signed integers)\n",
    "        - long (long integers)\n",
    "        - bool(Boolean values)\n",
    "    - float (floating point real numbers)\n",
    "    - complex (complex numbers)\n",
    "\n",
    "2. **String** - Byte strings(ASCII) and unicode strings\n",
    "\n",
    "3. **List** - Ordered mutable collection of objects\n",
    "\n",
    "4. **Tuple** - Ordered immutable collection of objects\n",
    "\n",
    "5. **Dictionary** - Unordered mutable collection of key, value pairs"
   ]
  },
  {
   "cell_type": "markdown",
   "metadata": {},
   "source": [
    "### Other Built-in Types\n",
    "\n",
    "- Type\n",
    "- Null object (None)\n",
    "- File\n",
    "- Set/FrozenSet\n",
    "- Function/Method\n",
    "- Module\n",
    "- Class\n"
   ]
  },
  {
   "cell_type": "code",
   "execution_count": null,
   "metadata": {},
   "outputs": [],
   "source": [
    "print -10, 25, 87659                               # integers\n",
    "print True, False                                  # boolean objects\n",
    "print 1/2, 0.2367, 9.384e-23, 4.2E-10, -1.609E-19  # floating point numbers\n",
    "print 64.375+1j, 4.23-8.5j, -0.0224+0j             # complex numbers"
   ]
  },
  {
   "cell_type": "markdown",
   "metadata": {},
   "source": [
    "### Converting types using factory functions"
   ]
  },
  {
   "cell_type": "code",
   "execution_count": null,
   "metadata": {},
   "outputs": [],
   "source": [
    "i = 10  # integer\n",
    "\n",
    "print float(i)  "
   ]
  },
  {
   "cell_type": "code",
   "execution_count": null,
   "metadata": {},
   "outputs": [],
   "source": [
    "print str(i)"
   ]
  },
  {
   "cell_type": "code",
   "execution_count": null,
   "metadata": {},
   "outputs": [],
   "source": [
    "st = \"100.25\"\n",
    "print float(st)"
   ]
  },
  {
   "cell_type": "code",
   "execution_count": null,
   "metadata": {},
   "outputs": [],
   "source": [
    "print bool(i)   # Boolean equivalent of the number\n",
    "\n",
    "print bool(0)   # Zero always evaluates to False and all non zero values evaluates to True"
   ]
  },
  {
   "cell_type": "code",
   "execution_count": null,
   "metadata": {
    "collapsed": true
   },
   "outputs": [],
   "source": [
    "# Boolean values True and False evaluate to 1 and 0 in arithmetic operations\n",
    "True = False\n",
    "if True:\n",
    "    print result"
   ]
  },
  {
   "cell_type": "code",
   "execution_count": null,
   "metadata": {},
   "outputs": [],
   "source": [
    "result = 2 - False\n",
    "print result"
   ]
  },
  {
   "cell_type": "code",
   "execution_count": null,
   "metadata": {},
   "outputs": [],
   "source": [
    "# Similarly all empty collections or empty string evaluates to False in logical expressions\n",
    "l = []\n",
    "if l:\n",
    "    print 'A non empty list'\n",
    "else:\n",
    "    print 'An empty list'"
   ]
  },
  {
   "cell_type": "code",
   "execution_count": null,
   "metadata": {},
   "outputs": [],
   "source": [
    "st =''\n",
    "\n",
    "if not st:\n",
    "    print 'An empty string'\n",
    "else:\n",
    "    print 'A non empty string'"
   ]
  },
  {
   "cell_type": "code",
   "execution_count": null,
   "metadata": {},
   "outputs": [],
   "source": [
    "f = 3.0/2.0\n",
    "print f\n",
    "print int(f)\n",
    "print int('10101', base=2)     # converting binary to decimal"
   ]
  },
  {
   "cell_type": "code",
   "execution_count": null,
   "metadata": {},
   "outputs": [],
   "source": [
    "print complex(1.333)\n",
    "print complex(10, -0.2)"
   ]
  }
 ],
 "metadata": {
  "kernelspec": {
   "display_name": "Python 2",
   "language": "python",
   "name": "python2"
  },
  "language_info": {
   "codemirror_mode": {
    "name": "ipython",
    "version": 2
   },
   "file_extension": ".py",
   "mimetype": "text/x-python",
   "name": "python",
   "nbconvert_exporter": "python",
   "pygments_lexer": "ipython2",
   "version": "2.7.13"
  }
 },
 "nbformat": 4,
 "nbformat_minor": 1
}
