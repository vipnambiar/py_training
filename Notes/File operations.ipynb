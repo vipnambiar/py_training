{
 "cells": [
  {
   "cell_type": "markdown",
   "metadata": {},
   "source": [
    "# File I/O\n",
    "------------\n"
   ]
  },
  {
   "cell_type": "markdown",
   "metadata": {},
   "source": [
    "### Reading a file"
   ]
  },
  {
   "cell_type": "code",
   "execution_count": null,
   "metadata": {
    "collapsed": false,
    "scrolled": true
   },
   "outputs": [],
   "source": [
    "filepath = 'D:\\Python Training\\Notes\\To Do.txt'\n",
    "\n",
    "fh = open(filepath, 'r')\n",
    "# Alternate way\n",
    "# fp = file(filepath, 'r')\n",
    "\n",
    "for line in fh:\n",
    "    print line\n",
    "fh.close()"
   ]
  },
  {
   "cell_type": "code",
   "execution_count": null,
   "metadata": {
    "collapsed": false
   },
   "outputs": [],
   "source": [
    "# Reading all the contents at one go\n",
    "fh = open(filepath, 'r')\n",
    "\n",
    "data = fh.read()\n",
    "fh.close()\n",
    "print data"
   ]
  },
  {
   "cell_type": "code",
   "execution_count": null,
   "metadata": {
    "collapsed": false
   },
   "outputs": [],
   "source": [
    "# Reading specific bytes from a file\n",
    "\n",
    "fh = open(filepath, 'r')\n",
    "\n",
    "data = fh.read(100)\n",
    "fh.close()\n",
    "print data"
   ]
  },
  {
   "cell_type": "code",
   "execution_count": null,
   "metadata": {
    "collapsed": false
   },
   "outputs": [],
   "source": [
    "# How to move the file pointer to a specific location in the file\n",
    "\n",
    "fh = open(filepath, 'r')\n",
    "\n",
    "print fh.tell()    # Beginning of the file\n",
    "fh.seek(50)        # Move the pointer by 50 bytes from beginning\n",
    "print fh.tell()    # Current position\n",
    "fh.seek(-5, 1)     # Move 10 bytes backword from current position\n",
    "print fh.tell()    # New position\n",
    "fh.seek(0, 2)      # Goto end of file\n",
    "print fh.tell()    # position at End of file\n",
    "fh.close()"
   ]
  },
  {
   "cell_type": "markdown",
   "metadata": {},
   "source": [
    "### A better way of reading files (Recommended way)\n",
    "\n",
    "#### Using the `with` context manager"
   ]
  },
  {
   "cell_type": "code",
   "execution_count": null,
   "metadata": {
    "collapsed": false
   },
   "outputs": [],
   "source": [
    "with open(filepath, 'r') as fh:         # closing of the file handler is taken care\n",
    "    for line in fh:                     # by the context manager as soon as the program execution\n",
    "        print line                      # exits the scope of with block.\n",
    "    "
   ]
  },
  {
   "cell_type": "markdown",
   "metadata": {},
   "source": [
    "### Writing to file"
   ]
  },
  {
   "cell_type": "code",
   "execution_count": null,
   "metadata": {
    "collapsed": false
   },
   "outputs": [],
   "source": [
    "newfile = 'D:\\Python Training\\junk.txt'\n",
    "with open(newfile, 'w+') as fh:\n",
    "    fh.write(\"This is to test write operation in file.\\nWe can write the whole content in one go using write method.\\n\")\n",
    "    fh.writelines(['We can pass a list of lines to writelines\\n', 'Need to pass in EOL char for each line\\n'])\n",
    "    fh.seek(0)\n",
    "    print fh.read()   \n",
    "\n",
    "    "
   ]
  },
  {
   "cell_type": "markdown",
   "metadata": {},
   "source": [
    "#### File modes"
   ]
  },
  {
   "cell_type": "markdown",
   "metadata": {},
   "source": [
    "##### modes\n",
    "\n",
    "- r  - opens a file in read mode\n",
    "- rb - opens a file for reading in a binary mode. Used in reading non-text files\n",
    "- r+ - opens in read-write mode\n",
    "- w  - opens the file in write mode. Will overwrite existing content if any. Will create a new file if file does not exist.\n",
    "- wb - write in binary mode\n",
    "- w+ - opens in read - write mode\n",
    "- a  - opens in append mode. Will write to the end of file\n",
    "\n"
   ]
  }
 ],
 "metadata": {
  "kernelspec": {
   "display_name": "Python 2",
   "language": "python",
   "name": "python2"
  },
  "language_info": {
   "codemirror_mode": {
    "name": "ipython",
    "version": 2
   },
   "file_extension": ".py",
   "mimetype": "text/x-python",
   "name": "python",
   "nbconvert_exporter": "python",
   "pygments_lexer": "ipython2",
   "version": "2.7.11"
  }
 },
 "nbformat": 4,
 "nbformat_minor": 0
}
