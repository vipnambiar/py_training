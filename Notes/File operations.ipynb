{
 "cells": [
  {
   "cell_type": "markdown",
   "metadata": {},
   "source": [
    "# File I/O\n",
    "------------\n"
   ]
  },
  {
   "cell_type": "markdown",
   "metadata": {},
   "source": [
    "### Reading a file"
   ]
  },
  {
   "cell_type": "code",
   "execution_count": null,
   "metadata": {
    "collapsed": false,
    "scrolled": true
   },
   "outputs": [],
   "source": [
    "filepath = 'D:\\Python Training\\Notes\\To Do.txt'\n",
    "\n",
    "fh = open(filepath, 'r')\n",
    "# Alternate way\n",
    "# fp = file(filepath, 'r')\n",
    "\n",
    "for line in fh:\n",
    "    print line\n",
    "fh.close()\n"
   ]
  },
  {
   "cell_type": "code",
   "execution_count": null,
   "metadata": {
    "collapsed": false
   },
   "outputs": [],
   "source": [
    "# Reading all the contents at one go\n",
    "fh = open(filepath, 'r')\n",
    "\n",
    "data = fh.read()\n",
    "fh.close()\n",
    "print data"
   ]
  },
  {
   "cell_type": "code",
   "execution_count": null,
   "metadata": {
    "collapsed": false
   },
   "outputs": [],
   "source": [
    "# Reading specific bytes from a file\n",
    "\n",
    "fh = open(filepath, 'r')\n",
    "\n",
    "data = fh.read(100)\n",
    "fh.close()\n",
    "print data"
   ]
  },
  {
   "cell_type": "code",
   "execution_count": null,
   "metadata": {
    "collapsed": false
   },
   "outputs": [],
   "source": [
    "# How to move the file pointer to a specific location in the file\n",
    "\n",
    "fh = open(filepath, 'r')\n",
    "\n",
    "print fh.tell()    # Beginning of the file\n",
    "fh.seek(50)        # Move the pointer by 50 bytes from beginning\n",
    "print fh.tell()    # Current position\n",
    "fh.seek(-5, 1)     # Move 10 bytes backword from current position\n",
    "print fh.tell()    # New position\n",
    "fh.seek(0, 2)      # Goto end of file\n",
    "print fh.tell()    # position at End of file\n",
    "fh.close()"
   ]
  },
  {
   "cell_type": "markdown",
   "metadata": {},
   "source": [
    "### A better way of reading files (Recommended way)\n",
    "\n",
    "#### Using the `with` context manager"
   ]
  },
  {
   "cell_type": "code",
   "execution_count": null,
   "metadata": {
    "collapsed": false
   },
   "outputs": [],
   "source": [
    "with open(filepath, 'r') as fh:         # closing of the file handler is taken care\n",
    "    for line in fh:                     # by the context manager as soon as the program execution\n",
    "        print line                      # exits the scope of with block.\n",
    "    "
   ]
  },
  {
   "cell_type": "markdown",
   "metadata": {},
   "source": [
    "### Writing to file"
   ]
  },
  {
   "cell_type": "markdown",
   "metadata": {},
   "source": [
    "#### File modes"
   ]
  },
  {
   "cell_type": "code",
   "execution_count": 2,
   "metadata": {
    "collapsed": false
   },
   "outputs": [
    {
     "name": "stdout",
     "output_type": "stream",
     "text": [
      "This is to test write operation in file.\n",
      "We can write the whole content in one go using write method.\n",
      "We can pass a list of lines to writelines\n",
      "Need to pass in EOL char for each line\n"
     ]
    }
   ],
   "source": [
    "newfile = 'D:\\Python Training\\junk.txt'\n",
    "with open(newfile, 'w+') as fh:\n",
    "    fh.write(\"This is to test write operation in file.\\nWe can write the whole content in one go using write method.\\n\")\n",
    "    fh.writelines(['We can pass a list of lines to writelines\\n', 'Need to pass in EOL char for each line'])\n",
    "    fh.seek(0)\n",
    "    print fh.read()   \n",
    "\n",
    "    "
   ]
  },
  {
   "cell_type": "markdown",
   "metadata": {},
   "source": [
    "##### modes\n",
    "\n",
    "- r  - opens a file in read mode\n",
    "- rb - opens a file for reading in a binary mode. Used in reading non-text files\n",
    "- r+ - opens in read-write mode\n",
    "- w  - opens the file in write mode. Will overwrite existing content if any. Will create a new file if file does not exist.\n",
    "- wb - write in binary mode\n",
    "- w+ - opens in read - write mode\n",
    "- a  - opens in append mode. Will write to the end of file\n",
    "\n"
   ]
  },
  {
   "cell_type": "code",
   "execution_count": 6,
   "metadata": {
    "collapsed": false
   },
   "outputs": [
    {
     "name": "stdout",
     "output_type": "stream",
     "text": [
      "junk.txt\n",
      "D:\\Python Training\n"
     ]
    }
   ],
   "source": [
    "import os\n",
    "print os.path.basename(newfile)\n",
    "print os.path.dirname(newfile)"
   ]
  },
  {
   "cell_type": "code",
   "execution_count": 7,
   "metadata": {
    "collapsed": false
   },
   "outputs": [
    {
     "data": {
      "text/plain": [
       "('D:\\\\Python Training', 'junk.txt')"
      ]
     },
     "execution_count": 7,
     "metadata": {},
     "output_type": "execute_result"
    }
   ],
   "source": [
    "os.path.split(newfile)"
   ]
  },
  {
   "cell_type": "code",
   "execution_count": 8,
   "metadata": {
    "collapsed": false
   },
   "outputs": [
    {
     "data": {
      "text/plain": [
       "'D:\\\\Python Training\\\\Notes'"
      ]
     },
     "execution_count": 8,
     "metadata": {},
     "output_type": "execute_result"
    }
   ],
   "source": [
    "os.path.join('D:\\\\Python Training', 'Notes')"
   ]
  },
  {
   "cell_type": "code",
   "execution_count": 9,
   "metadata": {
    "collapsed": false
   },
   "outputs": [
    {
     "name": "stdout",
     "output_type": "stream",
     "text": [
      "dirname: D:\\Python Training, folders: ['.git', 'Exercises', 'Notes', 'Source'], filenames: ['.gitignore', 'junk.txt', 'python_training.sublime-project', 'python_training.sublime-workspace']\n",
      "dirname: D:\\Python Training\\.git, folders: ['hooks', 'info', 'logs', 'objects', 'refs'], filenames: ['COMMIT_EDITMSG', 'config', 'description', 'FETCH_HEAD', 'HEAD', 'index', 'ORIG_HEAD']\n",
      "dirname: D:\\Python Training\\.git\\hooks, folders: [], filenames: ['applypatch-msg.sample', 'commit-msg.sample', 'post-update.sample', 'pre-applypatch.sample', 'pre-commit.sample', 'pre-push.sample', 'pre-rebase.sample', 'prepare-commit-msg.sample', 'update.sample']\n",
      "dirname: D:\\Python Training\\.git\\info, folders: [], filenames: ['exclude']\n",
      "dirname: D:\\Python Training\\.git\\logs, folders: ['refs'], filenames: ['HEAD']\n",
      "dirname: D:\\Python Training\\.git\\logs\\refs, folders: ['heads', 'remotes'], filenames: []\n",
      "dirname: D:\\Python Training\\.git\\logs\\refs\\heads, folders: ['origin'], filenames: ['master']\n",
      "dirname: D:\\Python Training\\.git\\logs\\refs\\heads\\origin, folders: [], filenames: []\n",
      "dirname: D:\\Python Training\\.git\\logs\\refs\\remotes, folders: ['origin'], filenames: []\n",
      "dirname: D:\\Python Training\\.git\\logs\\refs\\remotes\\origin, folders: [], filenames: ['master']\n",
      "dirname: D:\\Python Training\\.git\\objects, folders: ['04', '0b', '0e', '0f', '1d', '28', '2a', '2b', '2f', '30', '31', '3a', '41', '4a', '4b', '4c', '4e', '53', '59', '5b', '5e', '5f', '65', '66', '6a', '6d', '76', '79', '86', '87', '8a', '90', '92', '9a', '9d', 'a4', 'a9', 'ab', 'b7', 'b8', 'b9', 'ba', 'bb', 'bc', 'bd', 'c0', 'c3', 'c4', 'ca', 'cb', 'cc', 'd2', 'dc', 'de', 'e6', 'e7', 'e8', 'ed', 'f2', 'fa', 'fb', 'info', 'pack'], filenames: []\n",
      "dirname: D:\\Python Training\\.git\\objects\\04, folders: [], filenames: ['adff6990d511e4be6935d6c37469d38d577d05']\n",
      "dirname: D:\\Python Training\\.git\\objects\\0b, folders: [], filenames: ['b0c64d1bcd4e1fdb9c462cb06768201b9531fb']\n",
      "dirname: D:\\Python Training\\.git\\objects\\0e, folders: [], filenames: ['379c52ad505080a6ebb30ca5a100cd0515ab9a', 'a9d9974d8e34ba6044a85dc11267bbb4baec3c']\n",
      "dirname: D:\\Python Training\\.git\\objects\\0f, folders: [], filenames: ['6137bf911d229701d3a17a60ce6205932f8653', '781281a0e2e8fa89cff2861c096e4a53de35bf']\n",
      "dirname: D:\\Python Training\\.git\\objects\\1d, folders: [], filenames: ['bc687de014ee027b4e6c0d7f2a37ee7636137e']\n",
      "dirname: D:\\Python Training\\.git\\objects\\28, folders: [], filenames: ['8b87b1f30fcaf9fa4d11509b814415b375a645']\n",
      "dirname: D:\\Python Training\\.git\\objects\\2a, folders: [], filenames: ['e05b92444bb74e5b70a40aff63dfbab36e2c47']\n",
      "dirname: D:\\Python Training\\.git\\objects\\2b, folders: [], filenames: ['01043da3dcc17578a5fdf0dda35b81325fe494']\n",
      "dirname: D:\\Python Training\\.git\\objects\\2f, folders: [], filenames: ['3d8baf87b8608efaf425d8bb975e62480d0db0']\n",
      "dirname: D:\\Python Training\\.git\\objects\\30, folders: [], filenames: ['bfaa41550d555ff37f6c0e44248dc4222d700d']\n",
      "dirname: D:\\Python Training\\.git\\objects\\31, folders: [], filenames: ['1c36e7d171f9319c94989dd3b8415386d0b042']\n",
      "dirname: D:\\Python Training\\.git\\objects\\3a, folders: [], filenames: ['25f64f03579a7ff58434fd6d63d4634b001985']\n",
      "dirname: D:\\Python Training\\.git\\objects\\41, folders: [], filenames: ['063d3edf45c099d0a04a7703b7cbe8d96f1bb4']\n",
      "dirname: D:\\Python Training\\.git\\objects\\4a, folders: [], filenames: ['5aba90b9084f4c97a6737c9c12171a167ad43f']\n",
      "dirname: D:\\Python Training\\.git\\objects\\4b, folders: [], filenames: ['825dc642cb6eb9a060e54bf8d69288fbee4904']\n",
      "dirname: D:\\Python Training\\.git\\objects\\4c, folders: [], filenames: ['a04b4fc057c9063e3a610d7c892df479742ebe']\n",
      "dirname: D:\\Python Training\\.git\\objects\\4e, folders: [], filenames: ['4126540347e0f9c04ac2aa41d5c8cf6d9f93a4', '58eb3b8b328290cdf107831fc976dc450cd7f8']\n",
      "dirname: D:\\Python Training\\.git\\objects\\53, folders: [], filenames: ['9b4be45fd67ddcdaad219403a491d8b103b4a9']\n",
      "dirname: D:\\Python Training\\.git\\objects\\59, folders: [], filenames: ['26e82ac8a7612d0da39f0beb271aca9e636894', 'b08660a1e2b12f3c9b196cae579a02577063f3']\n",
      "dirname: D:\\Python Training\\.git\\objects\\5b, folders: [], filenames: ['8ce0f959656f8b6389c00bfb2a496f415c25c9']\n",
      "dirname: D:\\Python Training\\.git\\objects\\5e, folders: [], filenames: ['ace36671baf2f6433761f10925652b8e6725ab']\n",
      "dirname: D:\\Python Training\\.git\\objects\\5f, folders: [], filenames: ['b40567ab0467896ab4294af7cba3fc8c418864']\n",
      "dirname: D:\\Python Training\\.git\\objects\\65, folders: [], filenames: ['1375acd0717701134b1e8031ea1ece345be268']\n",
      "dirname: D:\\Python Training\\.git\\objects\\66, folders: [], filenames: ['5d65c2a63066b0ddb793c49bd9d87a7cdd802b']\n",
      "dirname: D:\\Python Training\\.git\\objects\\6a, folders: [], filenames: ['e28104c2f185a0241e86b8e224cd409e8337ec']\n",
      "dirname: D:\\Python Training\\.git\\objects\\6d, folders: [], filenames: ['f49b2fb86bebb317bff22c768f7ab0d142879f']\n",
      "dirname: D:\\Python Training\\.git\\objects\\76, folders: [], filenames: ['ee30d30421610d942320870848c357a6f9ee07']\n",
      "dirname: D:\\Python Training\\.git\\objects\\79, folders: [], filenames: ['1de030f3c88419bf78dea7505493f0a3de6f04']\n",
      "dirname: D:\\Python Training\\.git\\objects\\86, folders: [], filenames: ['bbf5548f75ecd426677f7a297acfb021ebe383', 'd884e260170f697be611bd6881660d9730a849']\n",
      "dirname: D:\\Python Training\\.git\\objects\\87, folders: [], filenames: ['620ac7e74efee566c6ee9d2ed7281ebafb4788']\n",
      "dirname: D:\\Python Training\\.git\\objects\\8a, folders: [], filenames: ['3e7bfa3d5e354c19abda268ec496b5739982a0']\n",
      "dirname: D:\\Python Training\\.git\\objects\\90, folders: [], filenames: ['24579908faa7299ab2999cba4653c3510929cf']\n",
      "dirname: D:\\Python Training\\.git\\objects\\92, folders: [], filenames: ['37b92032eec57e8a7eb1735fe6e1a5a32c2a0c']\n",
      "dirname: D:\\Python Training\\.git\\objects\\9a, folders: [], filenames: ['cf4f50639a4b5237dbe4c796aae4037475c5f0']\n",
      "dirname: D:\\Python Training\\.git\\objects\\9d, folders: [], filenames: ['838bcdb94545cd56dde13ac3bddd4ebc609e4c']\n",
      "dirname: D:\\Python Training\\.git\\objects\\a4, folders: [], filenames: ['918b0cd76238f2a4443102038e29ab232b0554']\n",
      "dirname: D:\\Python Training\\.git\\objects\\a9, folders: [], filenames: ['8af7264e78ea351e32d9ba34defb3ea04c0847']\n",
      "dirname: D:\\Python Training\\.git\\objects\\ab, folders: [], filenames: ['d3ee74073d8a7c71a0a5c11885217f07760758']\n",
      "dirname: D:\\Python Training\\.git\\objects\\b7, folders: [], filenames: ['409fa3531fe78a728f7c31c85bacd9d5bc2238']\n",
      "dirname: D:\\Python Training\\.git\\objects\\b8, folders: [], filenames: ['57beb6ef60966d5ad0228dad700f661132bc9b']\n",
      "dirname: D:\\Python Training\\.git\\objects\\b9, folders: [], filenames: ['2360f806f766898c8e5fa971675f647d740671']\n",
      "dirname: D:\\Python Training\\.git\\objects\\ba, folders: [], filenames: ['b697a5f99509b0660a541f1a2645edf32ad1b3']\n",
      "dirname: D:\\Python Training\\.git\\objects\\bb, folders: [], filenames: ['3769cb3d836918990284d22fb1432421f17780']\n",
      "dirname: D:\\Python Training\\.git\\objects\\bc, folders: [], filenames: ['66a85f53b77b78f39d60b3459c85370e33a088']\n",
      "dirname: D:\\Python Training\\.git\\objects\\bd, folders: [], filenames: ['24b79930f6093a288904408c9c62bcb0b91f30', '437426ebc741e09227c90016e74efbd066177e']\n",
      "dirname: D:\\Python Training\\.git\\objects\\c0, folders: [], filenames: ['47224b14fd531707ec2585c6af670993fcbcea']\n",
      "dirname: D:\\Python Training\\.git\\objects\\c3, folders: [], filenames: ['0791d2978fcf42c49a2b5962b099a77d2cffff']\n",
      "dirname: D:\\Python Training\\.git\\objects\\c4, folders: [], filenames: ['c24d7dddb586a6c118b9b079686ea5abf484cf']\n",
      "dirname: D:\\Python Training\\.git\\objects\\ca, folders: [], filenames: ['528f897bfaaa7ea767f1eda61148adca6cb998']\n",
      "dirname: D:\\Python Training\\.git\\objects\\cb, folders: [], filenames: ['e7d620ec8c299812a21a89a5bfca3591ae0e7e']\n",
      "dirname: D:\\Python Training\\.git\\objects\\cc, folders: [], filenames: ['a42e6ab372df94b029580866eae1fdbb338fe0']\n",
      "dirname: D:\\Python Training\\.git\\objects\\d2, folders: [], filenames: ['35e26a0ef94d0d0418ec12eae99ba370bf01d2', 'bc0d25a143b78c99e9b9f284386dd623dd95be']\n",
      "dirname: D:\\Python Training\\.git\\objects\\dc, folders: [], filenames: ['c8860103d2b2c6cc7b82205935a3855f0a3704']\n",
      "dirname: D:\\Python Training\\.git\\objects\\de, folders: [], filenames: ['13e993bbeece250f8b0ceb863486581e8a5779']\n",
      "dirname: D:\\Python Training\\.git\\objects\\e6, folders: [], filenames: ['7735b938c0beaf6c5f2a72c95027b99f86bb1c', '9de29bb2d1d6434b8b29ae775ad8c2e48c5391', 'e11afa0684fb8e8faf81318e11859811e15486']\n",
      "dirname: D:\\Python Training\\.git\\objects\\e7, folders: [], filenames: ['24e41f78dc11f04064768f9c2e853ae981149e', 'a304ead49a8c2dbc43d106955f068cd5894277']\n",
      "dirname: D:\\Python Training\\.git\\objects\\e8, folders: [], filenames: ['37d21b08ff5ed4ff03d087fd20753cf8593ace']\n",
      "dirname: D:\\Python Training\\.git\\objects\\ed, folders: [], filenames: ['3e1b2c49e0b61472a8210042cdc982b223a468']\n",
      "dirname: D:\\Python Training\\.git\\objects\\f2, folders: [], filenames: ['05134290779c7a9962540717abd01ded2bc61e']\n",
      "dirname: D:\\Python Training\\.git\\objects\\fa, folders: [], filenames: ['7ecfca68d8df984f2eedae099bce0beba60d69']\n",
      "dirname: D:\\Python Training\\.git\\objects\\fb, folders: [], filenames: ['9342691e7e6d2b1806ee661f0f1abd3f4724b3']\n",
      "dirname: D:\\Python Training\\.git\\objects\\info, folders: [], filenames: []\n",
      "dirname: D:\\Python Training\\.git\\objects\\pack, folders: [], filenames: []\n",
      "dirname: D:\\Python Training\\.git\\refs, folders: ['heads', 'remotes', 'tags'], filenames: []\n",
      "dirname: D:\\Python Training\\.git\\refs\\heads, folders: ['origin'], filenames: ['master']\n",
      "dirname: D:\\Python Training\\.git\\refs\\heads\\origin, folders: [], filenames: []\n",
      "dirname: D:\\Python Training\\.git\\refs\\remotes, folders: ['origin'], filenames: []\n",
      "dirname: D:\\Python Training\\.git\\refs\\remotes\\origin, folders: [], filenames: ['master']\n",
      "dirname: D:\\Python Training\\.git\\refs\\tags, folders: [], filenames: []\n",
      "dirname: D:\\Python Training\\Exercises, folders: [], filenames: ['exercise_1.txt']\n",
      "dirname: D:\\Python Training\\Notes, folders: ['.ipynb_checkpoints'], filenames: ['.gitignore', 'Basics.ipynb', 'Control Statements.ipynb', 'Databases and DBAPI.ipynb', 'Datetime.ipynb', 'Descriptor protocol.ipynb', 'Duck Typing.ipynb', 'Exception Handling.ipynb', 'File and path manipulation.ipynb', 'File operations.ipynb', 'Functional programing.ipynb', 'Functions.ipynb', 'Index and Slicing.ipynb', 'List operations.ipynb', 'OOPS_concepts.ipynb', 'Set operations.ipynb', 'Tuples and Dictionaries.ipynb', 'Untitled.ipynb', 'Zen of Python.ipynb']\n",
      "dirname: D:\\Python Training\\Notes\\.ipynb_checkpoints, folders: [], filenames: ['Basics-checkpoint.ipynb', 'Control Statements-checkpoint.ipynb', 'Descriptor protocol-checkpoint.ipynb', 'Exception Handling-checkpoint.ipynb', 'File operations-checkpoint.ipynb', 'Functional programing-checkpoint.ipynb', 'Functions-checkpoint.ipynb', 'Index and Slicing-checkpoint.ipynb', 'List operations-checkpoint.ipynb', 'OOPS_concepts-checkpoint.ipynb', 'Tuples and Dictionaries-checkpoint.ipynb', 'Untitled-checkpoint.ipynb']\n",
      "dirname: D:\\Python Training\\Source, folders: ['.git', '.vscode', 'euler_problems', 'pkg1', 'pkg2'], filenames: ['.gitignore']\n",
      "dirname: D:\\Python Training\\Source\\.git, folders: ['hooks', 'info', 'logs', 'objects', 'refs'], filenames: ['COMMIT_EDITMSG', 'config', 'description', 'FETCH_HEAD', 'HEAD', 'index', 'ORIG_HEAD']\n",
      "dirname: D:\\Python Training\\Source\\.git\\hooks, folders: [], filenames: ['applypatch-msg.sample', 'commit-msg.sample', 'post-update.sample', 'pre-applypatch.sample', 'pre-commit.sample', 'pre-push.sample', 'pre-rebase.sample', 'prepare-commit-msg.sample', 'update.sample']\n",
      "dirname: D:\\Python Training\\Source\\.git\\info, folders: [], filenames: ['exclude']\n",
      "dirname: D:\\Python Training\\Source\\.git\\logs, folders: ['refs'], filenames: ['HEAD']\n",
      "dirname: D:\\Python Training\\Source\\.git\\logs\\refs, folders: ['heads', 'remotes'], filenames: []\n",
      "dirname: D:\\Python Training\\Source\\.git\\logs\\refs\\heads, folders: [], filenames: ['master']\n",
      "dirname: D:\\Python Training\\Source\\.git\\logs\\refs\\remotes, folders: ['origin'], filenames: []\n",
      "dirname: D:\\Python Training\\Source\\.git\\logs\\refs\\remotes\\origin, folders: [], filenames: ['master']\n",
      "dirname: D:\\Python Training\\Source\\.git\\objects, folders: ['0b', '0f', '1d', '2b', '41', '4a', '4c', '53', '59', '5e', '5f', '66', '76', '79', '86', '87', '8a', '90', '92', '9a', '9d', '9e', 'a9', 'ab', 'b7', 'ba', 'bb', 'bc', 'bd', 'c0', 'c3', 'ca', 'cb', 'cc', 'dc', 'e6', 'e7', 'e8', 'ed', 'f2', 'fa', 'info', 'pack'], filenames: []\n",
      "dirname: D:\\Python Training\\Source\\.git\\objects\\0b, folders: [], filenames: ['b0c64d1bcd4e1fdb9c462cb06768201b9531fb']\n",
      "dirname: D:\\Python Training\\Source\\.git\\objects\\0f, folders: [], filenames: ['781281a0e2e8fa89cff2861c096e4a53de35bf']\n",
      "dirname: D:\\Python Training\\Source\\.git\\objects\\1d, folders: [], filenames: ['bc687de014ee027b4e6c0d7f2a37ee7636137e']\n",
      "dirname: D:\\Python Training\\Source\\.git\\objects\\2b, folders: [], filenames: ['01043da3dcc17578a5fdf0dda35b81325fe494']\n",
      "dirname: D:\\Python Training\\Source\\.git\\objects\\41, folders: [], filenames: ['063d3edf45c099d0a04a7703b7cbe8d96f1bb4']\n",
      "dirname: D:\\Python Training\\Source\\.git\\objects\\4a, folders: [], filenames: ['5aba90b9084f4c97a6737c9c12171a167ad43f']\n",
      "dirname: D:\\Python Training\\Source\\.git\\objects\\4c, folders: [], filenames: ['a04b4fc057c9063e3a610d7c892df479742ebe']\n",
      "dirname: D:\\Python Training\\Source\\.git\\objects\\53, folders: [], filenames: ['9b4be45fd67ddcdaad219403a491d8b103b4a9']\n",
      "dirname: D:\\Python Training\\Source\\.git\\objects\\59, folders: [], filenames: ['26e82ac8a7612d0da39f0beb271aca9e636894', 'b08660a1e2b12f3c9b196cae579a02577063f3']\n",
      "dirname: D:\\Python Training\\Source\\.git\\objects\\5e, folders: [], filenames: ['ace36671baf2f6433761f10925652b8e6725ab']\n",
      "dirname: D:\\Python Training\\Source\\.git\\objects\\5f, folders: [], filenames: ['b40567ab0467896ab4294af7cba3fc8c418864']\n",
      "dirname: D:\\Python Training\\Source\\.git\\objects\\66, folders: [], filenames: ['5d65c2a63066b0ddb793c49bd9d87a7cdd802b']\n",
      "dirname: D:\\Python Training\\Source\\.git\\objects\\76, folders: [], filenames: ['ee30d30421610d942320870848c357a6f9ee07']\n",
      "dirname: D:\\Python Training\\Source\\.git\\objects\\79, folders: [], filenames: ['1de030f3c88419bf78dea7505493f0a3de6f04']\n",
      "dirname: D:\\Python Training\\Source\\.git\\objects\\86, folders: [], filenames: ['bbf5548f75ecd426677f7a297acfb021ebe383']\n",
      "dirname: D:\\Python Training\\Source\\.git\\objects\\87, folders: [], filenames: ['620ac7e74efee566c6ee9d2ed7281ebafb4788']\n",
      "dirname: D:\\Python Training\\Source\\.git\\objects\\8a, folders: [], filenames: ['3e7bfa3d5e354c19abda268ec496b5739982a0']\n",
      "dirname: D:\\Python Training\\Source\\.git\\objects\\90, folders: [], filenames: ['24579908faa7299ab2999cba4653c3510929cf']\n",
      "dirname: D:\\Python Training\\Source\\.git\\objects\\92, folders: [], filenames: ['37b92032eec57e8a7eb1735fe6e1a5a32c2a0c']\n",
      "dirname: D:\\Python Training\\Source\\.git\\objects\\9a, folders: [], filenames: ['cf4f50639a4b5237dbe4c796aae4037475c5f0']\n",
      "dirname: D:\\Python Training\\Source\\.git\\objects\\9d, folders: [], filenames: ['838bcdb94545cd56dde13ac3bddd4ebc609e4c']\n",
      "dirname: D:\\Python Training\\Source\\.git\\objects\\9e, folders: [], filenames: ['5d2a15167e3e8cfd8e6f9dc97e8fbcd126daf5']\n",
      "dirname: D:\\Python Training\\Source\\.git\\objects\\a9, folders: [], filenames: ['8af7264e78ea351e32d9ba34defb3ea04c0847']\n",
      "dirname: D:\\Python Training\\Source\\.git\\objects\\ab, folders: [], filenames: ['d3ee74073d8a7c71a0a5c11885217f07760758']\n",
      "dirname: D:\\Python Training\\Source\\.git\\objects\\b7, folders: [], filenames: ['409fa3531fe78a728f7c31c85bacd9d5bc2238']\n",
      "dirname: D:\\Python Training\\Source\\.git\\objects\\ba, folders: [], filenames: ['b697a5f99509b0660a541f1a2645edf32ad1b3']\n",
      "dirname: D:\\Python Training\\Source\\.git\\objects\\bb, folders: [], filenames: ['3769cb3d836918990284d22fb1432421f17780']\n",
      "dirname: D:\\Python Training\\Source\\.git\\objects\\bc, folders: [], filenames: ['66a85f53b77b78f39d60b3459c85370e33a088']\n",
      "dirname: D:\\Python Training\\Source\\.git\\objects\\bd, folders: [], filenames: ['24b79930f6093a288904408c9c62bcb0b91f30', '437426ebc741e09227c90016e74efbd066177e']\n",
      "dirname: D:\\Python Training\\Source\\.git\\objects\\c0, folders: [], filenames: ['47224b14fd531707ec2585c6af670993fcbcea']\n",
      "dirname: D:\\Python Training\\Source\\.git\\objects\\c3, folders: [], filenames: ['0791d2978fcf42c49a2b5962b099a77d2cffff']\n",
      "dirname: D:\\Python Training\\Source\\.git\\objects\\ca, folders: [], filenames: ['528f897bfaaa7ea767f1eda61148adca6cb998']\n",
      "dirname: D:\\Python Training\\Source\\.git\\objects\\cb, folders: [], filenames: ['e7d620ec8c299812a21a89a5bfca3591ae0e7e']\n",
      "dirname: D:\\Python Training\\Source\\.git\\objects\\cc, folders: [], filenames: ['a42e6ab372df94b029580866eae1fdbb338fe0']\n",
      "dirname: D:\\Python Training\\Source\\.git\\objects\\dc, folders: [], filenames: ['c8860103d2b2c6cc7b82205935a3855f0a3704']\n",
      "dirname: D:\\Python Training\\Source\\.git\\objects\\e6, folders: [], filenames: ['7735b938c0beaf6c5f2a72c95027b99f86bb1c', '9de29bb2d1d6434b8b29ae775ad8c2e48c5391', 'e11afa0684fb8e8faf81318e11859811e15486']\n",
      "dirname: D:\\Python Training\\Source\\.git\\objects\\e7, folders: [], filenames: ['a304ead49a8c2dbc43d106955f068cd5894277']\n",
      "dirname: D:\\Python Training\\Source\\.git\\objects\\e8, folders: [], filenames: ['37d21b08ff5ed4ff03d087fd20753cf8593ace']\n",
      "dirname: D:\\Python Training\\Source\\.git\\objects\\ed, folders: [], filenames: ['3e1b2c49e0b61472a8210042cdc982b223a468']\n",
      "dirname: D:\\Python Training\\Source\\.git\\objects\\f2, folders: [], filenames: ['05134290779c7a9962540717abd01ded2bc61e']\n",
      "dirname: D:\\Python Training\\Source\\.git\\objects\\fa, folders: [], filenames: ['7ecfca68d8df984f2eedae099bce0beba60d69']\n",
      "dirname: D:\\Python Training\\Source\\.git\\objects\\info, folders: [], filenames: []\n",
      "dirname: D:\\Python Training\\Source\\.git\\objects\\pack, folders: [], filenames: []\n",
      "dirname: D:\\Python Training\\Source\\.git\\refs, folders: ['heads', 'remotes', 'tags'], filenames: []\n",
      "dirname: D:\\Python Training\\Source\\.git\\refs\\heads, folders: [], filenames: ['master']\n",
      "dirname: D:\\Python Training\\Source\\.git\\refs\\remotes, folders: ['origin'], filenames: []\n",
      "dirname: D:\\Python Training\\Source\\.git\\refs\\remotes\\origin, folders: [], filenames: ['master']\n",
      "dirname: D:\\Python Training\\Source\\.git\\refs\\tags, folders: [], filenames: []\n",
      "dirname: D:\\Python Training\\Source\\.vscode, folders: [], filenames: ['tasks.json']\n",
      "dirname: D:\\Python Training\\Source\\euler_problems, folders: [], filenames: ['count_sundays.py']\n",
      "dirname: D:\\Python Training\\Source\\pkg1, folders: ['__pycache__'], filenames: ['module1.py', 'module1.pyc', '__init__.py', '__init__.pyc']\n",
      "dirname: D:\\Python Training\\Source\\pkg1\\__pycache__, folders: [], filenames: ['module1.cpython-34.pyc', '__init__.cpython-34.pyc']\n",
      "dirname: D:\\Python Training\\Source\\pkg2, folders: ['__pycache__'], filenames: ['module2.py', '__init__.py']\n",
      "dirname: D:\\Python Training\\Source\\pkg2\\__pycache__, folders: [], filenames: ['module2.cpython-34.pyc', '__init__.cpython-34.pyc']\n"
     ]
    }
   ],
   "source": [
    "for dirname, folders, filenames in os.walk(\"D:\\\\Python Training\"):\n",
    "    print \"dirname: %s, folders: %s, filenames: %s\" % (dirname, folders, filenames)"
   ]
  },
  {
   "cell_type": "code",
   "execution_count": null,
   "metadata": {
    "collapsed": true
   },
   "outputs": [],
   "source": []
  }
 ],
 "metadata": {
  "kernelspec": {
   "display_name": "Python 2",
   "language": "python",
   "name": "python2"
  },
  "language_info": {
   "codemirror_mode": {
    "name": "ipython",
    "version": 2
   },
   "file_extension": ".py",
   "mimetype": "text/x-python",
   "name": "python",
   "nbconvert_exporter": "python",
   "pygments_lexer": "ipython2",
   "version": "2.7.11"
  }
 },
 "nbformat": 4,
 "nbformat_minor": 0
}
