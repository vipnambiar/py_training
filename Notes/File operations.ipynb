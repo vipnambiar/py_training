{
 "cells": [
  {
   "cell_type": "markdown",
   "metadata": {},
   "source": [
    "# File I/O\n",
    "------------\n"
   ]
  },
  {
   "cell_type": "markdown",
   "metadata": {},
   "source": [
    "### Reading a file"
   ]
  },
  {
   "cell_type": "code",
   "execution_count": 2,
   "metadata": {
    "scrolled": true
   },
   "outputs": [
    {
     "name": "stdout",
     "output_type": "stream",
     "text": [
      "This is to test write operation in file.\n",
      "We can write the whole content in one go using write method.\n",
      "We can pass a list of lines to writelines\n",
      "Need to pass in EOL char for each line\n"
     ]
    }
   ],
   "source": [
    "filepath = 'D:\\Python Training\\To Do.txt'\n",
    "\n",
    "fh = open(filepath, 'r')\n",
    "# Alternate way\n",
    "# fp = file(filepath, 'r')\n",
    "#print dir(fh)\n",
    "for line in fh:\n",
    "    print line,\n",
    "fh.close()\n",
    "#help(fh.isatty)\n"
   ]
  },
  {
   "cell_type": "code",
   "execution_count": 3,
   "metadata": {},
   "outputs": [
    {
     "name": "stdout",
     "output_type": "stream",
     "text": [
      "This is to test write operation in file.\n",
      "We can write the whole content in one go using write method.\n",
      "We can pass a list of lines to writelines\n",
      "Need to pass in EOL char for each line\n"
     ]
    }
   ],
   "source": [
    "# Reading all the contents at one go\n",
    "fh = open(filepath, 'r')\n",
    "\n",
    "data = fh.read()\n",
    "fh.close()\n",
    "print data"
   ]
  },
  {
   "cell_type": "code",
   "execution_count": 6,
   "metadata": {},
   "outputs": [
    {
     "name": "stdout",
     "output_type": "stream",
     "text": [
      "This is to test write operation in file.\n",
      "We can write the whole content in one go using write method\n",
      ".\n",
      "We can pass a list of lines to writelines\n",
      "Need to pass in EOL char for each line\n"
     ]
    }
   ],
   "source": [
    "# Reading specific bytes from a file\n",
    "\n",
    "gh = open(filepath, 'r')\n",
    "\n",
    "data = gh.read(100)\n",
    "#d1 = fh.read()\n",
    "#fh.close()\n",
    "print data\n",
    "print gh.read()\n",
    "gh.close()\n",
    "#help(fh.read)"
   ]
  },
  {
   "cell_type": "code",
   "execution_count": 9,
   "metadata": {},
   "outputs": [
    {
     "name": "stdout",
     "output_type": "stream",
     "text": [
      "0\n",
      "50\n",
      "45\n",
      "185\n"
     ]
    }
   ],
   "source": [
    "# How to move the file pointer to a specific location in the file\n",
    "\n",
    "fh = open(filepath, 'r')\n",
    "\n",
    "print fh.tell()    # Beginning of the file\n",
    "fh.seek(50)        # Move the pointer by 50 bytes from beginning\n",
    "print fh.tell()    # Current position\n",
    "fh.seek(-5, 1)     # Move 5 bytes backword from current position\n",
    "print fh.tell()    # New position\n",
    "fh.seek(0, 2)      # Goto end of file\n",
    "print fh.tell()    # position at End of file\n",
    "fh.close()"
   ]
  },
  {
   "cell_type": "code",
   "execution_count": 2,
   "metadata": {},
   "outputs": [
    {
     "name": "stdout",
     "output_type": "stream",
     "text": [
      "Help on built-in function seek:\n",
      "\n",
      "seek(...)\n",
      "    seek(offset[, whence]) -> None.  Move to new file position.\n",
      "    \n",
      "    Argument offset is a byte count.  Optional argument whence defaults to\n",
      "    0 (offset from start of file, offset should be >= 0); other values are 1\n",
      "    (move relative to current position, positive or negative), and 2 (move\n",
      "    relative to end of file, usually negative, although many platforms allow\n",
      "    seeking beyond the end of a file).  If the file is opened in text mode,\n",
      "    only offsets returned by tell() are legal.  Use of other offsets causes\n",
      "    undefined behavior.\n",
      "    Note that not all file objects are seekable.\n",
      "\n"
     ]
    }
   ],
   "source": [
    "help(fh.seek)"
   ]
  },
  {
   "cell_type": "markdown",
   "metadata": {},
   "source": [
    "### A better way of reading files (Recommended way)\n",
    "\n",
    "#### Using the `with` context manager"
   ]
  },
  {
   "cell_type": "code",
   "execution_count": null,
   "metadata": {
    "collapsed": true
   },
   "outputs": [],
   "source": [
    "with open(filepath, 'r') as fh:         # closing of the file handler is taken care\n",
    "    for line in fh:                     # by the context manager as soon as the program execution\n",
    "        print line                      # exits the scope of with block.\n",
    "    "
   ]
  },
  {
   "cell_type": "markdown",
   "metadata": {},
   "source": [
    "### Writing to file"
   ]
  },
  {
   "cell_type": "markdown",
   "metadata": {},
   "source": [
    "#### File modes"
   ]
  },
  {
   "cell_type": "code",
   "execution_count": 9,
   "metadata": {},
   "outputs": [
    {
     "name": "stdout",
     "output_type": "stream",
     "text": [
      "\n"
     ]
    }
   ],
   "source": [
    "newfile = 'D:\\Python Training\\To Do.txt'\n",
    "with open(newfile, 'w+') as fh:\n",
    "    fh.write(\"This is to test write operation in file.\\nWe can write the whole content in one go using write method.\\n\")\n",
    "    fh.writelines(['We can pass a list of lines to writelines\\n', 'Need to pass in EOL char for each line'])\n",
    "    fh.seek(0, 2)\n",
    "    print fh.read()   \n",
    "\n",
    "    "
   ]
  },
  {
   "cell_type": "markdown",
   "metadata": {},
   "source": [
    "##### modes\n",
    "\n",
    "- r  - opens a file in read mode\n",
    "- rb - opens a file for reading in a binary mode. Used in reading non-text files\n",
    "- r+ - opens in read-write mode\n",
    "- w  - opens the file in write mode. Will overwrite existing content if any. Will create a new file if file does not exist.\n",
    "- wb - write in binary mode\n",
    "- w+ - opens in read - write mode\n",
    "- a  - opens in append mode. Will write to the end of file\n",
    "\n"
   ]
  },
  {
   "cell_type": "code",
   "execution_count": 17,
   "metadata": {},
   "outputs": [
    {
     "name": "stdout",
     "output_type": "stream",
     "text": [
      "To Do.txt\n",
      "D:\\Python Training\n"
     ]
    }
   ],
   "source": [
    "import os\n",
    "print os.path.basename(newfile)\n",
    "print os.path.dirname(newfile)"
   ]
  },
  {
   "cell_type": "code",
   "execution_count": 18,
   "metadata": {},
   "outputs": [
    {
     "data": {
      "text/plain": [
       "('D:\\\\Python Training', 'To Do.txt')"
      ]
     },
     "execution_count": 18,
     "metadata": {},
     "output_type": "execute_result"
    }
   ],
   "source": [
    "os.path.split(newfile)"
   ]
  },
  {
   "cell_type": "code",
   "execution_count": 6,
   "metadata": {},
   "outputs": [
    {
     "data": {
      "text/plain": [
       "'D:\\\\Python Training\\\\Notes'"
      ]
     },
     "execution_count": 6,
     "metadata": {},
     "output_type": "execute_result"
    }
   ],
   "source": [
    "os.path.join('D:\\\\Python Training', 'Notes')"
   ]
  },
  {
   "cell_type": "code",
   "execution_count": 19,
   "metadata": {},
   "outputs": [
    {
     "name": "stdout",
     "output_type": "stream",
     "text": [
      "dirname: D:\\Python Training, folders: ['.git', '.idea', 'Exercises', 'Notes', 'Source', 'Source_old'], filenames: ['.gitignore', 'junk.txt', 'python_training.sublime-project', 'python_training.sublime-workspace', 'To Do.txt']\n",
      "dirname: D:\\Python Training\\.git, folders: ['hooks', 'info', 'logs', 'objects', 'refs'], filenames: ['COMMIT_EDITMSG', 'config', 'description', 'FETCH_HEAD', 'HEAD', 'index', 'ORIG_HEAD']\n",
      "dirname: D:\\Python Training\\.git\\hooks, folders: [], filenames: ['applypatch-msg.sample', 'commit-msg.sample', 'post-update.sample', 'pre-applypatch.sample', 'pre-commit.sample', 'pre-push.sample', 'pre-rebase.sample', 'prepare-commit-msg.sample', 'update.sample']\n",
      "dirname: D:\\Python Training\\.git\\info, folders: [], filenames: ['exclude']\n",
      "dirname: D:\\Python Training\\.git\\logs, folders: ['refs'], filenames: ['HEAD']\n",
      "dirname: D:\\Python Training\\.git\\logs\\refs, folders: ['heads', 'remotes'], filenames: []\n",
      "dirname: D:\\Python Training\\.git\\logs\\refs\\heads, folders: ['origin'], filenames: ['master']\n",
      "dirname: D:\\Python Training\\.git\\logs\\refs\\heads\\origin, folders: [], filenames: []\n",
      "dirname: D:\\Python Training\\.git\\logs\\refs\\remotes, folders: ['origin'], filenames: []\n",
      "dirname: D:\\Python Training\\.git\\logs\\refs\\remotes\\origin, folders: [], filenames: ['master']\n",
      "dirname: D:\\Python Training\\.git\\objects, folders: ['04', '08', '0b', '0e', '0f', '11', '14', '1d', '23', '24', '28', '2a', '2b', '2f', '30', '31', '33', '35', '3a', '41', '43', '4a', '4b', '4c', '4e', '50', '53', '57', '58', '59', '5b', '5e', '5f', '61', '65', '66', '6a', '6b', '6d', '76', '79', '86', '87', '8a', '90', '92', '93', '94', '97', '98', '9a', '9d', 'a1', 'a4', 'a9', 'ab', 'b7', 'b8', 'b9', 'ba', 'bb', 'bc', 'bd', 'c0', 'c2', 'c3', 'c4', 'ca', 'cb', 'cc', 'd2', 'dc', 'de', 'df', 'e5', 'e6', 'e7', 'e8', 'ed', 'f2', 'f9', 'fa', 'fb', 'info', 'pack'], filenames: []\n",
      "dirname: D:\\Python Training\\.git\\objects\\04, folders: [], filenames: ['524b2e4aa30d175db8edce04703216ea1f8a3f', 'adff6990d511e4be6935d6c37469d38d577d05']\n",
      "dirname: D:\\Python Training\\.git\\objects\\08, folders: [], filenames: ['327954b723e6ee9fbb5fd7f2eb4da6c62fa116']\n",
      "dirname: D:\\Python Training\\.git\\objects\\0b, folders: [], filenames: ['b0c64d1bcd4e1fdb9c462cb06768201b9531fb']\n",
      "dirname: D:\\Python Training\\.git\\objects\\0e, folders: [], filenames: ['379c52ad505080a6ebb30ca5a100cd0515ab9a', 'a9d9974d8e34ba6044a85dc11267bbb4baec3c']\n",
      "dirname: D:\\Python Training\\.git\\objects\\0f, folders: [], filenames: ['6137bf911d229701d3a17a60ce6205932f8653', '781281a0e2e8fa89cff2861c096e4a53de35bf']\n",
      "dirname: D:\\Python Training\\.git\\objects\\11, folders: [], filenames: ['663e747dbc06ddbf47d8a35cf6b505c5952eb2']\n",
      "dirname: D:\\Python Training\\.git\\objects\\14, folders: [], filenames: ['c02ea49cb963caa2123f4759ec9fe43b4d118d']\n",
      "dirname: D:\\Python Training\\.git\\objects\\1d, folders: [], filenames: ['bc687de014ee027b4e6c0d7f2a37ee7636137e']\n",
      "dirname: D:\\Python Training\\.git\\objects\\23, folders: [], filenames: ['6aed67fe10938d5c31632bc16dd0313eb3064c']\n",
      "dirname: D:\\Python Training\\.git\\objects\\24, folders: [], filenames: ['d9f5909342bdf8849923fed1045b3fe0f06d41']\n",
      "dirname: D:\\Python Training\\.git\\objects\\28, folders: [], filenames: ['8b87b1f30fcaf9fa4d11509b814415b375a645']\n",
      "dirname: D:\\Python Training\\.git\\objects\\2a, folders: [], filenames: ['e05b92444bb74e5b70a40aff63dfbab36e2c47']\n",
      "dirname: D:\\Python Training\\.git\\objects\\2b, folders: [], filenames: ['01043da3dcc17578a5fdf0dda35b81325fe494']\n",
      "dirname: D:\\Python Training\\.git\\objects\\2f, folders: [], filenames: ['3d8baf87b8608efaf425d8bb975e62480d0db0']\n",
      "dirname: D:\\Python Training\\.git\\objects\\30, folders: [], filenames: ['bfaa41550d555ff37f6c0e44248dc4222d700d']\n",
      "dirname: D:\\Python Training\\.git\\objects\\31, folders: [], filenames: ['1c36e7d171f9319c94989dd3b8415386d0b042']\n",
      "dirname: D:\\Python Training\\.git\\objects\\33, folders: [], filenames: ['af31e4a370f709489aa8323a2d7e5c16c145be']\n",
      "dirname: D:\\Python Training\\.git\\objects\\35, folders: [], filenames: ['b3316f4c133a0a2b1a676c512e6045e0f65aae']\n",
      "dirname: D:\\Python Training\\.git\\objects\\3a, folders: [], filenames: ['25f64f03579a7ff58434fd6d63d4634b001985']\n",
      "dirname: D:\\Python Training\\.git\\objects\\41, folders: [], filenames: ['063d3edf45c099d0a04a7703b7cbe8d96f1bb4']\n",
      "dirname: D:\\Python Training\\.git\\objects\\43, folders: [], filenames: ['c1f1c787a25b9dae5565bf9fd16157343fb073']\n",
      "dirname: D:\\Python Training\\.git\\objects\\4a, folders: [], filenames: ['5aba90b9084f4c97a6737c9c12171a167ad43f']\n",
      "dirname: D:\\Python Training\\.git\\objects\\4b, folders: [], filenames: ['825dc642cb6eb9a060e54bf8d69288fbee4904', '8e9493eb7e70750f4cabd4243a47fffca9c75f', 'e6177a1c746dcdea5d6689a4aea8cd2d3c8a16']\n",
      "dirname: D:\\Python Training\\.git\\objects\\4c, folders: [], filenames: ['a04b4fc057c9063e3a610d7c892df479742ebe']\n",
      "dirname: D:\\Python Training\\.git\\objects\\4e, folders: [], filenames: ['4126540347e0f9c04ac2aa41d5c8cf6d9f93a4', '58eb3b8b328290cdf107831fc976dc450cd7f8']\n",
      "dirname: D:\\Python Training\\.git\\objects\\50, folders: [], filenames: ['3b33dec4b9f14501573c735be0d9260175b317']\n",
      "dirname: D:\\Python Training\\.git\\objects\\53, folders: [], filenames: ['9b4be45fd67ddcdaad219403a491d8b103b4a9']\n",
      "dirname: D:\\Python Training\\.git\\objects\\57, folders: [], filenames: ['cf9345a7ff93181390b26e40240391563e8ae3']\n",
      "dirname: D:\\Python Training\\.git\\objects\\58, folders: [], filenames: ['a5f3202fbccdc542a2adb51aa376c3fea3566e']\n",
      "dirname: D:\\Python Training\\.git\\objects\\59, folders: [], filenames: ['26e82ac8a7612d0da39f0beb271aca9e636894', 'b08660a1e2b12f3c9b196cae579a02577063f3']\n",
      "dirname: D:\\Python Training\\.git\\objects\\5b, folders: [], filenames: ['8ce0f959656f8b6389c00bfb2a496f415c25c9']\n",
      "dirname: D:\\Python Training\\.git\\objects\\5e, folders: [], filenames: ['ace36671baf2f6433761f10925652b8e6725ab']\n",
      "dirname: D:\\Python Training\\.git\\objects\\5f, folders: [], filenames: ['b40567ab0467896ab4294af7cba3fc8c418864']\n",
      "dirname: D:\\Python Training\\.git\\objects\\61, folders: [], filenames: ['a54402faaf1f391a6b709c36f9a290a55ed9c3']\n",
      "dirname: D:\\Python Training\\.git\\objects\\65, folders: [], filenames: ['1375acd0717701134b1e8031ea1ece345be268']\n",
      "dirname: D:\\Python Training\\.git\\objects\\66, folders: [], filenames: ['5d65c2a63066b0ddb793c49bd9d87a7cdd802b']\n",
      "dirname: D:\\Python Training\\.git\\objects\\6a, folders: [], filenames: ['e28104c2f185a0241e86b8e224cd409e8337ec']\n",
      "dirname: D:\\Python Training\\.git\\objects\\6b, folders: [], filenames: ['3a6b704e4f10852a209764df42dbb827138434']\n",
      "dirname: D:\\Python Training\\.git\\objects\\6d, folders: [], filenames: ['f49b2fb86bebb317bff22c768f7ab0d142879f']\n",
      "dirname: D:\\Python Training\\.git\\objects\\76, folders: [], filenames: ['ee30d30421610d942320870848c357a6f9ee07']\n",
      "dirname: D:\\Python Training\\.git\\objects\\79, folders: [], filenames: ['1de030f3c88419bf78dea7505493f0a3de6f04']\n",
      "dirname: D:\\Python Training\\.git\\objects\\86, folders: [], filenames: ['bbf5548f75ecd426677f7a297acfb021ebe383', 'd884e260170f697be611bd6881660d9730a849']\n",
      "dirname: D:\\Python Training\\.git\\objects\\87, folders: [], filenames: ['620ac7e74efee566c6ee9d2ed7281ebafb4788']\n",
      "dirname: D:\\Python Training\\.git\\objects\\8a, folders: [], filenames: ['3e7bfa3d5e354c19abda268ec496b5739982a0']\n",
      "dirname: D:\\Python Training\\.git\\objects\\90, folders: [], filenames: ['24579908faa7299ab2999cba4653c3510929cf']\n",
      "dirname: D:\\Python Training\\.git\\objects\\92, folders: [], filenames: ['37b92032eec57e8a7eb1735fe6e1a5a32c2a0c']\n",
      "dirname: D:\\Python Training\\.git\\objects\\93, folders: [], filenames: ['ad8ff1de98d4092394086dc4884f4e76035316']\n",
      "dirname: D:\\Python Training\\.git\\objects\\94, folders: [], filenames: ['d765cc50cb4dc435b2de4c55c6dfa8a5718971']\n",
      "dirname: D:\\Python Training\\.git\\objects\\97, folders: [], filenames: ['5c76bd334a2e13d1336b60668db19e32e4e0d0']\n",
      "dirname: D:\\Python Training\\.git\\objects\\98, folders: [], filenames: ['47e7d31cec36fdcdfe8f28e7ab9d990c4bb649']\n",
      "dirname: D:\\Python Training\\.git\\objects\\9a, folders: [], filenames: ['cf4f50639a4b5237dbe4c796aae4037475c5f0']\n",
      "dirname: D:\\Python Training\\.git\\objects\\9d, folders: [], filenames: ['838bcdb94545cd56dde13ac3bddd4ebc609e4c']\n",
      "dirname: D:\\Python Training\\.git\\objects\\a1, folders: [], filenames: ['5bec9498089dd7634b486d4f2bdfdd9ff109ae']\n",
      "dirname: D:\\Python Training\\.git\\objects\\a4, folders: [], filenames: ['918b0cd76238f2a4443102038e29ab232b0554']\n",
      "dirname: D:\\Python Training\\.git\\objects\\a9, folders: [], filenames: ['8af7264e78ea351e32d9ba34defb3ea04c0847']\n",
      "dirname: D:\\Python Training\\.git\\objects\\ab, folders: [], filenames: ['d3ee74073d8a7c71a0a5c11885217f07760758']\n",
      "dirname: D:\\Python Training\\.git\\objects\\b7, folders: [], filenames: ['409fa3531fe78a728f7c31c85bacd9d5bc2238']\n",
      "dirname: D:\\Python Training\\.git\\objects\\b8, folders: [], filenames: ['57beb6ef60966d5ad0228dad700f661132bc9b']\n",
      "dirname: D:\\Python Training\\.git\\objects\\b9, folders: [], filenames: ['2360f806f766898c8e5fa971675f647d740671']\n",
      "dirname: D:\\Python Training\\.git\\objects\\ba, folders: [], filenames: ['b697a5f99509b0660a541f1a2645edf32ad1b3']\n",
      "dirname: D:\\Python Training\\.git\\objects\\bb, folders: [], filenames: ['3769cb3d836918990284d22fb1432421f17780']\n",
      "dirname: D:\\Python Training\\.git\\objects\\bc, folders: [], filenames: ['66a85f53b77b78f39d60b3459c85370e33a088']\n",
      "dirname: D:\\Python Training\\.git\\objects\\bd, folders: [], filenames: ['24b79930f6093a288904408c9c62bcb0b91f30', '437426ebc741e09227c90016e74efbd066177e']\n",
      "dirname: D:\\Python Training\\.git\\objects\\c0, folders: [], filenames: ['47224b14fd531707ec2585c6af670993fcbcea']\n",
      "dirname: D:\\Python Training\\.git\\objects\\c2, folders: [], filenames: ['cca5ee2f08161f0a98db5fb1c61e3a378e2daa']\n",
      "dirname: D:\\Python Training\\.git\\objects\\c3, folders: [], filenames: ['0791d2978fcf42c49a2b5962b099a77d2cffff']\n",
      "dirname: D:\\Python Training\\.git\\objects\\c4, folders: [], filenames: ['c24d7dddb586a6c118b9b079686ea5abf484cf']\n",
      "dirname: D:\\Python Training\\.git\\objects\\ca, folders: [], filenames: ['528f897bfaaa7ea767f1eda61148adca6cb998']\n",
      "dirname: D:\\Python Training\\.git\\objects\\cb, folders: [], filenames: ['e7d620ec8c299812a21a89a5bfca3591ae0e7e']\n",
      "dirname: D:\\Python Training\\.git\\objects\\cc, folders: [], filenames: ['a42e6ab372df94b029580866eae1fdbb338fe0']\n",
      "dirname: D:\\Python Training\\.git\\objects\\d2, folders: [], filenames: ['35e26a0ef94d0d0418ec12eae99ba370bf01d2', 'bc0d25a143b78c99e9b9f284386dd623dd95be']\n",
      "dirname: D:\\Python Training\\.git\\objects\\dc, folders: [], filenames: ['c8860103d2b2c6cc7b82205935a3855f0a3704']\n",
      "dirname: D:\\Python Training\\.git\\objects\\de, folders: [], filenames: ['13e993bbeece250f8b0ceb863486581e8a5779']\n",
      "dirname: D:\\Python Training\\.git\\objects\\df, folders: [], filenames: ['acde7eceba93481d508cc2ed91bf81f65d1f1a']\n",
      "dirname: D:\\Python Training\\.git\\objects\\e5, folders: [], filenames: ['e3c208e2fbbe941ba1c69048ead08cb9c97557']\n",
      "dirname: D:\\Python Training\\.git\\objects\\e6, folders: [], filenames: ['7735b938c0beaf6c5f2a72c95027b99f86bb1c', '9de29bb2d1d6434b8b29ae775ad8c2e48c5391', 'e11afa0684fb8e8faf81318e11859811e15486']\n",
      "dirname: D:\\Python Training\\.git\\objects\\e7, folders: [], filenames: ['24e41f78dc11f04064768f9c2e853ae981149e', 'a304ead49a8c2dbc43d106955f068cd5894277']\n",
      "dirname: D:\\Python Training\\.git\\objects\\e8, folders: [], filenames: ['37d21b08ff5ed4ff03d087fd20753cf8593ace']\n",
      "dirname: D:\\Python Training\\.git\\objects\\ed, folders: [], filenames: ['3e1b2c49e0b61472a8210042cdc982b223a468']\n",
      "dirname: D:\\Python Training\\.git\\objects\\f2, folders: [], filenames: ['05134290779c7a9962540717abd01ded2bc61e']\n",
      "dirname: D:\\Python Training\\.git\\objects\\f9, folders: [], filenames: ['2efb5a3705bdde486b5b0001b7fec8b95a7002']\n",
      "dirname: D:\\Python Training\\.git\\objects\\fa, folders: [], filenames: ['7ecfca68d8df984f2eedae099bce0beba60d69']\n",
      "dirname: D:\\Python Training\\.git\\objects\\fb, folders: [], filenames: ['9342691e7e6d2b1806ee661f0f1abd3f4724b3']\n",
      "dirname: D:\\Python Training\\.git\\objects\\info, folders: [], filenames: []\n",
      "dirname: D:\\Python Training\\.git\\objects\\pack, folders: [], filenames: []\n",
      "dirname: D:\\Python Training\\.git\\refs, folders: ['heads', 'remotes', 'tags'], filenames: []\n",
      "dirname: D:\\Python Training\\.git\\refs\\heads, folders: ['origin'], filenames: ['master']\n",
      "dirname: D:\\Python Training\\.git\\refs\\heads\\origin, folders: [], filenames: []\n",
      "dirname: D:\\Python Training\\.git\\refs\\remotes, folders: ['origin'], filenames: []\n",
      "dirname: D:\\Python Training\\.git\\refs\\remotes\\origin, folders: [], filenames: ['master']\n",
      "dirname: D:\\Python Training\\.git\\refs\\tags, folders: [], filenames: []\n",
      "dirname: D:\\Python Training\\.idea, folders: ['inspectionProfiles'], filenames: ['misc.xml', 'modules.xml', 'Python Training.iml', 'vcs.xml', 'workspace.xml']\n",
      "dirname: D:\\Python Training\\.idea\\inspectionProfiles, folders: [], filenames: ['Project_Default.xml']\n",
      "dirname: D:\\Python Training\\Exercises, folders: ['.ipynb_checkpoints'], filenames: ['Assessment.ipynb', 'BasicPythonAssessment.pdf', 'exercise_1.txt']\n",
      "dirname: D:\\Python Training\\Exercises\\.ipynb_checkpoints, folders: [], filenames: ['Assessment-checkpoint.ipynb']\n",
      "dirname: D:\\Python Training\\Notes, folders: ['.ipynb_checkpoints'], filenames: ['.gitignore', 'Basics.ipynb', 'Control Statements.ipynb', 'Databases and DBAPI.ipynb', 'Datetime.ipynb', 'Descriptor protocol.ipynb', 'Duck Typing.ipynb', 'Exception Handling.ipynb', 'File and path manipulation.ipynb', 'File operations.ipynb', 'Functional programing.ipynb', 'Functions.ipynb', 'Generators.ipynb', 'Index and Slicing.ipynb', 'List comprehensions and Generator expressions.ipynb', 'List operations.ipynb', 'OOPS_concepts.ipynb', 'scratchpad.ipynb', 'Set operations.ipynb', 'Shallow and Deep copy of objects.ipynb', 'String formatting.ipynb', 'test.db', 'Tuples and Dictionaries.ipynb', 'Zen of Python.ipynb']\n",
      "dirname: D:\\Python Training\\Notes\\.ipynb_checkpoints, folders: [], filenames: ['Basics-checkpoint.ipynb', 'Control Statements-checkpoint.ipynb', 'Databases and DBAPI-checkpoint.ipynb', 'Datetime-checkpoint.ipynb', 'Descriptor protocol-checkpoint.ipynb', 'Duck Typing-checkpoint.ipynb', 'Exception Handling-checkpoint.ipynb', 'File operations-checkpoint.ipynb', 'Functional programing-checkpoint.ipynb', 'Functions-checkpoint.ipynb', 'Generators-checkpoint.ipynb', 'Index and Slicing-checkpoint.ipynb', 'List comprehensions and Generator expressions-checkpoint.ipynb', 'List operations-checkpoint.ipynb', 'OOPS_concepts-checkpoint.ipynb', 'scratchpad-checkpoint.ipynb', 'Set operations-checkpoint.ipynb', 'Shallow and Deep copy of objects-checkpoint.ipynb', 'String formatting-checkpoint.ipynb', 'Tuples and Dictionaries-checkpoint.ipynb']\n",
      "dirname: D:\\Python Training\\Source, folders: ['.git', 'pkg1', 'pkg2'], filenames: ['.gitignore']\n",
      "dirname: D:\\Python Training\\Source\\.git, folders: ['hooks', 'info', 'logs', 'objects', 'refs'], filenames: ['COMMIT_EDITMSG', 'config', 'description', 'FETCH_HEAD', 'HEAD', 'index', 'ORIG_HEAD']\n",
      "dirname: D:\\Python Training\\Source\\.git\\hooks, folders: [], filenames: ['applypatch-msg.sample', 'commit-msg.sample', 'post-update.sample', 'pre-applypatch.sample', 'pre-commit.sample', 'pre-push.sample', 'pre-rebase.sample', 'prepare-commit-msg.sample', 'update.sample']\n",
      "dirname: D:\\Python Training\\Source\\.git\\info, folders: [], filenames: ['exclude']\n",
      "dirname: D:\\Python Training\\Source\\.git\\logs, folders: ['refs'], filenames: ['HEAD']\n",
      "dirname: D:\\Python Training\\Source\\.git\\logs\\refs, folders: ['heads', 'remotes'], filenames: []\n",
      "dirname: D:\\Python Training\\Source\\.git\\logs\\refs\\heads, folders: [], filenames: ['master']\n",
      "dirname: D:\\Python Training\\Source\\.git\\logs\\refs\\remotes, folders: ['origin'], filenames: []\n",
      "dirname: D:\\Python Training\\Source\\.git\\logs\\refs\\remotes\\origin, folders: [], filenames: ['master']\n",
      "dirname: D:\\Python Training\\Source\\.git\\objects, folders: ['04', '08', '0b', '0f', '11', '14', '1d', '23', '24', '28', '2a', '2b', '2f', '30', '31', '33', '35', '3a', '41', '43', '4a', '4b', '4c', '4e', '50', '53', '57', '58', '59', '5b', '5e', '5f', '61', '65', '66', '6b', '76', '79', '86', '87', '8a', '90', '92', '93', '94', '97', '98', '9a', '9d', '9e', 'a1', 'a4', 'a9', 'ab', 'b7', 'b8', 'ba', 'bb', 'bc', 'bd', 'c0', 'c2', 'c3', 'c4', 'ca', 'cb', 'cc', 'd2', 'dc', 'de', 'df', 'e5', 'e6', 'e7', 'e8', 'ed', 'f2', 'f9', 'fa', 'fb', 'info', 'pack'], filenames: []\n",
      "dirname: D:\\Python Training\\Source\\.git\\objects\\04, folders: [], filenames: ['524b2e4aa30d175db8edce04703216ea1f8a3f', 'adff6990d511e4be6935d6c37469d38d577d05']\n",
      "dirname: D:\\Python Training\\Source\\.git\\objects\\08, folders: [], filenames: ['327954b723e6ee9fbb5fd7f2eb4da6c62fa116']\n",
      "dirname: D:\\Python Training\\Source\\.git\\objects\\0b, folders: [], filenames: ['b0c64d1bcd4e1fdb9c462cb06768201b9531fb']\n",
      "dirname: D:\\Python Training\\Source\\.git\\objects\\0f, folders: [], filenames: ['6137bf911d229701d3a17a60ce6205932f8653', '781281a0e2e8fa89cff2861c096e4a53de35bf']\n",
      "dirname: D:\\Python Training\\Source\\.git\\objects\\11, folders: [], filenames: ['663e747dbc06ddbf47d8a35cf6b505c5952eb2']\n",
      "dirname: D:\\Python Training\\Source\\.git\\objects\\14, folders: [], filenames: ['c02ea49cb963caa2123f4759ec9fe43b4d118d']\n",
      "dirname: D:\\Python Training\\Source\\.git\\objects\\1d, folders: [], filenames: ['bc687de014ee027b4e6c0d7f2a37ee7636137e']\n",
      "dirname: D:\\Python Training\\Source\\.git\\objects\\23, folders: [], filenames: ['6aed67fe10938d5c31632bc16dd0313eb3064c']\n",
      "dirname: D:\\Python Training\\Source\\.git\\objects\\24, folders: [], filenames: ['d9f5909342bdf8849923fed1045b3fe0f06d41']\n",
      "dirname: D:\\Python Training\\Source\\.git\\objects\\28, folders: [], filenames: ['8b87b1f30fcaf9fa4d11509b814415b375a645']\n",
      "dirname: D:\\Python Training\\Source\\.git\\objects\\2a, folders: [], filenames: ['e05b92444bb74e5b70a40aff63dfbab36e2c47']\n",
      "dirname: D:\\Python Training\\Source\\.git\\objects\\2b, folders: [], filenames: ['01043da3dcc17578a5fdf0dda35b81325fe494']\n",
      "dirname: D:\\Python Training\\Source\\.git\\objects\\2f, folders: [], filenames: ['3d8baf87b8608efaf425d8bb975e62480d0db0']\n",
      "dirname: D:\\Python Training\\Source\\.git\\objects\\30, folders: [], filenames: ['bfaa41550d555ff37f6c0e44248dc4222d700d']\n",
      "dirname: D:\\Python Training\\Source\\.git\\objects\\31, folders: [], filenames: ['1c36e7d171f9319c94989dd3b8415386d0b042']\n",
      "dirname: D:\\Python Training\\Source\\.git\\objects\\33, folders: [], filenames: ['af31e4a370f709489aa8323a2d7e5c16c145be']\n",
      "dirname: D:\\Python Training\\Source\\.git\\objects\\35, folders: [], filenames: ['b3316f4c133a0a2b1a676c512e6045e0f65aae']\n",
      "dirname: D:\\Python Training\\Source\\.git\\objects\\3a, folders: [], filenames: ['25f64f03579a7ff58434fd6d63d4634b001985']\n",
      "dirname: D:\\Python Training\\Source\\.git\\objects\\41, folders: [], filenames: ['063d3edf45c099d0a04a7703b7cbe8d96f1bb4']\n",
      "dirname: D:\\Python Training\\Source\\.git\\objects\\43, folders: [], filenames: ['c1f1c787a25b9dae5565bf9fd16157343fb073']\n",
      "dirname: D:\\Python Training\\Source\\.git\\objects\\4a, folders: [], filenames: ['5aba90b9084f4c97a6737c9c12171a167ad43f']\n",
      "dirname: D:\\Python Training\\Source\\.git\\objects\\4b, folders: [], filenames: ['8e9493eb7e70750f4cabd4243a47fffca9c75f', 'e6177a1c746dcdea5d6689a4aea8cd2d3c8a16']\n",
      "dirname: D:\\Python Training\\Source\\.git\\objects\\4c, folders: [], filenames: ['a04b4fc057c9063e3a610d7c892df479742ebe']\n",
      "dirname: D:\\Python Training\\Source\\.git\\objects\\4e, folders: [], filenames: ['4126540347e0f9c04ac2aa41d5c8cf6d9f93a4']\n",
      "dirname: D:\\Python Training\\Source\\.git\\objects\\50, folders: [], filenames: ['3b33dec4b9f14501573c735be0d9260175b317']\n",
      "dirname: D:\\Python Training\\Source\\.git\\objects\\53, folders: [], filenames: ['9b4be45fd67ddcdaad219403a491d8b103b4a9']\n",
      "dirname: D:\\Python Training\\Source\\.git\\objects\\57, folders: [], filenames: ['cf9345a7ff93181390b26e40240391563e8ae3']\n",
      "dirname: D:\\Python Training\\Source\\.git\\objects\\58, folders: [], filenames: ['a5f3202fbccdc542a2adb51aa376c3fea3566e']\n",
      "dirname: D:\\Python Training\\Source\\.git\\objects\\59, folders: [], filenames: ['26e82ac8a7612d0da39f0beb271aca9e636894', 'b08660a1e2b12f3c9b196cae579a02577063f3']\n",
      "dirname: D:\\Python Training\\Source\\.git\\objects\\5b, folders: [], filenames: ['8ce0f959656f8b6389c00bfb2a496f415c25c9']\n",
      "dirname: D:\\Python Training\\Source\\.git\\objects\\5e, folders: [], filenames: ['ace36671baf2f6433761f10925652b8e6725ab']\n",
      "dirname: D:\\Python Training\\Source\\.git\\objects\\5f, folders: [], filenames: ['b40567ab0467896ab4294af7cba3fc8c418864']\n",
      "dirname: D:\\Python Training\\Source\\.git\\objects\\61, folders: [], filenames: ['a54402faaf1f391a6b709c36f9a290a55ed9c3']\n",
      "dirname: D:\\Python Training\\Source\\.git\\objects\\65, folders: [], filenames: ['1375acd0717701134b1e8031ea1ece345be268']\n",
      "dirname: D:\\Python Training\\Source\\.git\\objects\\66, folders: [], filenames: ['5d65c2a63066b0ddb793c49bd9d87a7cdd802b']\n",
      "dirname: D:\\Python Training\\Source\\.git\\objects\\6b, folders: [], filenames: ['3a6b704e4f10852a209764df42dbb827138434']\n",
      "dirname: D:\\Python Training\\Source\\.git\\objects\\76, folders: [], filenames: ['ee30d30421610d942320870848c357a6f9ee07']\n",
      "dirname: D:\\Python Training\\Source\\.git\\objects\\79, folders: [], filenames: ['1de030f3c88419bf78dea7505493f0a3de6f04']\n",
      "dirname: D:\\Python Training\\Source\\.git\\objects\\86, folders: [], filenames: ['bbf5548f75ecd426677f7a297acfb021ebe383', 'd884e260170f697be611bd6881660d9730a849']\n",
      "dirname: D:\\Python Training\\Source\\.git\\objects\\87, folders: [], filenames: ['620ac7e74efee566c6ee9d2ed7281ebafb4788']\n",
      "dirname: D:\\Python Training\\Source\\.git\\objects\\8a, folders: [], filenames: ['3e7bfa3d5e354c19abda268ec496b5739982a0']\n",
      "dirname: D:\\Python Training\\Source\\.git\\objects\\90, folders: [], filenames: ['24579908faa7299ab2999cba4653c3510929cf']\n",
      "dirname: D:\\Python Training\\Source\\.git\\objects\\92, folders: [], filenames: ['37b92032eec57e8a7eb1735fe6e1a5a32c2a0c']\n",
      "dirname: D:\\Python Training\\Source\\.git\\objects\\93, folders: [], filenames: ['ad8ff1de98d4092394086dc4884f4e76035316']\n",
      "dirname: D:\\Python Training\\Source\\.git\\objects\\94, folders: [], filenames: ['d765cc50cb4dc435b2de4c55c6dfa8a5718971']\n",
      "dirname: D:\\Python Training\\Source\\.git\\objects\\97, folders: [], filenames: ['5c76bd334a2e13d1336b60668db19e32e4e0d0']\n",
      "dirname: D:\\Python Training\\Source\\.git\\objects\\98, folders: [], filenames: ['47e7d31cec36fdcdfe8f28e7ab9d990c4bb649']\n",
      "dirname: D:\\Python Training\\Source\\.git\\objects\\9a, folders: [], filenames: ['cf4f50639a4b5237dbe4c796aae4037475c5f0']\n",
      "dirname: D:\\Python Training\\Source\\.git\\objects\\9d, folders: [], filenames: ['838bcdb94545cd56dde13ac3bddd4ebc609e4c']\n",
      "dirname: D:\\Python Training\\Source\\.git\\objects\\9e, folders: [], filenames: ['5d2a15167e3e8cfd8e6f9dc97e8fbcd126daf5']\n",
      "dirname: D:\\Python Training\\Source\\.git\\objects\\a1, folders: [], filenames: ['5bec9498089dd7634b486d4f2bdfdd9ff109ae']\n",
      "dirname: D:\\Python Training\\Source\\.git\\objects\\a4, folders: [], filenames: ['918b0cd76238f2a4443102038e29ab232b0554']\n",
      "dirname: D:\\Python Training\\Source\\.git\\objects\\a9, folders: [], filenames: ['8af7264e78ea351e32d9ba34defb3ea04c0847']\n",
      "dirname: D:\\Python Training\\Source\\.git\\objects\\ab, folders: [], filenames: ['d3ee74073d8a7c71a0a5c11885217f07760758']\n",
      "dirname: D:\\Python Training\\Source\\.git\\objects\\b7, folders: [], filenames: ['409fa3531fe78a728f7c31c85bacd9d5bc2238']\n",
      "dirname: D:\\Python Training\\Source\\.git\\objects\\b8, folders: [], filenames: ['57beb6ef60966d5ad0228dad700f661132bc9b']\n",
      "dirname: D:\\Python Training\\Source\\.git\\objects\\ba, folders: [], filenames: ['b697a5f99509b0660a541f1a2645edf32ad1b3']\n",
      "dirname: D:\\Python Training\\Source\\.git\\objects\\bb, folders: [], filenames: ['3769cb3d836918990284d22fb1432421f17780']\n",
      "dirname: D:\\Python Training\\Source\\.git\\objects\\bc, folders: [], filenames: ['66a85f53b77b78f39d60b3459c85370e33a088']\n",
      "dirname: D:\\Python Training\\Source\\.git\\objects\\bd, folders: [], filenames: ['24b79930f6093a288904408c9c62bcb0b91f30', '437426ebc741e09227c90016e74efbd066177e']\n",
      "dirname: D:\\Python Training\\Source\\.git\\objects\\c0, folders: [], filenames: ['47224b14fd531707ec2585c6af670993fcbcea']\n",
      "dirname: D:\\Python Training\\Source\\.git\\objects\\c2, folders: [], filenames: ['cca5ee2f08161f0a98db5fb1c61e3a378e2daa']\n",
      "dirname: D:\\Python Training\\Source\\.git\\objects\\c3, folders: [], filenames: ['0791d2978fcf42c49a2b5962b099a77d2cffff']\n",
      "dirname: D:\\Python Training\\Source\\.git\\objects\\c4, folders: [], filenames: ['c24d7dddb586a6c118b9b079686ea5abf484cf']\n",
      "dirname: D:\\Python Training\\Source\\.git\\objects\\ca, folders: [], filenames: ['528f897bfaaa7ea767f1eda61148adca6cb998']\n",
      "dirname: D:\\Python Training\\Source\\.git\\objects\\cb, folders: [], filenames: ['e7d620ec8c299812a21a89a5bfca3591ae0e7e']\n",
      "dirname: D:\\Python Training\\Source\\.git\\objects\\cc, folders: [], filenames: ['a42e6ab372df94b029580866eae1fdbb338fe0']\n",
      "dirname: D:\\Python Training\\Source\\.git\\objects\\d2, folders: [], filenames: ['35e26a0ef94d0d0418ec12eae99ba370bf01d2', 'bc0d25a143b78c99e9b9f284386dd623dd95be']\n",
      "dirname: D:\\Python Training\\Source\\.git\\objects\\dc, folders: [], filenames: ['c8860103d2b2c6cc7b82205935a3855f0a3704']\n",
      "dirname: D:\\Python Training\\Source\\.git\\objects\\de, folders: [], filenames: ['13e993bbeece250f8b0ceb863486581e8a5779']\n",
      "dirname: D:\\Python Training\\Source\\.git\\objects\\df, folders: [], filenames: ['acde7eceba93481d508cc2ed91bf81f65d1f1a']\n",
      "dirname: D:\\Python Training\\Source\\.git\\objects\\e5, folders: [], filenames: ['e3c208e2fbbe941ba1c69048ead08cb9c97557']\n",
      "dirname: D:\\Python Training\\Source\\.git\\objects\\e6, folders: [], filenames: ['7735b938c0beaf6c5f2a72c95027b99f86bb1c', '9de29bb2d1d6434b8b29ae775ad8c2e48c5391', 'e11afa0684fb8e8faf81318e11859811e15486']\n",
      "dirname: D:\\Python Training\\Source\\.git\\objects\\e7, folders: [], filenames: ['24e41f78dc11f04064768f9c2e853ae981149e', 'a304ead49a8c2dbc43d106955f068cd5894277']\n",
      "dirname: D:\\Python Training\\Source\\.git\\objects\\e8, folders: [], filenames: ['37d21b08ff5ed4ff03d087fd20753cf8593ace']\n",
      "dirname: D:\\Python Training\\Source\\.git\\objects\\ed, folders: [], filenames: ['3e1b2c49e0b61472a8210042cdc982b223a468']\n",
      "dirname: D:\\Python Training\\Source\\.git\\objects\\f2, folders: [], filenames: ['05134290779c7a9962540717abd01ded2bc61e']\n",
      "dirname: D:\\Python Training\\Source\\.git\\objects\\f9, folders: [], filenames: ['2efb5a3705bdde486b5b0001b7fec8b95a7002']\n",
      "dirname: D:\\Python Training\\Source\\.git\\objects\\fa, folders: [], filenames: ['7ecfca68d8df984f2eedae099bce0beba60d69']\n",
      "dirname: D:\\Python Training\\Source\\.git\\objects\\fb, folders: [], filenames: ['9342691e7e6d2b1806ee661f0f1abd3f4724b3']\n",
      "dirname: D:\\Python Training\\Source\\.git\\objects\\info, folders: [], filenames: []\n",
      "dirname: D:\\Python Training\\Source\\.git\\objects\\pack, folders: [], filenames: []\n",
      "dirname: D:\\Python Training\\Source\\.git\\refs, folders: ['heads', 'remotes', 'tags'], filenames: []\n",
      "dirname: D:\\Python Training\\Source\\.git\\refs\\heads, folders: [], filenames: ['master']\n",
      "dirname: D:\\Python Training\\Source\\.git\\refs\\remotes, folders: ['origin'], filenames: []\n",
      "dirname: D:\\Python Training\\Source\\.git\\refs\\remotes\\origin, folders: [], filenames: ['master']\n",
      "dirname: D:\\Python Training\\Source\\.git\\refs\\tags, folders: [], filenames: []\n",
      "dirname: D:\\Python Training\\Source\\pkg1, folders: [], filenames: ['module1.py', 'module1.pyc', 'test.py', '__init__.py', '__init__.pyc']\n",
      "dirname: D:\\Python Training\\Source\\pkg2, folders: [], filenames: ['module2.py', 'module2.pyc', '__init__.py', '__init__.pyc']\n",
      "dirname: D:\\Python Training\\Source_old, folders: ['euler_problems', 'pkg1', 'pkg2'], filenames: ['.gitignore']\n",
      "dirname: D:\\Python Training\\Source_old\\euler_problems, folders: [], filenames: ['count_sundays.py']\n",
      "dirname: D:\\Python Training\\Source_old\\pkg1, folders: [], filenames: ['module1.py', '__init__.py']\n",
      "dirname: D:\\Python Training\\Source_old\\pkg2, folders: [], filenames: ['module2.py', '__init__.py']\n"
     ]
    }
   ],
   "source": [
    "for dirname, folders, filenames in os.walk(\"D:\\\\Python Training\"):\n",
    "    print \"dirname: %s, folders: %s, filenames: %s\" % (dirname, folders, filenames)"
   ]
  },
  {
   "cell_type": "code",
   "execution_count": null,
   "metadata": {
    "collapsed": true
   },
   "outputs": [],
   "source": []
  }
 ],
 "metadata": {
  "kernelspec": {
   "display_name": "Python 2",
   "language": "python",
   "name": "python2"
  },
  "language_info": {
   "codemirror_mode": {
    "name": "ipython",
    "version": 2
   },
   "file_extension": ".py",
   "mimetype": "text/x-python",
   "name": "python",
   "nbconvert_exporter": "python",
   "pygments_lexer": "ipython2",
   "version": "2.7.13"
  }
 },
 "nbformat": 4,
 "nbformat_minor": 1
}
