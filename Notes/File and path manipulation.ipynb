{
 "cells": [
  {
   "cell_type": "markdown",
   "metadata": {},
   "source": [
    "# Manipulating file and directories using os.path\n",
    "--------------------------------------------------------------------------"
   ]
  },
  {
   "cell_type": "markdown",
   "metadata": {},
   "source": [
    "#### Modules available for File and Directory Access in python:\n",
    "\n",
    "- __os.path__ — Common pathname manipulations\n",
    "- __fileinput__ — Iterate over lines from multiple input streams\n",
    "- __stat__ — Interpreting stat() results\n",
    "- __statvfs__ — Constants used with os.statvfs()\n",
    "- __filecmp__ — File and Directory Comparisons\n",
    "- __tempfile__ — Generate temporary files and directories\n",
    "- __glob__ — Unix style pathname pattern expansion\n",
    "- __fnmatch__ — Unix filename pattern matching\n",
    "- __linecache__ — Random access to text lines\n",
    "- __shutil__ — High-level file operations\n",
    "- __dircache__ — Cached directory listings\n",
    "- __macpath__ — Mac OS 9 path manipulation functions\n",
    "\n",
    "From this list os.path is the more commonly used library which we will discuss below:"
   ]
  },
  {
   "cell_type": "code",
   "execution_count": 1,
   "metadata": {
    "collapsed": true
   },
   "outputs": [],
   "source": [
    "import os\n",
    "import os.path\n",
    "import time"
   ]
  },
  {
   "cell_type": "code",
   "execution_count": 3,
   "metadata": {},
   "outputs": [
    {
     "name": "stdout",
     "output_type": "stream",
     "text": [
      "D:\\Python Training\\Notes\n"
     ]
    }
   ],
   "source": [
    "os.getcwd() #- Gets the path to the current working directory\n",
    "my_current_dir = os.getcwd()\n",
    "print my_current_dir"
   ]
  },
  {
   "cell_type": "markdown",
   "metadata": {},
   "source": [
    "##### os.path.join(path, *paths) \n",
    "Join one or more path components intelligently. \n",
    "The return value is the concatenation of path and any members of \\*paths with exactly one directory separator (os.sep) following each non-empty part except the last, meaning that the result will only end in a separator if the last part is empty\n",
    "\n",
    "> _source: python 2.7 official docs_"
   ]
  },
  {
   "cell_type": "code",
   "execution_count": 4,
   "metadata": {},
   "outputs": [
    {
     "name": "stdout",
     "output_type": "stream",
     "text": [
      "D:\\Python Training\\Notes\\..\n"
     ]
    }
   ],
   "source": [
    "upper_dir = os.path.join(my_current_dir, '..')\n",
    "print upper_dir"
   ]
  },
  {
   "cell_type": "markdown",
   "metadata": {},
   "source": [
    "##### os.path.abspath(path) \n",
    "Normalized absolutized version of the pathname path"
   ]
  },
  {
   "cell_type": "code",
   "execution_count": 5,
   "metadata": {},
   "outputs": [
    {
     "name": "stdout",
     "output_type": "stream",
     "text": [
      "D:\\Python Training\n"
     ]
    }
   ],
   "source": [
    "print os.path.abspath(upper_dir)"
   ]
  },
  {
   "cell_type": "markdown",
   "metadata": {},
   "source": [
    "##### os.path.exists(path) \n",
    "Return True if path refers to an existing path. Returns False for broken symbolic links. On some platforms, this function may return False if permission is not granted to execute os.stat() on the requested file, even if the path physically exists\n",
    "\n",
    "> _source: python 2.7 official docs_"
   ]
  },
  {
   "cell_type": "code",
   "execution_count": null,
   "metadata": {
    "collapsed": true
   },
   "outputs": [],
   "source": [
    "print os.path.exists(my_current_dir)\n",
    "print os.path.exists(os.path.join(my_current_dir, 'foo'))"
   ]
  },
  {
   "cell_type": "markdown",
   "metadata": {},
   "source": [
    "##### os.path.isfile(path)\n",
    "Return True if path is an existing regular file. This follows symbolic links, so both islink() and isfile() can be true for the same path.\n",
    "\n",
    "##### os.path.isdir(path)\n",
    "Return True if path is an existing directory. This follows symbolic links, so both islink() and isdir() can be true for the same path.\n",
    "\n",
    "##### os.path.islink(path)\n",
    "Return True if path refers to a directory entry that is a symbolic link. Always False if symbolic links are not supported by the python runtime.\n",
    "\n",
    "> _source: python 2.7 official docs_"
   ]
  },
  {
   "cell_type": "code",
   "execution_count": null,
   "metadata": {
    "collapsed": true
   },
   "outputs": [],
   "source": [
    "print os.path.isfile(my_current_dir)\n",
    "print os.path.isdir(my_current_dir)\n",
    "print os.path.islink(my_current_dir)"
   ]
  },
  {
   "cell_type": "markdown",
   "metadata": {},
   "source": [
    "##### os.path.split(path)\n",
    "Split the pathname path into a pair, (head, tail) where tail is the last pathname component and head is everything leading up to that. The tail part will never contain a slash; if path ends in a slash, tail will be empty. If there is no slash in path, head will be empty. If path is empty, both head and tail are empty. Trailing slashes are stripped from head unless it is the root (one or more slashes only). In all cases, join(head, tail) returns a path to the same location as path (but the strings may differ)\n",
    "\n",
    "##### os.path.dirname(path)\n",
    "Return the directory name of pathname path. This is the first element of the pair returned by passing path to the function split().\n",
    "\n",
    "##### os.path.basename(path)\n",
    "Return the base name of pathname path. This is the second element of the pair returned by passing path to the function split(). Note that the result of this function is different from the Unix basename program; where basename for '/foo/bar/' returns 'bar', the basename() function returns an empty string ('').\n",
    "\n",
    "> _source: python 2.7 official docs_"
   ]
  },
  {
   "cell_type": "code",
   "execution_count": 6,
   "metadata": {},
   "outputs": [
    {
     "name": "stdout",
     "output_type": "stream",
     "text": [
      "D:\\Python Training\\Notes\\Zen of Python.ipynb\n",
      "head -> D:\\Python Training\\Notes\n",
      "tail -> Zen of Python.ipynb\n",
      "dirname - D:\\Python Training\\Notes\n",
      "basename - Zen of Python.ipynb\n"
     ]
    }
   ],
   "source": [
    "filepath = os.path.join(my_current_dir, 'Zen of Python.ipynb')\n",
    "head, tail = os.path.split(filepath)\n",
    "print filepath\n",
    "print 'head ->', head\n",
    "print 'tail ->', tail\n",
    "\n",
    "print 'dirname -', os.path.dirname(filepath)\n",
    "print 'basename -', os.path.basename(filepath)"
   ]
  },
  {
   "cell_type": "markdown",
   "metadata": {},
   "source": [
    "##### os.path.splitext(path)\n",
    "Split the pathname path into a pair (root, ext) such that root + ext == path, and ext is empty or begins with a period and contains at most one period. Leading periods on the basename are ignored; splitext('.cshrc') returns ('.cshrc', '')\n",
    "\n",
    "> _source: python 2.7 official docs_"
   ]
  },
  {
   "cell_type": "code",
   "execution_count": null,
   "metadata": {
    "collapsed": true
   },
   "outputs": [],
   "source": [
    "root, ext = os.path.splitext(filepath)\n",
    "print 'root ->', root\n",
    "print 'ext ->', ext"
   ]
  },
  {
   "cell_type": "markdown",
   "metadata": {},
   "source": [
    "##### os.path.getsize(path)\n",
    "Return the size, in bytes, of path. Raise os.error if the file does not exist or is inaccessible\n",
    "\n",
    "##### os.path.getatime(path)\n",
    "Return the time of last access of path. The return value is a number giving the number of seconds since the epoch (see the time module). Raise os.error if the file does not exist or is inaccessible.\n",
    "\n",
    "##### os.path.getmtime(path)\n",
    "Return the time of last modification of path. The return value is a number giving the number of seconds since the epoch (see the time module). Raise os.error if the file does not exist or is inaccessible.\n",
    "\n",
    "##### os.path.getctime(path)\n",
    "Return the system’s ctime which, on some systems (like Unix) is the time of the last metadata change, and, on others (like Windows), is the creation time for path. The return value is a number giving the number of seconds since the epoch (see the time module). Raise os.error if the file does not exist or is inaccessible.\n",
    "\n",
    "> _source: python 2.7 official docs_"
   ]
  },
  {
   "cell_type": "code",
   "execution_count": null,
   "metadata": {
    "collapsed": true
   },
   "outputs": [],
   "source": [
    "print os.path.getsize(filepath), 'bytes'"
   ]
  },
  {
   "cell_type": "code",
   "execution_count": null,
   "metadata": {
    "collapsed": true
   },
   "outputs": [],
   "source": [
    "epoch_time = os.path.getatime(filepath)\n",
    "print epoch_time, 'seconds from epoch'\n",
    "local_time = time.localtime(epoch_time)\n",
    "print '%d-%d-%d %d:%d:%d' % (local_time.tm_mday, \n",
    "                             local_time.tm_mon, \n",
    "                             local_time.tm_year, \n",
    "                             local_time.tm_hour,\n",
    "                             local_time.tm_min,\n",
    "                             local_time.tm_sec\n",
    "                             )"
   ]
  },
  {
   "cell_type": "markdown",
   "metadata": {},
   "source": [
    "#### os.listdir(path)\n",
    "Return a list containing the names of the entries in the directory given by path. The list is in arbitrary order. It does not include the special entries '.' and '..' even if they are present in the directory.\n",
    "\n",
    "> _source: python 2.7 official docs_"
   ]
  },
  {
   "cell_type": "code",
   "execution_count": 7,
   "metadata": {},
   "outputs": [
    {
     "name": "stdout",
     "output_type": "stream",
     "text": [
      ".gitignore\n",
      ".ipynb_checkpoints\n",
      "Basics.ipynb\n",
      "Control Statements.ipynb\n",
      "Databases and DBAPI.ipynb\n",
      "Datetime.ipynb\n",
      "Descriptor protocol.ipynb\n",
      "Duck Typing.ipynb\n",
      "Exception Handling.ipynb\n",
      "File and path manipulation.ipynb\n",
      "File operations.ipynb\n",
      "Functional programing.ipynb\n",
      "Functions.ipynb\n",
      "Generators.ipynb\n",
      "Index and Slicing.ipynb\n",
      "List comprehensions and Generator expressions.ipynb\n",
      "List operations.ipynb\n",
      "OOPS_concepts.ipynb\n",
      "scratchpad.ipynb\n",
      "Set operations.ipynb\n",
      "Shallow and Deep copy of objects.ipynb\n",
      "String formatting.ipynb\n",
      "test.db\n",
      "Tuples and Dictionaries.ipynb\n",
      "Zen of Python.ipynb\n"
     ]
    }
   ],
   "source": [
    "'''\n",
    "Lets list out the contents of our current working directory\n",
    "'''\n",
    "for pth in os.listdir(os.getcwd()):\n",
    "    print pth"
   ]
  },
  {
   "cell_type": "markdown",
   "metadata": {},
   "source": [
    "#### os.walk(folder_path, topdown=True, onerror=None, followlinks=False)\n",
    "\n",
    "Recursively walks thru a directory tree, generating a three element tuple at each level.\n",
    "The first element is the path to that level, second is a list of sub-directories in that level\n",
    "and third is a list of filenames found in that level.\n",
    "By default it traverses the tree in topdown fashion. You can change it to bottomup approach by passing the keyword argument topdown=False."
   ]
  },
  {
   "cell_type": "code",
   "execution_count": 10,
   "metadata": {},
   "outputs": [
    {
     "name": "stdout",
     "output_type": "stream",
     "text": [
      "C:\\Users\\bvipin\\Documents\n",
      "C:\\Users\\bvipin\\Documents\\api_tokens.txt\n",
      "C:\\Users\\bvipin\\Documents\\selenium_err_traceback.txt\n",
      "C:\\Users\\bvipin\\Documents\\startup.txt\n",
      "C:\\Users\\bvipin\\Documents\\basic_python\\basic_python\\ans_keys.txt\n",
      "C:\\Users\\bvipin\\Documents\\CFHP\\CFHP_DB_DETAILS.txt\n",
      "C:\\Users\\bvipin\\Documents\\CFHP\\CFHP_Requirements.txt\n",
      "C:\\Users\\bvipin\\Documents\\CFHP\\cfhp_sso_users.txt\n",
      "C:\\Users\\bvipin\\Documents\\CFHP\\MOM- CFHP document api.txt\n",
      "C:\\Users\\bvipin\\Documents\\CFHP\\Quest DEID_hl7v2.3_sample_file.txt\n",
      "C:\\Users\\bvipin\\Documents\\CHPW\\CHPSUP-1997.txt\n",
      "C:\\Users\\bvipin\\Documents\\IC_PMG\\icpmg_cluster_xml.txt\n",
      "C:\\Users\\bvipin\\Documents\\IC_PMG\\icpmg_xml_bakup.txt\n",
      "C:\\Users\\bvipin\\Documents\\IC_PMG\\IC_PMG_MPI_XML.txt\n",
      "C:\\Users\\bvipin\\Documents\\IC_PMG\\IC_SOA.txt\n",
      "C:\\Users\\bvipin\\Documents\\IntegraConnect\\ICSUP-245_SQLQuery.txt\n",
      "C:\\Users\\bvipin\\Documents\\IntegraConnect\\ICSUP-441.txt\n",
      "C:\\Users\\bvipin\\Documents\\IntegraConnect\\ic_batch_script.txt\n",
      "C:\\Users\\bvipin\\Documents\\IntegraConnect\\IC_SOA_branches.txt\n",
      "C:\\Users\\bvipin\\Documents\\IntegraConnect\\IC_UTSW_merger\\cherry-pick.txt\n",
      "C:\\Users\\bvipin\\Documents\\IntegraConnect\\IC_UTSW_merger\\cherry-pick_cmd.txt\n",
      "C:\\Users\\bvipin\\Documents\\KP\\KP_DEV_SSO_URL.txt\n",
      "C:\\Users\\bvipin\\Documents\\Personal\\SMS_90.txt\n",
      "C:\\Users\\bvipin\\Documents\\Python Scripts\\basic_python\\ans_keys.txt\n",
      "C:\\Users\\bvipin\\Documents\\UTSW\\UTSWSUP-25\\fetch_remote_recordset.txt\n"
     ]
    }
   ],
   "source": [
    "'''\n",
    "Lets walk thru our Documents folder and list out only .txt files if any.\n",
    "'''\n",
    "\n",
    "my_docs = os.path.expanduser(os.path.join('~', 'Documents'))\n",
    "print my_docs\n",
    "\n",
    "for pth, sub_dirs, filenames in os.walk(my_docs):\n",
    "    for filename in filenames:\n",
    "        if filename.endswith('.txt'):\n",
    "            print os.path.join(pth, filename)"
   ]
  },
  {
   "cell_type": "code",
   "execution_count": null,
   "metadata": {
    "collapsed": true
   },
   "outputs": [],
   "source": []
  }
 ],
 "metadata": {
  "kernelspec": {
   "display_name": "Python 2",
   "language": "python",
   "name": "python2"
  },
  "language_info": {
   "codemirror_mode": {
    "name": "ipython",
    "version": 2
   },
   "file_extension": ".py",
   "mimetype": "text/x-python",
   "name": "python",
   "nbconvert_exporter": "python",
   "pygments_lexer": "ipython2",
   "version": "2.7.13"
  }
 },
 "nbformat": 4,
 "nbformat_minor": 1
}
