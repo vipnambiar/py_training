{
 "cells": [
  {
   "cell_type": "markdown",
   "metadata": {},
   "source": [
    "# Object oriented programming concepts\n",
    "-------------------------------------------------------"
   ]
  },
  {
   "cell_type": "markdown",
   "metadata": {},
   "source": [
    "* Everything in python is an object. (integers, strings, lists and even functions and classes)\n",
    "* Objects are the basic building blocks of a python program.\n",
    "* Every object has a type and an id. the builtin functions type() and id() are used to retrieve this info."
   ]
  },
  {
   "cell_type": "code",
   "execution_count": 1,
   "metadata": {},
   "outputs": [
    {
     "name": "stdout",
     "output_type": "stream",
     "text": [
      "Type of 1 is <type 'int'>\n",
      "id of 1 is 29844696\n",
      "\n",
      "Type of 'Hello World' is <type 'str'>\n",
      "id of 'Hello World' is 37847424\n",
      "\n",
      "Type of lst is <type 'list'>\n",
      "id of lst is 67195336\n"
     ]
    }
   ],
   "source": [
    "\n",
    "\n",
    "print \"Type of 1 is\", type(1)\n",
    "print \"id of 1 is\", id(1)\n",
    "print\n",
    "print \"Type of 'Hello World' is\", type('Hello World')\n",
    "print \"id of 'Hello World' is\", id('Hello World')\n",
    "print\n",
    "lst = ['eggs', 'spam']\n",
    "print \"Type of lst is\", type(lst)\n",
    "print \"id of lst is\", id(lst)"
   ]
  },
  {
   "cell_type": "code",
   "execution_count": 2,
   "metadata": {},
   "outputs": [
    {
     "name": "stdout",
     "output_type": "stream",
     "text": [
      "<type 'type'>\n",
      "<type 'type'>\n",
      "<type 'type'>\n"
     ]
    }
   ],
   "source": [
    "print type(object)\n",
    "print type(list)\n",
    "print type(int)"
   ]
  },
  {
   "cell_type": "markdown",
   "metadata": {},
   "source": [
    "#### A Class is a definition of a type of object. You can define your own custom type of object by defining a class.\n",
    "They act as blueprint or moulds for creating different type of objects"
   ]
  },
  {
   "cell_type": "code",
   "execution_count": 8,
   "metadata": {},
   "outputs": [
    {
     "name": "stdout",
     "output_type": "stream",
     "text": [
      "Type of obj is <type 'instance'>\n",
      "id of obj is 87119880\n",
      "<type 'type'>\n",
      "<class '__main__.Baz'>\n",
      "<type 'type'>\n"
     ]
    }
   ],
   "source": [
    "class Foo:\n",
    "    'An empty class'\n",
    "    var = 10\n",
    "\n",
    "#print type(Foo)\n",
    "obj = Foo()  # This is how you create an object from its class - object instantiaton\n",
    "print \"Type of obj is\", type(obj)\n",
    "print \"id of obj is\", id(obj)\n",
    "\n",
    "class Baz(object):\n",
    "    'A new style class'\n",
    "    var = 5\n",
    "    \n",
    "    def __init__(self):\n",
    "        self.y = 10\n",
    "\n",
    "print type(Baz)\n",
    "\n",
    "x = Baz()\n",
    "print type(x)\n",
    "print type(Baz)\n",
    "#print x.__class__\n",
    "#print dir(Foo)\n",
    "#print dir(Baz)"
   ]
  },
  {
   "cell_type": "markdown",
   "metadata": {},
   "source": [
    "A class is defined:\n",
    "- using the `class` keyword followed by the name of the class\n",
    "- If your class is not inheriting from any other class it usually inherits from the base class `object`\n",
    "- Immediately after class declaration you can put a few lines of comments which describes your class. This is know as your class docs. this is not required but is considered as a best practice. "
   ]
  },
  {
   "cell_type": "code",
   "execution_count": 5,
   "metadata": {},
   "outputs": [
    {
     "name": "stdout",
     "output_type": "stream",
     "text": [
      "An empty class\n"
     ]
    }
   ],
   "source": [
    "print Foo.__doc__"
   ]
  },
  {
   "cell_type": "code",
   "execution_count": 9,
   "metadata": {},
   "outputs": [
    {
     "name": "stdout",
     "output_type": "stream",
     "text": [
      "['__class__', '__delattr__', '__dict__', '__doc__', '__format__', '__getattribute__', '__hash__', '__init__', '__module__', '__new__', '__reduce__', '__reduce_ex__', '__repr__', '__setattr__', '__sizeof__', '__str__', '__subclasshook__', '__weakref__', 'var', 'y']\n",
      "{}\n",
      "{'y': 10}\n",
      "{'__module__': '__main__', '__dict__': <attribute '__dict__' of 'Baz' objects>, 'var': 5, '__weakref__': <attribute '__weakref__' of 'Baz' objects>, '__doc__': 'A new style class', '__init__': <function __init__ at 0x00000000052EF3C8>}\n"
     ]
    }
   ],
   "source": [
    "#print dir(obj)\n",
    "print dir(x)\n",
    "#print obj.__module__\n",
    "#print\n",
    "print obj.__dict__\n",
    "#obj.value = 10\n",
    "#print\n",
    "#print obj.__dict__\n",
    "print x.__dict__\n",
    "print Baz.__dict__\n",
    "#print\n",
    "#print dir(obj)"
   ]
  },
  {
   "cell_type": "markdown",
   "metadata": {},
   "source": [
    "#### New style classes and classic classes"
   ]
  },
  {
   "cell_type": "code",
   "execution_count": 12,
   "metadata": {},
   "outputs": [
    {
     "name": "stdout",
     "output_type": "stream",
     "text": [
      "False\n",
      "False\n",
      "A\n",
      "B\n"
     ]
    }
   ],
   "source": [
    "# Prior to Python 2.2\n",
    "\n",
    "class A:\n",
    "    '''old style or classic class'''\n",
    "    pass\n",
    "\n",
    "\n",
    "# New style classes introduced in python 2.2\n",
    "\n",
    "class B(object):\n",
    "    '''new style class'''\n",
    "    var = 10\n",
    "    def getvalue(self):\n",
    "        return self.var\n",
    "\n",
    "\n",
    "a = A()\n",
    "b = B()\n",
    "\n",
    "#print dir(a)\n",
    "#print\n",
    "#print dir(b)\n",
    "print isinstance(a, B)\n",
    "print isinstance(b, A)\n",
    "print a.__class__.__name__\n",
    "print b.__class__.__name__"
   ]
  },
  {
   "cell_type": "markdown",
   "metadata": {
    "collapsed": true
   },
   "source": [
    "#### Class attributes and Instance attributes"
   ]
  },
  {
   "cell_type": "code",
   "execution_count": 24,
   "metadata": {},
   "outputs": [
    {
     "name": "stdout",
     "output_type": "stream",
     "text": [
      "2017\n",
      "i20\n"
     ]
    }
   ],
   "source": [
    "class Car(object):\n",
    "    'A sample class defining a Car'\n",
    "    \n",
    "    wheels = 4\n",
    "    make = 'Maruti'\n",
    "    model = '800'\n",
    "    \n",
    "    def __init__(self, make, model): # __init__ special method is an object initializer\n",
    "        self.make = make             # This method is implicitly invoked while instantiating \n",
    "        self.model = model           # an object from the class.\n",
    "        \n",
    "    def get_model(self):\n",
    "        return self.model\n",
    "        \n",
    "    @classmethod\n",
    "    def from_year(cls, make, model, year):\n",
    "        obj = cls(make, model)\n",
    "        obj.year = year\n",
    "        return obj\n",
    "\n",
    "mycar = Car('Hyundai', 'i20')\n",
    "newcar = Car.from_year('Hyundai', 'i20', 2017)\n",
    "print newcar.year\n",
    "#print mycar.make\n",
    "print mycar.get_model()\n",
    "#print Car.make\n",
    "#yourcar = Car('Maruti', 'swift')\n",
    "#print yourcar.model\n",
    "#mycar=Car()\n",
    "#youcar = Car()\n",
    "\n",
    "#print Car.make\n",
    "#print Car.model\n",
    "#print mycar.make\n",
    "#print mycar.model\n",
    "#mycar.make = 'Honda'\n",
    "#print mycar.make\n",
    "#print Car.make\n",
    "#print yourcar.make\n",
    "#print mycar.wheels\n",
    "#Car.wheels = 6\n",
    "#print mycar.wheels\n",
    "#mycar.wheels = 400\n",
    "#print mycar.wheels\n",
    "#print Car.wheels"
   ]
  },
  {
   "cell_type": "markdown",
   "metadata": {},
   "source": [
    "##### Notes:\n",
    "------\n",
    "\n",
    "The first argument to all instance methods is a reference to the instance itself and \n",
    "is implicitly passed while invoking the method from the instance. \n",
    "\n",
    "But while defining a method in the class definition, we need to explicitly provide the argument.\n",
    "\n",
    "As a convention, `self` is the name of the argument given to refer to its own instance.\n",
    "But nothing prevents you from naming it something else, eg:- this\n",
    "\n",
    "The arguments other than `self`, which are declared in the `__init__` method needs to be\n",
    "passed while object instantiation which will be then passed on to `__init__` method."
   ]
  },
  {
   "cell_type": "code",
   "execution_count": 13,
   "metadata": {},
   "outputs": [
    {
     "name": "stdout",
     "output_type": "stream",
     "text": [
      "4\n",
      "\n",
      "4\n",
      "Hyundai\n",
      "i20\n"
     ]
    }
   ],
   "source": [
    "print Car.wheels                       # wheels - class attribute\n",
    "print\n",
    "print mycar.wheels\n",
    "print mycar.make                       # make and model are instance attributes\n",
    "print mycar.model"
   ]
  },
  {
   "cell_type": "code",
   "execution_count": 18,
   "metadata": {},
   "outputs": [
    {
     "name": "stdout",
     "output_type": "stream",
     "text": [
      "BMW\n",
      "Hyundai\n"
     ]
    }
   ],
   "source": [
    "Car.wheels = 5\n",
    "#print mycar.wheels\n",
    "Car.make = \"BMW\"\n",
    "print Car.make\n",
    "print mycar.make"
   ]
  },
  {
   "cell_type": "code",
   "execution_count": 14,
   "metadata": {},
   "outputs": [
    {
     "name": "stdout",
     "output_type": "stream",
     "text": [
      "8\n",
      "8\n"
     ]
    }
   ],
   "source": [
    "#mycar.wheels = 6\n",
    "\n",
    "\n",
    "Car.wheels = 8\n",
    "print Car.wheels\n",
    "print mycar.wheels\n",
    "\n",
    "#print mycar.__dict__\n",
    "#delattr(mycar, 'wheels')\n",
    "#print mycar.__dict__\n",
    "#print getattr(mycar,'wheels')"
   ]
  },
  {
   "cell_type": "markdown",
   "metadata": {},
   "source": [
    "##### Note:\n",
    "\n",
    "Python allows new atttributes to be created on the fly on classes and objects.\n",
    "\n",
    "Class attributes can be accessed from instance in a read only fashion. If we try to set a value to a class attribute from the instance, python creates a new instance attribute by the same name which shadows the class attribute."
   ]
  },
  {
   "cell_type": "code",
   "execution_count": 36,
   "metadata": {},
   "outputs": [
    {
     "name": "stdout",
     "output_type": "stream",
     "text": [
      "Calling Child's __init__\n",
      "Hi from Grand Parent\n",
      "Hi from Grand Parent\n"
     ]
    },
    {
     "data": {
      "text/plain": [
       "instancemethod"
      ]
     },
     "execution_count": 36,
     "metadata": {},
     "output_type": "execute_result"
    }
   ],
   "source": [
    "class GrandParent(object):\n",
    "    def __init__(self, *args):\n",
    "        print \"Calling Grand Parent __init__\"\n",
    "        \n",
    "    def getvalue(self):\n",
    "        print \"Hi from Grand Parent\"\n",
    "\n",
    "\n",
    "\n",
    "class Parent(GrandParent):\n",
    "    \n",
    "    def __init__(self):\n",
    "        self.a = 10\n",
    "        print \"Calling parents __init__\"\n",
    "    \n",
    "    @classmethod\n",
    "    def getGrandParentObj(cls):\n",
    "        return super(cls, self).__init__()\n",
    "    \n",
    "    \"\"\"\n",
    "    @classmethod\n",
    "    def getvalue(cls):\n",
    "        print cls.value\n",
    "        super(Child, self).getvalue()\n",
    "    \n",
    "    \n",
    "    def getvalue(self):\n",
    "        print \"Hi\"\n",
    "    \"\"\"\n",
    "\n",
    "\n",
    "class Parent2(GrandParent):\n",
    "    def __init__(self):\n",
    "        print \"Calling second parents __init__\"\n",
    "    \n",
    "    \"\"\"\n",
    "    def getvalue(self):\n",
    "        print \"Hi from second parent\"\n",
    "    \"\"\"\n",
    "        \n",
    "class Child(Parent2, Parent):\n",
    "    value = 10\n",
    "\n",
    "    def __init__(self):\n",
    "        print \"Calling Child's __init__\"\n",
    "        #super(Child, self).__init__()\n",
    "        self.getvalue()\n",
    "    \n",
    "    \n",
    "      \n",
    "\n",
    "#Child.getvalue()\n",
    "c = Child()\n",
    "c.getvalue()\n",
    "# Child.getvalue()\n",
    "type(Parent.getGrandParentObj)        \n",
    "        "
   ]
  },
  {
   "cell_type": "code",
   "execution_count": 31,
   "metadata": {},
   "outputs": [
    {
     "name": "stdout",
     "output_type": "stream",
     "text": [
      "10\n",
      "10\n"
     ]
    },
    {
     "data": {
      "text/plain": [
       "int"
      ]
     },
     "execution_count": 31,
     "metadata": {},
     "output_type": "execute_result"
    }
   ],
   "source": [
    "print getattr(c, 'value')\n",
    "print c.value\n",
    "hasattr(c, 'value')\n",
    "type(c.value)"
   ]
  },
  {
   "cell_type": "code",
   "execution_count": 42,
   "metadata": {},
   "outputs": [
    {
     "name": "stdout",
     "output_type": "stream",
     "text": [
      "2\n"
     ]
    },
    {
     "ename": "TypeError",
     "evalue": "unsupported operand type(s) for +: 'MyClass' and 'MyClass'",
     "output_type": "error",
     "traceback": [
      "\u001b[1;31m---------------------------------------------------------------------------\u001b[0m",
      "\u001b[1;31mTypeError\u001b[0m                                 Traceback (most recent call last)",
      "\u001b[1;32m<ipython-input-42-0898e809c37b>\u001b[0m in \u001b[0;36m<module>\u001b[1;34m()\u001b[0m\n\u001b[0;32m     18\u001b[0m \u001b[1;31m#print len(obj2)\u001b[0m\u001b[1;33m\u001b[0m\u001b[1;33m\u001b[0m\u001b[0m\n\u001b[0;32m     19\u001b[0m \u001b[1;33m\u001b[0m\u001b[0m\n\u001b[1;32m---> 20\u001b[1;33m \u001b[1;32mprint\u001b[0m \u001b[0mobj\u001b[0m \u001b[1;33m+\u001b[0m \u001b[0mobj2\u001b[0m\u001b[1;33m\u001b[0m\u001b[0m\n\u001b[0m",
      "\u001b[1;31mTypeError\u001b[0m: unsupported operand type(s) for +: 'MyClass' and 'MyClass'"
     ]
    }
   ],
   "source": [
    "class MyClass(object):\n",
    "    def __init__(self, *args):\n",
    "        self.args = args\n",
    "        self.__val = 5\n",
    "        \n",
    "    def __len__(self):\n",
    "        return len(self.args)\n",
    "    \"\"\"\n",
    "    def __add__(self, other):\n",
    "        return len(self.args) + len(other.args)\n",
    "    \"\"\"\n",
    "obj = MyClass('foo', 'baz')\n",
    "#print obj._MyClass__val\n",
    "print len(obj)\n",
    "\n",
    "\n",
    "obj2 = MyClass('egg', 'spam')\n",
    "#print len(obj2)\n",
    "\n",
    "print obj + obj2"
   ]
  },
  {
   "cell_type": "code",
   "execution_count": 26,
   "metadata": {},
   "outputs": [
    {
     "name": "stdout",
     "output_type": "stream",
     "text": [
      "10\n"
     ]
    }
   ],
   "source": [
    "\n",
    "class MyContainer(object):\n",
    "    name = 'Container'\n",
    "    def __init__(self, *args):\n",
    "        self.args = args\n",
    "        \n",
    "    def __iter__(self):\n",
    "        return iter(self.args)\n",
    "    \n",
    "    @classmethod\n",
    "    def hello(cls):\n",
    "        return \"Hello, I am %s\" % cls.name\n",
    "    \n",
    "    @staticmethod\n",
    "    def hi():\n",
    "        return MyContainer.hello()\n",
    "    \n",
    "    @property\n",
    "    def product(self):\n",
    "        return 10\n",
    "    \n",
    "cont = MyContainer(4,5,7, 8, 9)\n",
    "\n",
    "cont.hi()\n",
    "\n",
    "#for item in cont:\n",
    "#    print item\n",
    "    \n",
    "#print MyContainer.hello() \n",
    "#print cont.hello()\n",
    "#print MyContainer.hi()\n",
    "print cont.product"
   ]
  },
  {
   "cell_type": "code",
   "execution_count": 31,
   "metadata": {},
   "outputs": [
    {
     "data": {
      "text/plain": [
       "dict_proxy({'__dict__': <attribute '__dict__' of 'MyContainer' objects>,\n",
       "            '__doc__': None,\n",
       "            '__init__': <function __main__.__init__>,\n",
       "            '__iter__': <function __main__.__iter__>,\n",
       "            '__module__': '__main__',\n",
       "            '__weakref__': <attribute '__weakref__' of 'MyContainer' objects>,\n",
       "            'hello': <classmethod at 0x3956dc8>,\n",
       "            'hi': <staticmethod at 0x4194d68>,\n",
       "            'name': 'Container',\n",
       "            'product': <property at 0x419c278>})"
      ]
     },
     "execution_count": 31,
     "metadata": {},
     "output_type": "execute_result"
    }
   ],
   "source": [
    "cont.__dict__\n",
    "MyContainer.__dict__"
   ]
  },
  {
   "cell_type": "code",
   "execution_count": null,
   "metadata": {
    "collapsed": true
   },
   "outputs": [],
   "source": []
  }
 ],
 "metadata": {
  "kernelspec": {
   "display_name": "Python 2",
   "language": "python",
   "name": "python2"
  },
  "language_info": {
   "codemirror_mode": {
    "name": "ipython",
    "version": 2
   },
   "file_extension": ".py",
   "mimetype": "text/x-python",
   "name": "python",
   "nbconvert_exporter": "python",
   "pygments_lexer": "ipython2",
   "version": "2.7.13"
  }
 },
 "nbformat": 4,
 "nbformat_minor": 1
}
