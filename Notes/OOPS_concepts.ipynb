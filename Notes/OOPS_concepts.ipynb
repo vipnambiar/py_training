{
 "cells": [
  {
   "cell_type": "markdown",
   "metadata": {},
   "source": [
    "# Object oriented programming concepts\n",
    "-------------------------------------------------------"
   ]
  },
  {
   "cell_type": "markdown",
   "metadata": {},
   "source": [
    "* Everything in python is an object. (integers, strings, lists and even functions and classes)\n",
    "* Objects are the basic building blocks of a python program.\n",
    "* Every object has a type and an id. the builtin functions type() and id() are used to retrieve this info."
   ]
  },
  {
   "cell_type": "code",
   "execution_count": null,
   "metadata": {},
   "outputs": [],
   "source": [
    "print \"Type of 1 is\", type(1)\n",
    "print \"id of 1 is\", id(1)\n",
    "print\n",
    "print \"Type of 'Hello World' is\", type('Hello World')\n",
    "print \"id of 'Hello World' is\", id('Hello World')\n",
    "print\n",
    "lst = ['eggs', 'spam']\n",
    "print \"Type of lst is\", type(lst)\n",
    "print \"id of lst is\", id(lst)"
   ]
  },
  {
   "cell_type": "code",
   "execution_count": null,
   "metadata": {},
   "outputs": [],
   "source": [
    "print type(object)\n",
    "print type(list)\n",
    "print type(int)"
   ]
  },
  {
   "cell_type": "markdown",
   "metadata": {},
   "source": [
    "#### A Class is a definition of a type of object. You can define your own custom type of object by defining a class.\n",
    "They act as blueprint or moulds for creating different type of objects"
   ]
  },
  {
   "cell_type": "code",
   "execution_count": 2,
   "metadata": {},
   "outputs": [
    {
     "name": "stdout",
     "output_type": "stream",
     "text": [
      "<type 'classobj'>\n",
      "<type 'type'>\n"
     ]
    }
   ],
   "source": [
    "class Foo:\n",
    "    'An empty class'\n",
    "    var = 10\n",
    "\n",
    "print type(Foo)\n",
    "obj = Foo()  # This is how you create an object from its class - object instantiaton\n",
    "#print \"Type of obj is\", type(obj)\n",
    "#print \"id of obj is\", id(obj)\n",
    "\n",
    "class Baz(object):\n",
    "    'A new style class'\n",
    "    var = 5\n",
    "print type(Baz)\n",
    "\n",
    "x = Baz()\n",
    "#print type(x)\n",
    "#print x.__class__\n",
    "#print dir(Foo)\n",
    "#print dir(Baz)"
   ]
  },
  {
   "cell_type": "markdown",
   "metadata": {},
   "source": [
    "A class is defined:\n",
    "- using the `class` keyword followed by the name of the class\n",
    "- If your class is not inheriting from any other class it usually inherits from the base class `object`\n",
    "- Immediately after class declaration you can put a few lines of comments which describes your class. This is know as your class docs. this is not required but is considered as a best practice. "
   ]
  },
  {
   "cell_type": "code",
   "execution_count": null,
   "metadata": {},
   "outputs": [],
   "source": [
    "print Foo.__doc__"
   ]
  },
  {
   "cell_type": "code",
   "execution_count": null,
   "metadata": {},
   "outputs": [],
   "source": [
    "print dir(obj)\n",
    "print\n",
    "print obj.__dict__\n",
    "obj.value = 10\n",
    "print\n",
    "print obj.__dict__\n",
    "print\n",
    "print dir(obj)"
   ]
  },
  {
   "cell_type": "markdown",
   "metadata": {},
   "source": [
    "#### New style classes and classic classes"
   ]
  },
  {
   "cell_type": "code",
   "execution_count": 6,
   "metadata": {},
   "outputs": [
    {
     "name": "stdout",
     "output_type": "stream",
     "text": [
      "B\n"
     ]
    }
   ],
   "source": [
    "# Prior to Python 2.2\n",
    "\n",
    "class A:\n",
    "    '''old style or classic class'''\n",
    "    pass\n",
    "\n",
    "\n",
    "# New style classes introduced in python 2.2\n",
    "\n",
    "class B(object):\n",
    "    '''new style class'''\n",
    "    var = 10\n",
    "    def getvalue(self):\n",
    "        return self.var\n",
    "\n",
    "\n",
    "a = A()\n",
    "b = B()\n",
    "\n",
    "#print dir(a)\n",
    "#print\n",
    "#print dir(b)\n",
    "#print isinstance(a, A)\n",
    "#print isinstance(b, B)\n",
    "#print a.__class__.__name__\n",
    "print b.__class__.__name__"
   ]
  },
  {
   "cell_type": "markdown",
   "metadata": {
    "collapsed": true
   },
   "source": [
    "#### Class attributes and Instance attributes"
   ]
  },
  {
   "cell_type": "code",
   "execution_count": 17,
   "metadata": {},
   "outputs": [
    {
     "name": "stdout",
     "output_type": "stream",
     "text": [
      "Hyundai\n",
      "Maruti\n"
     ]
    }
   ],
   "source": [
    "class Car(object):\n",
    "    'A sample class defining a Car'\n",
    "    \n",
    "    wheels = 4\n",
    "    make = 'Maruti'\n",
    "    model = '800'\n",
    "\n",
    "    def __init__(self, make, model): # __init__ special method is an object initializer\n",
    "        self.make = make             # This method is implicitly invoked while instantiating \n",
    "        self.model = model           # an object from the class.\n",
    "    \n",
    "    @classmethod\n",
    "    def from_year(cls, make, model, year):\n",
    "        obj = cls(make, model)\n",
    "        obj.year = year\n",
    "        return obj\n",
    "\n",
    "mycar = Car('Hyundai', 'i20')\n",
    "newcar = Car.from_year('Hyundai', 'i20', 2017)\n",
    "print mycar.make\n",
    "print Car.make\n",
    "#yourcar = Car('Maruti', 'swift')\n",
    "#mycar=Car()\n",
    "#youcar = Car()\n",
    "\n",
    "#print Car.make\n",
    "#print Car.model\n",
    "#print mycar.make\n",
    "#print mycar.model\n",
    "#mycar.make = 'Honda'\n",
    "#print mycar.make\n",
    "#print Car.make\n",
    "#print yourcar.make\n",
    "#print mycar.wheels\n",
    "#Car.wheels = 6\n",
    "#print mycar.wheels\n",
    "#mycar.wheels = 400\n",
    "#print mycar.wheels\n",
    "#print Car.wheels"
   ]
  },
  {
   "cell_type": "markdown",
   "metadata": {},
   "source": [
    "##### Notes:\n",
    "------\n",
    "\n",
    "The first argument to all instance methods is a reference to the instance itself and \n",
    "is implicitly passed while invoking the method from the instance. \n",
    "\n",
    "But while defining a method in the class definition, we need to explicitly provide the argument.\n",
    "\n",
    "As a convention, `self` is the name of the argument given to refer to its own instance.\n",
    "But nothing prevents you from naming it something else, eg:- this\n",
    "\n",
    "The arguments other than `self`, which are declared in the `__init__` method needs to be\n",
    "passed while object instantiation which will be then passed on to `__init__` method."
   ]
  },
  {
   "cell_type": "code",
   "execution_count": null,
   "metadata": {},
   "outputs": [],
   "source": [
    "print Car.wheels                       # wheels - class attribute\n",
    "print\n",
    "print mycar.wheels\n",
    "print mycar.make                       # make and model are instance attributes\n",
    "print mycar.model"
   ]
  },
  {
   "cell_type": "code",
   "execution_count": 18,
   "metadata": {},
   "outputs": [
    {
     "name": "stdout",
     "output_type": "stream",
     "text": [
      "BMW\n",
      "Hyundai\n"
     ]
    }
   ],
   "source": [
    "Car.wheels = 5\n",
    "#print mycar.wheels\n",
    "Car.make = \"BMW\"\n",
    "print Car.make\n",
    "print mycar.make"
   ]
  },
  {
   "cell_type": "code",
   "execution_count": 21,
   "metadata": {},
   "outputs": [
    {
     "name": "stdout",
     "output_type": "stream",
     "text": [
      "4\n",
      "5\n",
      "{'wheels': 4, 'make': 'Hyundai', 'model': 'i20'}\n",
      "{'make': 'Hyundai', 'model': 'i20'}\n",
      "5\n"
     ]
    }
   ],
   "source": [
    "mycar.wheels = 4\n",
    "print mycar.wheels\n",
    "print Car.wheels\n",
    "print mycar.__dict__\n",
    "delattr(mycar, 'wheels')\n",
    "print mycar.__dict__\n",
    "print getattr(mycar,'wheels')"
   ]
  },
  {
   "cell_type": "markdown",
   "metadata": {},
   "source": [
    "##### Note:\n",
    "\n",
    "Python allows new atttributes to be created on the fly on classes and objects.\n",
    "\n",
    "Class attributes can be accessed from instance in a read only fashion. If we try to set a value to a class attribute from the instance, python creates a new instance attribute by the same name which shadows the class attribute."
   ]
  },
  {
   "cell_type": "code",
   "execution_count": 27,
   "metadata": {},
   "outputs": [
    {
     "name": "stdout",
     "output_type": "stream",
     "text": [
      "Calling Child's __init__\n",
      "Calling second parents __init__\n",
      "Hi\n",
      "None\n"
     ]
    }
   ],
   "source": [
    "\n",
    "class Parent(object):\n",
    "    \"\"\"\n",
    "    def __init__(self):\n",
    "        self.a = 10\n",
    "        print \"Calling parents __init__\"\n",
    "    \"\"\"\n",
    "    \"\"\"    \n",
    "    @classmethod\n",
    "    def getvalue(cls):\n",
    "        print cls.value\n",
    "        # super(Child, self).getvalue()\n",
    "    \"\"\"        \n",
    "    def getvalue(self):\n",
    "        print \"Hi\"\n",
    "\n",
    "\n",
    "\n",
    "class Parent2(object):\n",
    "    def __init__(self):\n",
    "        print \"Calling second parents __init__\"\n",
    "       \n",
    "    def getvalue(self):\n",
    "        print \"Hi from second parent\"\n",
    "    \n",
    "        \n",
    "class Child(Parent, Parent2):\n",
    "    value = 10\n",
    "\n",
    "    def __init__(self):\n",
    "        print \"Calling Child's __init__\"\n",
    "        super(Child, self).__init__()\n",
    "        print self.getvalue()\n",
    "    \n",
    "    \n",
    "      \n",
    "\n",
    "#Child.getvalue()\n",
    "c = Child()\n",
    "#c.getvalue()\n",
    "# Child.getvalue()\n",
    "        \n",
    "        "
   ]
  },
  {
   "cell_type": "code",
   "execution_count": 8,
   "metadata": {},
   "outputs": [
    {
     "name": "stdout",
     "output_type": "stream",
     "text": [
      "10\n",
      "10\n"
     ]
    },
    {
     "data": {
      "text/plain": [
       "True"
      ]
     },
     "execution_count": 8,
     "metadata": {},
     "output_type": "execute_result"
    }
   ],
   "source": [
    "print getattr(c, 'value')\n",
    "print c.value\n",
    "hasattr(c, 'value')"
   ]
  },
  {
   "cell_type": "code",
   "execution_count": 13,
   "metadata": {},
   "outputs": [
    {
     "name": "stdout",
     "output_type": "stream",
     "text": [
      "5\n",
      "1\n",
      "2\n",
      "('foo', 'egg', 'spam')\n"
     ]
    }
   ],
   "source": [
    "class MyClass(object):\n",
    "    def __init__(self, *args):\n",
    "        self.args = args\n",
    "        self.__val = 5\n",
    "        \n",
    "    def __len__(self):\n",
    "        return len(self.args)\n",
    "    \n",
    "    def __add__(self, other):\n",
    "        return self.args + other.args\n",
    "\n",
    "obj = MyClass('foo')\n",
    "print obj._MyClass__val\n",
    "print len(obj)\n",
    "\n",
    "\n",
    "obj2 = MyClass('egg', 'spam')\n",
    "print len(obj2)\n",
    "\n",
    "print obj + obj2"
   ]
  },
  {
   "cell_type": "code",
   "execution_count": 15,
   "metadata": {},
   "outputs": [
    {
     "name": "stdout",
     "output_type": "stream",
     "text": [
      "10\n"
     ]
    }
   ],
   "source": [
    "\n",
    "class MyContainer(object):\n",
    "    name = 'Container'\n",
    "    def __init__(self, *args):\n",
    "        self.args = args\n",
    "        \n",
    "    def __iter__(self):\n",
    "        return iter(self.args)\n",
    "    \n",
    "    @classmethod\n",
    "    def hello(cls):\n",
    "        return \"Hello, I am %s\" % cls.name\n",
    "    \n",
    "    @staticmethod\n",
    "    def hi():\n",
    "        return MyContainer.hello()\n",
    "    \n",
    "    @property\n",
    "    def product(self):\n",
    "        return 10\n",
    "    \n",
    "cont = MyContainer(4,5,7, 8, 9)\n",
    "\n",
    "#for item in cont:\n",
    "#    print item\n",
    "    \n",
    "#print MyContainer.hello() \n",
    "#print cont.hello()\n",
    "#print MyContainer.hi()\n",
    "print cont.product"
   ]
  },
  {
   "cell_type": "code",
   "execution_count": null,
   "metadata": {},
   "outputs": [],
   "source": [
    "cont.__class__"
   ]
  },
  {
   "cell_type": "code",
   "execution_count": null,
   "metadata": {
    "collapsed": true
   },
   "outputs": [],
   "source": []
  }
 ],
 "metadata": {
  "kernelspec": {
   "display_name": "Python 2",
   "language": "python",
   "name": "python2"
  },
  "language_info": {
   "codemirror_mode": {
    "name": "ipython",
    "version": 2
   },
   "file_extension": ".py",
   "mimetype": "text/x-python",
   "name": "python",
   "nbconvert_exporter": "python",
   "pygments_lexer": "ipython2",
   "version": "2.7.13"
  }
 },
 "nbformat": 4,
 "nbformat_minor": 1
}
