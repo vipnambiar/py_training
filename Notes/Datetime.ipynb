{
 "cells": [
  {
   "cell_type": "markdown",
   "metadata": {},
   "source": [
    "## Handling Date and time"
   ]
  },
  {
   "cell_type": "markdown",
   "metadata": {},
   "source": [
    "#### Naive Datetime (Does not have timezone info)"
   ]
  },
  {
   "cell_type": "code",
   "execution_count": 1,
   "metadata": {},
   "outputs": [
    {
     "name": "stdout",
     "output_type": "stream",
     "text": [
      "2018-04-05 19:19:25.883000\n",
      "<type 'datetime.datetime'>\n"
     ]
    }
   ],
   "source": [
    "from datetime import datetime, timedelta, tzinfo\n",
    "\n",
    "today = datetime.now()\n",
    "print today\n",
    "print type(today)"
   ]
  },
  {
   "cell_type": "markdown",
   "metadata": {},
   "source": [
    "#### Timezone aware datetime"
   ]
  },
  {
   "cell_type": "markdown",
   "metadata": {},
   "source": [
    "***Approach 1 - Creating a custom timezone object using abstract class tzinfo***"
   ]
  },
  {
   "cell_type": "code",
   "execution_count": 2,
   "metadata": {},
   "outputs": [
    {
     "name": "stdout",
     "output_type": "stream",
     "text": [
      "2018-01-10 13:20:32.321000+05:30\n"
     ]
    }
   ],
   "source": [
    "# Subclassing tzinfo abstract class to get our tzinfo object\n",
    "class IST(tzinfo):\n",
    "    def utcoffset(self, dt):\n",
    "        return timedelta(hours=5, minutes=30) + self.dst(dt)\n",
    "\n",
    "    def dst(self, dt):\n",
    "        # DST is not followed in this timezone\n",
    "        return timedelta(0)\n",
    "    \n",
    "    def tzname(self,dt):\n",
    "        return \"GMT +5:30\"\n",
    "\n",
    "tz = IST()\n",
    "today = datetime.now(tz)\n",
    "print today"
   ]
  },
  {
   "cell_type": "markdown",
   "metadata": {},
   "source": [
    "*** Approach 2 - Using third party package called pytz ***"
   ]
  },
  {
   "cell_type": "code",
   "execution_count": 21,
   "metadata": {},
   "outputs": [
    {
     "name": "stdout",
     "output_type": "stream",
     "text": [
      "CDT 2018-04-05 11:52:11.936000-05:00\n",
      "UTC 2018-04-05 16:52:11.936000+00:00\n",
      "CDT 2018-03-06 11:52:11.936000-05:00\n",
      "CST 2018-03-06 10:52:11.936000-06:00\n",
      "UTC 2018-03-06 16:52:11.936000+00:00\n"
     ]
    }
   ],
   "source": [
    "import pytz\n",
    "\n",
    "tz = pytz.timezone('US/Central')\n",
    "today = datetime.now(tz)\n",
    "print 'CDT', today\n",
    "print 'UTC', today.astimezone(pytz.utc)\n",
    "old_date = today - timedelta(hours=30*24)\n",
    "normalized_dt = tz.normalize(old_date)\n",
    "print 'CDT', old_date\n",
    "print 'CST', normalized_dt\n",
    "print 'UTC', normalized_dt.astimezone(pytz.utc)"
   ]
  },
  {
   "cell_type": "markdown",
   "metadata": {},
   "source": [
    "#### Convert to a different timezone"
   ]
  },
  {
   "cell_type": "code",
   "execution_count": 5,
   "metadata": {},
   "outputs": [
    {
     "name": "stdout",
     "output_type": "stream",
     "text": [
      "2018-01-10 13:22:19.205000+05:30\n"
     ]
    }
   ],
   "source": [
    "cst = pytz.timezone('US/Central')\n",
    "est = pytz.timezone('US/Eastern')\n",
    "ist = pytz.timezone('Asia/Kolkata')\n",
    "cst_date = today.astimezone(cst)\n",
    "print cst_date.astimezone(ist)\n",
    "\n",
    "#print cst_date\n",
    "#print cst_date.tzinfo\n",
    "#print cst_date.date()\n",
    "#print cst_date.weekday()\n",
    "#print cst_date.day\n",
    "#print cst_date.month\n",
    "#print cst_date.year\n",
    "\n",
    "#print cst_date.astimezone(ist)"
   ]
  },
  {
   "cell_type": "markdown",
   "metadata": {},
   "source": [
    "#### Converting from datetime to string and back"
   ]
  },
  {
   "cell_type": "code",
   "execution_count": 6,
   "metadata": {},
   "outputs": [
    {
     "name": "stdout",
     "output_type": "stream",
     "text": [
      "<type 'str'>\n",
      "2018/Jan/10 01:52:19\n",
      "<type 'datetime.datetime'>\n",
      "2016-10-18 00:00:00\n"
     ]
    }
   ],
   "source": [
    "# convert to string\n",
    "str_date = today.strftime('%Y/%b/%d %H:%M:%S')\n",
    "print type(str_date)\n",
    "print str_date\n",
    "\n",
    "# convert back to datetime\n",
    "dt = datetime.strptime('10/18/2016', '%m/%d/%Y')\n",
    "print type(dt)\n",
    "print dt"
   ]
  }
 ],
 "metadata": {
  "kernelspec": {
   "display_name": "Python 2",
   "language": "python",
   "name": "python2"
  },
  "language_info": {
   "codemirror_mode": {
    "name": "ipython",
    "version": 2
   },
   "file_extension": ".py",
   "mimetype": "text/x-python",
   "name": "python",
   "nbconvert_exporter": "python",
   "pygments_lexer": "ipython2",
   "version": "2.7.13"
  }
 },
 "nbformat": 4,
 "nbformat_minor": 1
}
