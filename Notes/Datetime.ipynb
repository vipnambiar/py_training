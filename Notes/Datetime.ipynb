{
 "cells": [
  {
   "cell_type": "markdown",
   "metadata": {},
   "source": [
    "## Handling Date and time"
   ]
  },
  {
   "cell_type": "markdown",
   "metadata": {},
   "source": [
    "#### Naive Datetime (Does not have timezone info)"
   ]
  },
  {
   "cell_type": "code",
   "execution_count": 2,
   "metadata": {},
   "outputs": [
    {
     "name": "stdout",
     "output_type": "stream",
     "text": [
      "2017-07-18 12:05:23.889000\n",
      "<type 'datetime.datetime'>\n"
     ]
    }
   ],
   "source": [
    "from datetime import datetime, timedelta, tzinfo\n",
    "\n",
    "today = datetime.now()\n",
    "print today\n",
    "print type(today)"
   ]
  },
  {
   "cell_type": "markdown",
   "metadata": {},
   "source": [
    "#### Timezone aware datetime"
   ]
  },
  {
   "cell_type": "markdown",
   "metadata": {},
   "source": [
    "***Approach 1 - Creating a custom timezone object using abstract class tzinfo***"
   ]
  },
  {
   "cell_type": "code",
   "execution_count": 10,
   "metadata": {},
   "outputs": [
    {
     "name": "stdout",
     "output_type": "stream",
     "text": [
      "2017-01-20 12:02:19.103000+05:30\n"
     ]
    }
   ],
   "source": [
    "# Subclassing tzinfo abstract class to get our tzinfo object\n",
    "class IST(tzinfo):\n",
    "    def utcoffset(self, dt):\n",
    "        return timedelta(hours=5, minutes=30) + self.dst(dt)\n",
    "\n",
    "    def dst(self, dt):\n",
    "        # DST is not followed in this timezone\n",
    "        return timedelta(0)\n",
    "    \n",
    "    def tzname(self,dt):\n",
    "        return \"GMT +5:30\"\n",
    "\n",
    "tz = IST()\n",
    "today = datetime.now(tz)\n",
    "print today"
   ]
  },
  {
   "cell_type": "markdown",
   "metadata": {},
   "source": [
    "*** Approach 2 - Using third party package called pytz ***"
   ]
  },
  {
   "cell_type": "code",
   "execution_count": 9,
   "metadata": {},
   "outputs": [
    {
     "name": "stdout",
     "output_type": "stream",
     "text": [
      "<type 'NoneType'>\n"
     ]
    },
    {
     "ename": "AttributeError",
     "evalue": "'NoneType' object has no attribute 'make'",
     "output_type": "error",
     "traceback": [
      "\u001b[1;31m---------------------------------------------------------------------------\u001b[0m",
      "\u001b[1;31mAttributeError\u001b[0m                            Traceback (most recent call last)",
      "\u001b[1;32m<ipython-input-9-015db264629a>\u001b[0m in \u001b[0;36m<module>\u001b[1;34m()\u001b[0m\n\u001b[0;32m     17\u001b[0m \u001b[0mmaruti\u001b[0m \u001b[1;33m=\u001b[0m \u001b[0mHatchback\u001b[0m\u001b[1;33m(\u001b[0m\u001b[1;34m'Maruti'\u001b[0m\u001b[1;33m)\u001b[0m\u001b[1;33m\u001b[0m\u001b[0m\n\u001b[0;32m     18\u001b[0m \u001b[1;32mprint\u001b[0m \u001b[0mtype\u001b[0m\u001b[1;33m(\u001b[0m\u001b[0mmaruti\u001b[0m\u001b[1;33m)\u001b[0m\u001b[1;33m\u001b[0m\u001b[0m\n\u001b[1;32m---> 19\u001b[1;33m \u001b[0mmaruti\u001b[0m\u001b[1;33m.\u001b[0m\u001b[0mmake\u001b[0m\u001b[1;33m(\u001b[0m\u001b[1;33m)\u001b[0m\u001b[1;33m\u001b[0m\u001b[0m\n\u001b[0m",
      "\u001b[1;31mAttributeError\u001b[0m: 'NoneType' object has no attribute 'make'"
     ]
    }
   ],
   "source": [
    "from abc import ABCMeta\n",
    "\n",
    "def Car(object):\n",
    "    __metaclass__ = ABCMeta\n",
    "    \n",
    "    @abstractmethod\n",
    "    def make(self):\n",
    "        return None\n",
    "    \n",
    "def Hatchback(Car):\n",
    "    def __init__(self, make):\n",
    "        self.make = make\n",
    "\n",
    "    def make(self):\n",
    "        return self.make\n",
    "    \n",
    "maruti = Hatchback('Maruti')\n",
    "print type(maruti)\n",
    "maruti.make()"
   ]
  },
  {
   "cell_type": "code",
   "execution_count": 3,
   "metadata": {},
   "outputs": [
    {
     "name": "stdout",
     "output_type": "stream",
     "text": [
      "2017-07-18 01:35:30.625000-05:00\n"
     ]
    }
   ],
   "source": [
    "import pytz\n",
    "\n",
    "tz = pytz.timezone('US/Central')\n",
    "today = datetime.now(tz)\n",
    "print today"
   ]
  },
  {
   "cell_type": "markdown",
   "metadata": {},
   "source": [
    "#### Convert to a different timezone"
   ]
  },
  {
   "cell_type": "code",
   "execution_count": 4,
   "metadata": {},
   "outputs": [
    {
     "name": "stdout",
     "output_type": "stream",
     "text": [
      "2017-07-18 02:35:30.625000-04:00\n",
      "2017-07-18 01:35:30.625000-05:00\n",
      "18\n",
      "2017-07-18 12:05:30.625000+05:30\n"
     ]
    }
   ],
   "source": [
    "cst = pytz.timezone('US/Central')\n",
    "est = pytz.timezone('US/Eastern')\n",
    "ist = pytz.timezone('Asia/Kolkata')\n",
    "cst_date = today.astimezone(cst)\n",
    "print cst_date.astimezone(est)\n",
    "\n",
    "print cst_date\n",
    "#print cst_date.tzinfo\n",
    "#print cst_date.date()\n",
    "#print cst_date.weekday()\n",
    "#print cst_date.day\n",
    "#print cst_date.month\n",
    "#print cst_date.year\n",
    "\n",
    "print cst_date.astimezone(ist)"
   ]
  },
  {
   "cell_type": "markdown",
   "metadata": {},
   "source": [
    "#### Converting from datetime to string and back"
   ]
  },
  {
   "cell_type": "code",
   "execution_count": 5,
   "metadata": {},
   "outputs": [
    {
     "name": "stdout",
     "output_type": "stream",
     "text": [
      "<type 'str'>\n",
      "2017/Jul/18 01:35:30\n",
      "<type 'datetime.datetime'>\n",
      "2016-10-18 00:00:00\n"
     ]
    }
   ],
   "source": [
    "# convert to string\n",
    "str_date = today.strftime('%Y/%b/%d %H:%M:%S')\n",
    "print type(str_date)\n",
    "print str_date\n",
    "\n",
    "# convert back to datetime\n",
    "dt = datetime.strptime('10/18/2016', '%m/%d/%Y')\n",
    "print type(dt)\n",
    "print dt"
   ]
  },
  {
   "cell_type": "code",
   "execution_count": null,
   "metadata": {
    "collapsed": true
   },
   "outputs": [],
   "source": []
  }
 ],
 "metadata": {
  "kernelspec": {
   "display_name": "Python 2",
   "language": "python",
   "name": "python2"
  },
  "language_info": {
   "codemirror_mode": {
    "name": "ipython",
    "version": 2
   },
   "file_extension": ".py",
   "mimetype": "text/x-python",
   "name": "python",
   "nbconvert_exporter": "python",
   "pygments_lexer": "ipython2",
   "version": "2.7.13"
  }
 },
 "nbformat": 4,
 "nbformat_minor": 1
}
