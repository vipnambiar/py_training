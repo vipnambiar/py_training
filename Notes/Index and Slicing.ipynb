{
 "cells": [
  {
   "cell_type": "markdown",
   "metadata": {},
   "source": [
    "### Index and Slicing in sequences"
   ]
  },
  {
   "cell_type": "code",
   "execution_count": 2,
   "metadata": {
    "collapsed": false
   },
   "outputs": [
    {
     "name": "stdout",
     "output_type": "stream",
     "text": [
      "['oranges', 'banana', 'grapes']\n",
      "['watermelon', 'oranges', 'grapes']\n",
      "['banana', 'pineapple', 'mango']\n",
      "['mango', 'pineapple', 'banana', 'grapes', 'banana', 'oranges', 'apple', 'watermelon']\n",
      "['mango', 'banana', 'banana', 'apple']\n"
     ]
    }
   ],
   "source": [
    "# object[start:stop:step]\n",
    "\n",
    "l = ['watermelon', 'apple', 'oranges', 'banana', 'grapes', 'banana', 'pineapple', 'mango']\n",
    "\n",
    "print l[2:5]\n",
    "\n",
    "print l[:5:2]\n",
    "\n",
    "print l[5:]\n",
    "\n",
    "print l[::-1]\n",
    "\n",
    "print l[::-2]\n"
   ]
  }
 ],
 "metadata": {
  "kernelspec": {
   "display_name": "Python 2",
   "language": "python",
   "name": "python2"
  },
  "language_info": {
   "codemirror_mode": {
    "name": "ipython",
    "version": 2
   },
   "file_extension": ".py",
   "mimetype": "text/x-python",
   "name": "python",
   "nbconvert_exporter": "python",
   "pygments_lexer": "ipython2",
   "version": "2.7.11"
  }
 },
 "nbformat": 4,
 "nbformat_minor": 0
}
