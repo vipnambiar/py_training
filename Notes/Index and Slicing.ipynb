{
 "cells": [
  {
   "cell_type": "markdown",
   "metadata": {},
   "source": [
    "### Index and Slicing in sequences"
   ]
  },
  {
   "cell_type": "code",
   "execution_count": 1,
   "metadata": {},
   "outputs": [
    {
     "name": "stdout",
     "output_type": "stream",
     "text": [
      "['watermelon', 'oranges', 'grapes', 'pineapple']\n",
      "['banana', 'pineapple', 'mango']\n",
      "['mango', 'pineapple', 'banana', 'grapes', 'banana', 'oranges', 'apple', 'watermelon']\n",
      "['mango', 'banana', 'banana', 'apple']\n",
      "mango\n",
      "8\n"
     ]
    }
   ],
   "source": [
    "# object[start:stop:step]\n",
    "\n",
    "l = ['watermelon', 'apple', 'oranges', 'banana', 'grapes', 'banana', 'pineapple', 'mango']\n",
    "\n",
    "\n",
    "\n",
    "print l[:7:2]\n",
    "\n",
    "print l[5:]\n",
    "\n",
    "print l[::-1]\n",
    "\n",
    "print l[::-2]\n",
    "print l[-1]\n",
    "\n",
    "print len(l)"
   ]
  },
  {
   "cell_type": "code",
   "execution_count": null,
   "metadata": {
    "collapsed": true
   },
   "outputs": [],
   "source": []
  }
 ],
 "metadata": {
  "kernelspec": {
   "display_name": "Python 2",
   "language": "python",
   "name": "python2"
  },
  "language_info": {
   "codemirror_mode": {
    "name": "ipython",
    "version": 2
   },
   "file_extension": ".py",
   "mimetype": "text/x-python",
   "name": "python",
   "nbconvert_exporter": "python",
   "pygments_lexer": "ipython2",
   "version": "2.7.13"
  }
 },
 "nbformat": 4,
 "nbformat_minor": 1
}
