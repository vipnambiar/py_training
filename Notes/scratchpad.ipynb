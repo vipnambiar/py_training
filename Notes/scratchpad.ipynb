{
 "cells": [
  {
   "cell_type": "code",
   "execution_count": 6,
   "metadata": {
    "collapsed": false
   },
   "outputs": [
    {
     "name": "stdout",
     "output_type": "stream",
     "text": [
      "Hello Vipin, 10.57\n"
     ]
    }
   ],
   "source": [
    "name = \"Vipin\"\n",
    "count =10.5678\n",
    "st = \"Hello %s, %.2f\" % (name, count)\n",
    "\n",
    "print st"
   ]
  },
  {
   "cell_type": "code",
   "execution_count": 14,
   "metadata": {
    "collapsed": false
   },
   "outputs": [
    {
     "name": "stdout",
     "output_type": "stream",
     "text": [
      "Hello Vipin nambiar\n"
     ]
    }
   ],
   "source": [
    "first_name= \"Vipin\"\n",
    "last_name= \"nambiar\"\n",
    "\n",
    "st = \"Hello {first_name} {last_name}\".format(**locals())\n",
    "print st"
   ]
  },
  {
   "cell_type": "code",
   "execution_count": 18,
   "metadata": {
    "collapsed": false
   },
   "outputs": [
    {
     "name": "stdout",
     "output_type": "stream",
     "text": [
      "[2]\n",
      "[2, 4]\n",
      "[2, 4, 6]\n"
     ]
    }
   ],
   "source": [
    "\n",
    "def foo(a, x=[]):\n",
    "    x.append(a)\n",
    "    return x\n",
    "\n",
    "print foo(2)\n",
    "print foo(4)\n",
    "print foo(6)"
   ]
  },
  {
   "cell_type": "code",
   "execution_count": null,
   "metadata": {
    "collapsed": true
   },
   "outputs": [],
   "source": []
  }
 ],
 "metadata": {
  "kernelspec": {
   "display_name": "Python 2",
   "language": "python",
   "name": "python2"
  },
  "language_info": {
   "codemirror_mode": {
    "name": "ipython",
    "version": 2
   },
   "file_extension": ".py",
   "mimetype": "text/x-python",
   "name": "python",
   "nbconvert_exporter": "python",
   "pygments_lexer": "ipython2",
   "version": "2.7.11"
  }
 },
 "nbformat": 4,
 "nbformat_minor": 0
}
