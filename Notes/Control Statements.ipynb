{
 "cells": [
  {
   "cell_type": "markdown",
   "metadata": {},
   "source": [
    "## Control Flow Statements"
   ]
  },
  {
   "cell_type": "markdown",
   "metadata": {},
   "source": [
    "### if elif else"
   ]
  },
  {
   "cell_type": "code",
   "execution_count": 1,
   "metadata": {},
   "outputs": [
    {
     "name": "stdout",
     "output_type": "stream",
     "text": [
      "First condition\n"
     ]
    }
   ],
   "source": [
    "val = 5\n",
    "\n",
    "if val == 5:\n",
    "    print(\"First condition\")\n",
    "elif val == 10:\n",
    "    print(\"second condition\")\n",
    "else:\n",
    "    print(\"Default\")"
   ]
  },
  {
   "cell_type": "markdown",
   "metadata": {},
   "source": [
    "### While loop"
   ]
  },
  {
   "cell_type": "code",
   "execution_count": 2,
   "metadata": {},
   "outputs": [
    {
     "name": "stdout",
     "output_type": "stream",
     "text": [
      "10\n",
      "9\n",
      "8\n",
      "7\n",
      "6\n",
      "5\n",
      "4\n",
      "3\n",
      "2\n"
     ]
    }
   ],
   "source": [
    "n = 10\n",
    "while n > 2:\n",
    "    print(n)\n",
    "    n -= 1\n",
    "    \n",
    "    #if n == 4:\n",
    "    #    break\n",
    "print  n   "
   ]
  },
  {
   "cell_type": "markdown",
   "metadata": {},
   "source": [
    "### For loop"
   ]
  },
  {
   "cell_type": "code",
   "execution_count": 3,
   "metadata": {},
   "outputs": [
    {
     "name": "stdout",
     "output_type": "stream",
     "text": [
      "W\n",
      "o\n",
      "l\n",
      "d\n",
      "d\n"
     ]
    }
   ],
   "source": [
    "st = \"Hello World\"\n",
    "for char in st[6:]:\n",
    "    if char == 'r':\n",
    "        continue\n",
    "    print char\n",
    "print char"
   ]
  },
  {
   "cell_type": "code",
   "execution_count": 4,
   "metadata": {},
   "outputs": [
    {
     "name": "stdout",
     "output_type": "stream",
     "text": [
      "1\n",
      "3\n",
      "5\n",
      "7\n",
      "9\n",
      "11\n",
      "13\n",
      "15\n",
      "17\n",
      "19\n",
      "Hello\n"
     ]
    }
   ],
   "source": [
    "for i in range(1,20, 2):\n",
    "    #print st[i]\n",
    "    print i\n",
    "    #if i == 17:\n",
    "    #    break\n",
    "else:\n",
    "    print \"Hello\""
   ]
  },
  {
   "cell_type": "code",
   "execution_count": 5,
   "metadata": {},
   "outputs": [
    {
     "name": "stdout",
     "output_type": "stream",
     "text": [
      "n\n",
      "i\n",
      "p\n",
      "i\n",
      "V\n"
     ]
    }
   ],
   "source": [
    "name = 'Vipin'\n",
    "l = len(name)\n",
    "while l > 0:\n",
    "    print name[l-1]\n",
    "    l = l -1\n"
   ]
  }
 ],
 "metadata": {
  "kernelspec": {
   "display_name": "Python 2",
   "language": "python",
   "name": "python2"
  },
  "language_info": {
   "codemirror_mode": {
    "name": "ipython",
    "version": 2
   },
   "file_extension": ".py",
   "mimetype": "text/x-python",
   "name": "python",
   "nbconvert_exporter": "python",
   "pygments_lexer": "ipython2",
   "version": "2.7.13"
  }
 },
 "nbformat": 4,
 "nbformat_minor": 1
}
