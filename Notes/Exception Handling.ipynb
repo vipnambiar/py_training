{
 "cells": [
  {
   "cell_type": "markdown",
   "metadata": {},
   "source": [
    "##### Exception Handling"
   ]
  },
  {
   "cell_type": "code",
   "execution_count": 24,
   "metadata": {
    "collapsed": false
   },
   "outputs": [
    {
     "name": "stdout",
     "output_type": "stream",
     "text": [
      "Error: integer division or modulo by zero\n",
      "Cleaning up ..\n"
     ]
    }
   ],
   "source": [
    "\n",
    "x = 0\n",
    "try:\n",
    "    5/x\n",
    "except ZeroDivisionError as err:\n",
    "    print \"Error:\", err\n",
    "else:\n",
    "    print \"Success\"\n",
    "finally:\n",
    "    print \"Cleaning up ..\"\n",
    "    "
   ]
  },
  {
   "cell_type": "markdown",
   "metadata": {},
   "source": [
    "#### Multiple except blocks"
   ]
  },
  {
   "cell_type": "code",
   "execution_count": 23,
   "metadata": {
    "collapsed": false
   },
   "outputs": [
    {
     "name": "stdout",
     "output_type": "stream",
     "text": [
      "Error caught in Exception: name 'y' is not defined\n",
      "Cleaning up ..\n"
     ]
    }
   ],
   "source": [
    "x = 0\n",
    "try:\n",
    "    y/5\n",
    "except ZeroDivisionError as err:\n",
    "    print \"Error caught in ZeroDivisionError:\", err\n",
    "except Exception as err:\n",
    "    print \"Error caught in Exception:\", err\n",
    "else:\n",
    "    print \"Success\"\n",
    "finally:\n",
    "    print \"Cleaning up ..\""
   ]
  },
  {
   "cell_type": "markdown",
   "metadata": {},
   "source": [
    "#### Catching Multiple exceptions in single except block"
   ]
  },
  {
   "cell_type": "code",
   "execution_count": 31,
   "metadata": {
    "collapsed": false
   },
   "outputs": [
    {
     "name": "stdout",
     "output_type": "stream",
     "text": [
      "Error: list index out of range\n"
     ]
    }
   ],
   "source": [
    "l = ['fg', 'ld', 'tg']\n",
    "c = [2, 3, 4]\n",
    "d = dict(zip(l,c))\n",
    "\n",
    "try:\n",
    "    k = l[3]\n",
    "    v = d['fd']\n",
    "except (IndexError, KeyError) as err:\n",
    "    print \"Error:\", err\n",
    "else:\n",
    "    print \"Success\""
   ]
  },
  {
   "cell_type": "markdown",
   "metadata": {},
   "source": [
    "#### Re raising exceptions"
   ]
  },
  {
   "cell_type": "code",
   "execution_count": 26,
   "metadata": {
    "collapsed": false
   },
   "outputs": [
    {
     "name": "stdout",
     "output_type": "stream",
     "text": [
      "Error caught in ZeroDivisionError: integer division or modulo by zero\n",
      "Cleaning up ..\n"
     ]
    },
    {
     "ename": "ZeroDivisionError",
     "evalue": "integer division or modulo by zero",
     "output_type": "error",
     "traceback": [
      "\u001b[1;31m---------------------------------------------------------------------------\u001b[0m",
      "\u001b[1;31mZeroDivisionError\u001b[0m                         Traceback (most recent call last)",
      "\u001b[1;32m<ipython-input-26-0fab31356d05>\u001b[0m in \u001b[0;36m<module>\u001b[1;34m()\u001b[0m\n\u001b[0;32m      1\u001b[0m \u001b[0mx\u001b[0m \u001b[1;33m=\u001b[0m \u001b[1;36m0\u001b[0m\u001b[1;33m\u001b[0m\u001b[0m\n\u001b[0;32m      2\u001b[0m \u001b[1;32mtry\u001b[0m\u001b[1;33m:\u001b[0m\u001b[1;33m\u001b[0m\u001b[0m\n\u001b[1;32m----> 3\u001b[1;33m     \u001b[1;36m5\u001b[0m\u001b[1;33m/\u001b[0m\u001b[0mx\u001b[0m\u001b[1;33m\u001b[0m\u001b[0m\n\u001b[0m\u001b[0;32m      4\u001b[0m \u001b[1;32mexcept\u001b[0m \u001b[0mZeroDivisionError\u001b[0m \u001b[1;32mas\u001b[0m \u001b[0merr\u001b[0m\u001b[1;33m:\u001b[0m\u001b[1;33m\u001b[0m\u001b[0m\n\u001b[0;32m      5\u001b[0m     \u001b[1;32mprint\u001b[0m \u001b[1;34m\"Error caught in ZeroDivisionError:\"\u001b[0m\u001b[1;33m,\u001b[0m \u001b[0merr\u001b[0m\u001b[1;33m\u001b[0m\u001b[0m\n",
      "\u001b[1;31mZeroDivisionError\u001b[0m: integer division or modulo by zero"
     ]
    }
   ],
   "source": [
    "x = 0\n",
    "try:\n",
    "    5/x\n",
    "except ZeroDivisionError as err:\n",
    "    print \"Error caught in ZeroDivisionError:\", err\n",
    "    raise\n",
    "else:\n",
    "    print \"Success\"\n",
    "finally:\n",
    "    print \"Cleaning up ..\""
   ]
  },
  {
   "cell_type": "markdown",
   "metadata": {},
   "source": [
    "#### Custom Exceptions"
   ]
  },
  {
   "cell_type": "code",
   "execution_count": 15,
   "metadata": {
    "collapsed": false
   },
   "outputs": [
    {
     "name": "stdout",
     "output_type": "stream",
     "text": [
      "My Custom error\n",
      "Cleaning up ..\n"
     ]
    }
   ],
   "source": [
    "class MyException(Exception):\n",
    "    pass\n",
    "\n",
    "try:\n",
    "    raise MyException, \"My Custom error\"\n",
    "except Exception as e:\n",
    "    print e\n",
    "else:\n",
    "    print \"Success\"\n",
    "finally:\n",
    "    print \"Cleaning up ..\""
   ]
  }
 ],
 "metadata": {
  "kernelspec": {
   "display_name": "Python 2",
   "language": "python",
   "name": "python2"
  },
  "language_info": {
   "codemirror_mode": {
    "name": "ipython",
    "version": 2
   },
   "file_extension": ".py",
   "mimetype": "text/x-python",
   "name": "python",
   "nbconvert_exporter": "python",
   "pygments_lexer": "ipython2",
   "version": "2.7.11"
  }
 },
 "nbformat": 4,
 "nbformat_minor": 0
}
