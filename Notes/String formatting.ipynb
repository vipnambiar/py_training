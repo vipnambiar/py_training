{
 "cells": [
  {
   "cell_type": "markdown",
   "metadata": {},
   "source": [
    "## String formatting"
   ]
  },
  {
   "cell_type": "markdown",
   "metadata": {},
   "source": [
    "#### Using % for string substitution and formatting"
   ]
  },
  {
   "cell_type": "code",
   "execution_count": 13,
   "metadata": {},
   "outputs": [
    {
     "name": "stdout",
     "output_type": "stream",
     "text": [
      "Hello, my name is Vipin\n"
     ]
    }
   ],
   "source": [
    "name = 'Vipin'\n",
    "greeting = \"Hello, my name is %s\"\n",
    "print greeting % name"
   ]
  },
  {
   "cell_type": "code",
   "execution_count": 2,
   "metadata": {},
   "outputs": [
    {
     "name": "stdout",
     "output_type": "stream",
     "text": [
      "Bangalore is the capital of Karnataka\n",
      "New Delhi is the capital of India\n"
     ]
    }
   ],
   "source": [
    "st = '%s is the capital of %s'\n",
    "print st % ('Bangalore', 'Karnataka')\n",
    "print st % ('New Delhi', 'India')"
   ]
  },
  {
   "cell_type": "code",
   "execution_count": 7,
   "metadata": {},
   "outputs": [
    {
     "name": "stdout",
     "output_type": "stream",
     "text": [
      "Name: Joe    Age: 36\n",
      "Name: Bob    Age: 28\n"
     ]
    }
   ],
   "source": [
    "st = 'Name: %s    Age: %d'\n",
    "print st % ('Joe', 36)\n",
    "print st % ('Bob', 28)"
   ]
  },
  {
   "cell_type": "code",
   "execution_count": 8,
   "metadata": {},
   "outputs": [
    {
     "name": "stdout",
     "output_type": "stream",
     "text": [
      "The price of Coconut is Rs.24.50\n",
      "The price of Tomato is Rs.30.00\n"
     ]
    }
   ],
   "source": [
    "st = 'The price of %s is Rs.%.2f'\n",
    "print st % ('Coconut', 24.5)\n",
    "print st % ('Tomato', 30)"
   ]
  },
  {
   "cell_type": "code",
   "execution_count": 16,
   "metadata": {},
   "outputs": [
    {
     "name": "stdout",
     "output_type": "stream",
     "text": [
      "\n",
      "The candidates name is Jack and he is 38 years old.\n",
      "Jack is Married\n",
      "\n"
     ]
    }
   ],
   "source": [
    "details = {\n",
    "    'name': 'Jack',\n",
    "    'age': 38,\n",
    "    'status': 'Married'\n",
    "}\n",
    "\n",
    "st = '''\n",
    "The candidates name is %(name)s and he is %(age)d years old.\n",
    "%(name)s is %(status)s\n",
    "'''\n",
    "print st % details"
   ]
  },
  {
   "cell_type": "markdown",
   "metadata": {},
   "source": [
    "#### Using string.format() method"
   ]
  },
  {
   "cell_type": "code",
   "execution_count": 14,
   "metadata": {},
   "outputs": [
    {
     "name": "stdout",
     "output_type": "stream",
     "text": [
      "Hello, my name is Vipin\n"
     ]
    }
   ],
   "source": [
    "name = 'Vipin'\n",
    "greeting = \"Hello, my name is {}\"\n",
    "\n",
    "print greeting.format(name)"
   ]
  },
  {
   "cell_type": "code",
   "execution_count": 2,
   "metadata": {},
   "outputs": [
    {
     "name": "stdout",
     "output_type": "stream",
     "text": [
      "Bangalore is the capital of Karnataka\n",
      "New Delhi is the capital of India\n"
     ]
    }
   ],
   "source": [
    "st = '{0} is the capital of {1}'\n",
    "print st.format('Bangalore', 'Karnataka')\n",
    "print st.format('New Delhi', 'India')"
   ]
  },
  {
   "cell_type": "code",
   "execution_count": 19,
   "metadata": {},
   "outputs": [
    {
     "name": "stdout",
     "output_type": "stream",
     "text": [
      "Name: Joe    Age: 36\n",
      "Name: Bob    Age: 28\n"
     ]
    }
   ],
   "source": [
    "st = 'Name: {0}    Age: {1}'\n",
    "print st.format('Joe', 36)\n",
    "print st.format('Bob', 28)"
   ]
  },
  {
   "cell_type": "code",
   "execution_count": 22,
   "metadata": {},
   "outputs": [
    {
     "name": "stdout",
     "output_type": "stream",
     "text": [
      "The price of Coconut is Rs.24.50\n",
      "The price of Tomato is Rs.30.00\n"
     ]
    }
   ],
   "source": [
    "st = 'The price of {0} is Rs.{1:.2f}'\n",
    "print st.format('Coconut', 24.5)\n",
    "print st.format('Tomato', 30)"
   ]
  },
  {
   "cell_type": "code",
   "execution_count": 24,
   "metadata": {},
   "outputs": [
    {
     "name": "stdout",
     "output_type": "stream",
     "text": [
      "\n",
      "The candidates name is Jack and he is 38 years old.\n",
      "Jack is Married\n",
      "\n"
     ]
    }
   ],
   "source": [
    "details = {\n",
    "    'name': 'Jack',\n",
    "    'age': 38,\n",
    "    'status': 'Married'\n",
    "}\n",
    "\n",
    "st = '''\n",
    "The candidates name is {name} and he is {age} years old.\n",
    "{name} is {status}\n",
    "'''\n",
    "print st.format(**details)"
   ]
  }
 ],
 "metadata": {
  "kernelspec": {
   "display_name": "Python 2",
   "language": "python",
   "name": "python2"
  },
  "language_info": {
   "codemirror_mode": {
    "name": "ipython",
    "version": 2
   },
   "file_extension": ".py",
   "mimetype": "text/x-python",
   "name": "python",
   "nbconvert_exporter": "python",
   "pygments_lexer": "ipython2",
   "version": "2.7.13"
  }
 },
 "nbformat": 4,
 "nbformat_minor": 2
}
