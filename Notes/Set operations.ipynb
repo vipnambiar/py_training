{
 "cells": [
  {
   "cell_type": "markdown",
   "metadata": {},
   "source": [
    "# Sets"
   ]
  },
  {
   "cell_type": "code",
   "execution_count": 2,
   "metadata": {},
   "outputs": [
    {
     "name": "stdout",
     "output_type": "stream",
     "text": [
      "set([47, 12, 45, 63])\n",
      "[47, 12, 45, 63]\n"
     ]
    }
   ],
   "source": [
    "l = [12, 45, 63, 12, 47]\n",
    "s = set(l)\n",
    "print s\n",
    "\n",
    "n = list(s)\n",
    "print n\n"
   ]
  },
  {
   "cell_type": "code",
   "execution_count": 4,
   "metadata": {},
   "outputs": [
    {
     "name": "stdout",
     "output_type": "stream",
     "text": [
      "{'apple', 'mango', 'banana'}\n"
     ]
    }
   ],
   "source": [
    "s = set(['apple', 'mango', 'banana', 'banana', 'grapes', 'oranges', 'pineapple', 'watermelon'])\n",
    "#print s\n",
    "t = set(['apple', 'mango', 'banana', 'grey', 'yellow'])\n",
    "\n",
    "print(s.intersection(t))"
   ]
  },
  {
   "cell_type": "code",
   "execution_count": 6,
   "metadata": {},
   "outputs": [],
   "source": [
    "# print help(s)"
   ]
  },
  {
   "cell_type": "code",
   "execution_count": 22,
   "metadata": {},
   "outputs": [
    {
     "name": "stdout",
     "output_type": "stream",
     "text": [
      "52365912 52365912 52366632\n",
      "52365912 52365912 52366632\n"
     ]
    },
    {
     "data": {
      "text/plain": [
       "\"\\nprint id(l), id(s), id(r)\\n\\n\\nl[2].append('c')\\nprint s\\nprint r\\n\""
      ]
     },
     "execution_count": 22,
     "metadata": {},
     "output_type": "execute_result"
    }
   ],
   "source": [
    "from copy import copy, deepcopy\n",
    "\n",
    "l = ['ghgdh', 'y', ['a','b']]\n",
    "\n",
    "s = copy(l)\n",
    "r = deepcopy(l)\n",
    "print id(l[2]), id(s[2]), id(r[2])\n",
    "l[2].append(4)\n",
    "print id(l[2]), id(s[2]), id(r[2])\n",
    "\n",
    "\"\"\"\n",
    "print id(l), id(s), id(r)\n",
    "\n",
    "l[2].append('c')\n",
    "print s\n",
    "print r\n",
    "\"\"\""
   ]
  },
  {
   "cell_type": "code",
   "execution_count": 2,
   "metadata": {},
   "outputs": [
    {
     "name": "stdout",
     "output_type": "stream",
     "text": [
      "set(['apple', 'grey', 'oranges', 'mango', 'watermelon', 'yellow', 'grapes', 'pineapple', 'banana'])\n"
     ]
    }
   ],
   "source": [
    "print s.union(t)"
   ]
  },
  {
   "cell_type": "code",
   "execution_count": 5,
   "metadata": {},
   "outputs": [
    {
     "name": "stdout",
     "output_type": "stream",
     "text": [
      "{'grapes', 'watermelon', 'apple', 'banana', 'oranges', 'mango', 'pineapple'}\n",
      "{'apple', 'mango', 'banana', 'yellow', 'grey'}\n",
      "{'oranges', 'pineapple', 'grapes', 'watermelon'}\n",
      "{'yellow', 'grey'}\n",
      "{'grapes', 'watermelon', 'oranges', 'yellow', 'pineapple', 'grey'}\n"
     ]
    }
   ],
   "source": [
    "print(s)\n",
    "print(t)\n",
    "print(s.difference(t))\n",
    "print(t.difference(s))\n",
    "\n",
    "print(s.symmetric_difference(t))"
   ]
  },
  {
   "cell_type": "code",
   "execution_count": 4,
   "metadata": {},
   "outputs": [
    {
     "name": "stdout",
     "output_type": "stream",
     "text": [
      "['y', 'x']\n"
     ]
    }
   ],
   "source": [
    "# get the unique values from the list\n",
    "l = ['x','y', 'x']\n",
    "r = list(set(l))\n",
    "print r"
   ]
  },
  {
   "cell_type": "code",
   "execution_count": 5,
   "metadata": {},
   "outputs": [],
   "source": [
    "# Immutable set\n",
    "f = frozenset(['a', 'b', 'c'])"
   ]
  },
  {
   "cell_type": "code",
   "execution_count": 5,
   "metadata": {},
   "outputs": [
    {
     "name": "stdout",
     "output_type": "stream",
     "text": [
      "[2, 6]\n"
     ]
    }
   ],
   "source": [
    "# Get only the unique values from list\n",
    "\n",
    "l = [ 1,2, 3,5,6]\n",
    "e = []\n",
    "for n in l:\n",
    "    if n % 2 == 0:\n",
    "        e.append(n)\n",
    "print e"
   ]
  },
  {
   "cell_type": "code",
   "execution_count": 10,
   "metadata": {},
   "outputs": [
    {
     "name": "stdout",
     "output_type": "stream",
     "text": [
      "2\n",
      "6\n",
      "[0, 2, 0, 0, 6]\n"
     ]
    }
   ],
   "source": [
    "# List comprehensions\n",
    "u = (n for n in l if n%2 == 0)\n",
    "print u.next()\n",
    "print u.next()\n",
    "e = [n if n%2 == 0 else 0 for n in l]\n",
    "print e"
   ]
  },
  {
   "cell_type": "code",
   "execution_count": 3,
   "metadata": {},
   "outputs": [
    {
     "name": "stdout",
     "output_type": "stream",
     "text": [
      "['__and__', '__class__', '__cmp__', '__contains__', '__delattr__', '__doc__', '__eq__', '__format__', '__ge__', '__getattribute__', '__gt__', '__hash__', '__iand__', '__init__', '__ior__', '__isub__', '__iter__', '__ixor__', '__le__', '__len__', '__lt__', '__ne__', '__new__', '__or__', '__rand__', '__reduce__', '__reduce_ex__', '__repr__', '__ror__', '__rsub__', '__rxor__', '__setattr__', '__sizeof__', '__str__', '__sub__', '__subclasshook__', '__xor__', 'add', 'clear', 'copy', 'difference', 'difference_update', 'discard', 'intersection', 'intersection_update', 'isdisjoint', 'issubset', 'issuperset', 'pop', 'remove', 'symmetric_difference', 'symmetric_difference_update', 'union', 'update']\n"
     ]
    }
   ],
   "source": [
    "s= set([2, 4, 6])\n",
    "print dir(s)"
   ]
  },
  {
   "cell_type": "code",
   "execution_count": 4,
   "metadata": {},
   "outputs": [
    {
     "name": "stdout",
     "output_type": "stream",
     "text": [
      "Help on built-in function symmetric_difference_update:\n",
      "\n",
      "symmetric_difference_update(...)\n",
      "    Update a set with the symmetric difference of itself and another.\n",
      "\n"
     ]
    }
   ],
   "source": [
    "help(s.symmetric_difference_update)"
   ]
  },
  {
   "cell_type": "code",
   "execution_count": null,
   "metadata": {
    "collapsed": true
   },
   "outputs": [],
   "source": []
  }
 ],
 "metadata": {
  "kernelspec": {
   "display_name": "Python 2",
   "language": "python",
   "name": "python2"
  },
  "language_info": {
   "codemirror_mode": {
    "name": "ipython",
    "version": 2
   },
   "file_extension": ".py",
   "mimetype": "text/x-python",
   "name": "python",
   "nbconvert_exporter": "python",
   "pygments_lexer": "ipython2",
   "version": "2.7.13"
  }
 },
 "nbformat": 4,
 "nbformat_minor": 1
}
