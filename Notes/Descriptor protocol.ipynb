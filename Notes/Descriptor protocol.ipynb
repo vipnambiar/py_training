{
 "cells": [
  {
   "cell_type": "markdown",
   "metadata": {},
   "source": [
    "## Descriptors\n",
    "----------------"
   ]
  },
  {
   "cell_type": "markdown",
   "metadata": {},
   "source": [
    "** Definition **\n",
    "\n",
    "Descriptors are object attributes with binding behavior whose attribute access has been overridden by the methods in the descriptor protocol.\n",
    "\n",
    "The methods are:\n",
    "\n",
    "    __get__(self, obj, cls=None)\n",
    "    \n",
    "    __set__(self, obj, value)\n",
    "    \n",
    "    __delete__(self, obj)\n",
    "\n",
    "If any of these methods are defined for an object, it is said to be a descriptor."
   ]
  },
  {
   "cell_type": "code",
   "execution_count": 8,
   "metadata": {},
   "outputs": [
    {
     "name": "stdout",
     "output_type": "stream",
     "text": [
      "02-10-1991\n",
      "09-09-1919\n"
     ]
    }
   ],
   "source": [
    "class MyClass(object):\n",
    "    def __init__(self, dob=\"15-07-1990\"):\n",
    "        self.__dob = dob\n",
    "    \n",
    "    @property\n",
    "    def dob(self):\n",
    "        return self.__dob\n",
    "    \n",
    "    @dob.setter\n",
    "    def dob(self, value):\n",
    "        self.__dob = value\n",
    "\n",
    "obj = MyClass(\"02-10-1991\")\n",
    "print obj.dob\n",
    "obj.dob = \"09-09-1919\"\n",
    "print obj.dob"
   ]
  },
  {
   "cell_type": "code",
   "execution_count": 1,
   "metadata": {
    "collapsed": true
   },
   "outputs": [],
   "source": [
    "class Field(object):\n",
    "    def __init__(self, init_val, name='Dummy Field'):\n",
    "        self.__field = init_val\n",
    "        self.__name = name\n",
    "        \n",
    "    def __get__(self, obj, cls):\n",
    "        print \"Retrieving %s\" % self.__name\n",
    "        return self.__field\n",
    "    \n",
    "    def __set__(self, obj, val):\n",
    "        print \"Value of %s set to %s\" % (self.__name, repr(val))\n",
    "        self.__field = val\n",
    "    \n",
    "    def __delete(self, obj):\n",
    "        print \"Deleting %s\" % self.__name\n",
    "        del self.__field\n",
    "        \n",
    "        \n",
    "        \n",
    "class Table(object):\n",
    "    first_name = Field('John', 'First Name')\n",
    "    last_name = Field('Dowe', 'Last Name')\n",
    "    email = Field('john.dowe@example.com', 'email id')\n",
    "    dummy = Field('')\n",
    "\n",
    "    def __init__(self, first, last, email):\n",
    "        self.first_name = first\n",
    "        self.last_name = last\n",
    "        self.email = email"
   ]
  },
  {
   "cell_type": "code",
   "execution_count": 2,
   "metadata": {},
   "outputs": [
    {
     "name": "stdout",
     "output_type": "stream",
     "text": [
      "Value of First Name set to 'Vipin'\n",
      "Value of Last Name set to 'Nambiar'\n",
      "Value of email id set to 'bvipin@zeomega.com'\n",
      "Retrieving First Name\n",
      "Vipin\n",
      "Retrieving Last Name\n",
      "Nambiar\n",
      "Retrieving email id\n",
      "bvipin@zeomega.com\n"
     ]
    }
   ],
   "source": [
    "emp_tbl = Table('Vipin', 'Nambiar', 'bvipin@zeomega.com')\n",
    "print emp_tbl.first_name\n",
    "print emp_tbl.last_name\n",
    "print emp_tbl.email"
   ]
  },
  {
   "cell_type": "markdown",
   "metadata": {},
   "source": [
    "##### Building data descriptors with `property` builtin"
   ]
  },
  {
   "cell_type": "code",
   "execution_count": 3,
   "metadata": {},
   "outputs": [
    {
     "name": "stdout",
     "output_type": "stream",
     "text": [
      "0\n",
      "10\n"
     ]
    }
   ],
   "source": [
    "class Foo(object):\n",
    "    def __init__(self):\n",
    "        self._val = 0\n",
    "    \n",
    "    def get_value(self):\n",
    "        return self._val\n",
    "\n",
    "    def set_value(self, val):\n",
    "        self._val = val\n",
    "    \n",
    "    value = property(get_value, set_value, None, 'A descriptor')\n",
    "    \n",
    "obj = Foo()\n",
    "print obj.value\n",
    "obj.value = 10\n",
    "print obj.value"
   ]
  },
  {
   "cell_type": "code",
   "execution_count": 4,
   "metadata": {
    "collapsed": true
   },
   "outputs": [],
   "source": [
    "class Table(object):\n",
    "    def __init__(self, first, last, email):\n",
    "        self._first_name = first\n",
    "        self._last_name = last\n",
    "        self._email = email\n",
    "    \n",
    "    @property\n",
    "    def first_name(self):\n",
    "        return self._first_name\n",
    "    \n",
    "    @first_name.setter\n",
    "    def first_name(self, value):\n",
    "        print \"setting value of first_name to %s\" % value\n",
    "        self._first_name = value\n",
    "    \n",
    "    @property\n",
    "    def last_name(self):\n",
    "        return self._last_name\n",
    "    \n",
    "    @last_name.setter\n",
    "    def last_name(self, val):\n",
    "        print \"setting value of last_name to %s\" % val\n",
    "        self._last_name = val\n",
    "    \n",
    "    @property\n",
    "    def email(self):\n",
    "        return self._email\n",
    "    \n",
    "    @email.setter\n",
    "    def email(self, val):\n",
    "        print \"setting value of email to %s\" % val\n",
    "        self._email = val"
   ]
  },
  {
   "cell_type": "code",
   "execution_count": 5,
   "metadata": {},
   "outputs": [
    {
     "name": "stdout",
     "output_type": "stream",
     "text": [
      "Vipin\n",
      "Nambiar\n",
      "bvipin@zeomega.com\n",
      "setting value of email to nambiar.vip@gmail.com\n"
     ]
    }
   ],
   "source": [
    "emp_tbl = Table('Vipin', 'Nambiar', 'bvipin@zeomega.com')\n",
    "print emp_tbl.first_name\n",
    "print emp_tbl.last_name\n",
    "print emp_tbl.email\n",
    "\n",
    "emp_tbl.email = 'nambiar.vip@gmail.com'"
   ]
  },
  {
   "cell_type": "code",
   "execution_count": null,
   "metadata": {
    "collapsed": true
   },
   "outputs": [],
   "source": []
  }
 ],
 "metadata": {
  "kernelspec": {
   "display_name": "Python 2",
   "language": "python",
   "name": "python2"
  },
  "language_info": {
   "codemirror_mode": {
    "name": "ipython",
    "version": 2
   },
   "file_extension": ".py",
   "mimetype": "text/x-python",
   "name": "python",
   "nbconvert_exporter": "python",
   "pygments_lexer": "ipython2",
   "version": "2.7.13"
  }
 },
 "nbformat": 4,
 "nbformat_minor": 1
}
