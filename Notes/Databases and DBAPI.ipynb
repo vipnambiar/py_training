{
 "cells": [
  {
   "cell_type": "markdown",
   "metadata": {},
   "source": [
    "### DBAPI (PEP-249) - Python standard for database access\n",
    "--------------------------------------------------------------\n"
   ]
  },
  {
   "cell_type": "markdown",
   "metadata": {},
   "source": [
    "- DBAPI is a python standard which defines the interface to be provided by any database specific driver.\n",
    "- The latest version of DBAPI is 2.0\n",
    "- This standard is documented at [PEP-249](https://www.python.org/dev/peps/pep-0249/)"
   ]
  },
  {
   "cell_type": "markdown",
   "metadata": {},
   "source": [
    "Below are some of the common database drivers used:\n",
    "\n",
    "Driver | Database\n",
    "------ | --------\n",
    "sqlite3 | SQlite\n",
    "cx_Oracle | Oracle\n",
    "psycopg2 | Postgresql\n",
    "mx-ODBC or pyodbc | MSSQL\n",
    "mysql-python or pymysql | MySql\n",
    "\n",
    "\n",
    "sqlite3 comes bundled with python. No need to separately install it. "
   ]
  },
  {
   "cell_type": "code",
   "execution_count": null,
   "metadata": {
    "collapsed": true
   },
   "outputs": [],
   "source": []
  },
  {
   "cell_type": "code",
   "execution_count": null,
   "metadata": {
    "collapsed": true
   },
   "outputs": [],
   "source": []
  }
 ],
 "metadata": {
  "kernelspec": {
   "display_name": "Python 2",
   "language": "python",
   "name": "python2"
  },
  "language_info": {
   "codemirror_mode": {
    "name": "ipython",
    "version": 2
   },
   "file_extension": ".py",
   "mimetype": "text/x-python",
   "name": "python",
   "nbconvert_exporter": "python",
   "pygments_lexer": "ipython2",
   "version": "2.7.11"
  }
 },
 "nbformat": 4,
 "nbformat_minor": 0
}
