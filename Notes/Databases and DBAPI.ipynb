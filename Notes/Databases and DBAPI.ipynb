{
 "cells": [
  {
   "cell_type": "markdown",
   "metadata": {},
   "source": [
    "### DBAPI (PEP-249) - Python standard for database access\n",
    "--------------------------------------------------------------\n"
   ]
  },
  {
   "cell_type": "markdown",
   "metadata": {},
   "source": [
    "- DBAPI is a python standard which defines the interface to be provided by any database specific driver.\n",
    "- The latest version of DBAPI is 2.0\n",
    "- This standard is documented at [PEP-249](https://www.python.org/dev/peps/pep-0249/)"
   ]
  },
  {
   "cell_type": "markdown",
   "metadata": {},
   "source": [
    "Below are some of the common database drivers used:\n",
    "\n",
    "Driver | Database\n",
    "------ | --------\n",
    "sqlite3 | SQlite\n",
    "cx_Oracle | Oracle\n",
    "psycopg2 | Postgresql\n",
    "mx-ODBC or pyodbc | MSSQL\n",
    "mysql-python or pymysql | MySql\n",
    "\n",
    "\n",
    "sqlite3 comes bundled with python. No need to separately install it. "
   ]
  },
  {
   "cell_type": "code",
   "execution_count": 10,
   "metadata": {
    "collapsed": true
   },
   "outputs": [],
   "source": [
    "import sqlite3"
   ]
  },
  {
   "cell_type": "code",
   "execution_count": 11,
   "metadata": {},
   "outputs": [],
   "source": [
    "with sqlite3.connect(\"test.db\") as conn:\n",
    "    cursor = conn.cursor()\n",
    "    cursor.execute(\"CREATE TABLE IF NOT EXISTS SAMPLE_STOCK (date text, trans text, symbol text, qty real, price real)\")\n",
    "    conn.commit()"
   ]
  },
  {
   "cell_type": "code",
   "execution_count": 12,
   "metadata": {},
   "outputs": [
    {
     "data": {
      "text/plain": [
       "<sqlite3.Cursor at 0x3e616c0>"
      ]
     },
     "execution_count": 12,
     "metadata": {},
     "output_type": "execute_result"
    }
   ],
   "source": [
    "cursor.execute(\"INSERT INTO SAMPLE_STOCK VALUES (?, ?, ?, ?, ?)\", ('2006-01-05','BUY','GMAT',10,335.14))"
   ]
  },
  {
   "cell_type": "code",
   "execution_count": 13,
   "metadata": {
    "collapsed": true
   },
   "outputs": [],
   "source": [
    "conn.commit()"
   ]
  },
  {
   "cell_type": "code",
   "execution_count": 14,
   "metadata": {},
   "outputs": [
    {
     "data": {
      "text/plain": [
       "sqlite3.Cursor"
      ]
     },
     "execution_count": 14,
     "metadata": {},
     "output_type": "execute_result"
    }
   ],
   "source": [
    "result = cursor.execute(\"select * from SAMPLE_STOCK\")\n",
    "type(result)"
   ]
  },
  {
   "cell_type": "code",
   "execution_count": 15,
   "metadata": {},
   "outputs": [
    {
     "name": "stdout",
     "output_type": "stream",
     "text": [
      "(u'2006-01-05', u'BUY', u'RHAT', 100.0, 35.14)\n"
     ]
    }
   ],
   "source": [
    "print result.fetchone()"
   ]
  },
  {
   "cell_type": "code",
   "execution_count": 16,
   "metadata": {},
   "outputs": [
    {
     "name": "stdout",
     "output_type": "stream",
     "text": [
      "[(u'2006-01-05', u'BUY', u'RHAT', 100.0, 35.14), (u'2006-01-05', u'BUY', u'RHAT', 100.0, 35.14), (u'2006-01-05', u'BUY', u'RHAT', 100.0, 35.14), (u'2006-01-05', u'BUY', u'RMAT', 10.0, 335.14), (u'2006-01-05', u'BUY', u'GMAT', 10.0, 335.14)]\n"
     ]
    }
   ],
   "source": [
    "print result.fetchall()"
   ]
  },
  {
   "cell_type": "code",
   "execution_count": 17,
   "metadata": {},
   "outputs": [],
   "source": [
    "result.close()\n",
    "conn.close()"
   ]
  }
 ],
 "metadata": {
  "kernelspec": {
   "display_name": "Python 2",
   "language": "python",
   "name": "python2"
  },
  "language_info": {
   "codemirror_mode": {
    "name": "ipython",
    "version": 2
   },
   "file_extension": ".py",
   "mimetype": "text/x-python",
   "name": "python",
   "nbconvert_exporter": "python",
   "pygments_lexer": "ipython2",
   "version": "2.7.13"
  }
 },
 "nbformat": 4,
 "nbformat_minor": 1
}
