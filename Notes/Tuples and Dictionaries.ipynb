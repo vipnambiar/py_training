{
 "cells": [
  {
   "cell_type": "markdown",
   "metadata": {},
   "source": [
    "### Tuple"
   ]
  },
  {
   "cell_type": "code",
   "execution_count": 1,
   "metadata": {
    "collapsed": false
   },
   "outputs": [
    {
     "name": "stdout",
     "output_type": "stream",
     "text": [
      "('grapes', 'oranges', 'apple')\n",
      "1\n",
      "1\n",
      "('a', 2, ['x', 'y', 'z'])\n"
     ]
    }
   ],
   "source": [
    "t = ('apple', 'oranges', 'grapes')\n",
    "\n",
    "print t[-1::-1]\n",
    "\n",
    "print t.index('oranges')\n",
    "print t.count('grapes')\n",
    "\n",
    "# Lists and Tuples are containers which store references to other objects.\n",
    "# Hence changing a mutable item referred in a tuple does not change the tuple.\n",
    "coll = ( 'a', 2, ['x', 'y'])\n",
    "coll[2].append('z')\n",
    "print coll"
   ]
  },
  {
   "cell_type": "markdown",
   "metadata": {},
   "source": [
    "### Dictionaries (Key Value pairs or Hash map)"
   ]
  },
  {
   "cell_type": "code",
   "execution_count": 2,
   "metadata": {
    "collapsed": false
   },
   "outputs": [
    {
     "name": "stdout",
     "output_type": "stream",
     "text": [
      "(4, 5)\n",
      "4 5\n"
     ]
    }
   ],
   "source": [
    "t = 4,5  # comma acts as a constructor for tuple\n",
    "print t\n",
    "\n",
    "a, b = t  # tuple unpacking\n",
    "print a, b"
   ]
  },
  {
   "cell_type": "code",
   "execution_count": 3,
   "metadata": {
    "collapsed": false
   },
   "outputs": [
    {
     "name": "stdout",
     "output_type": "stream",
     "text": [
      "10 5\n"
     ]
    }
   ],
   "source": [
    "x = 5\n",
    "y = 10\n",
    "\n",
    "x, y = y, x    # swapping values of two variables\n",
    "\n",
    "print x, y"
   ]
  },
  {
   "cell_type": "code",
   "execution_count": 4,
   "metadata": {
    "collapsed": false
   },
   "outputs": [
    {
     "name": "stdout",
     "output_type": "stream",
     "text": [
      "{'egg': 3, 'spam': 6}\n",
      "{'butter': 4, 'egg': 2, 'bread': 1}\n",
      "{'egg': None, 'bread': None}\n"
     ]
    }
   ],
   "source": [
    "d = {'egg': 3, 'spam':6}\n",
    "\n",
    "g = dict([('bread', 1), ('egg', 2), ('butter', 4)])\n",
    "\n",
    "h = {}.fromkeys(['bread', 'egg'])  # initialize a dictionary from a given list of keys\n",
    "print d\n",
    "print g\n",
    "print h"
   ]
  },
  {
   "cell_type": "code",
   "execution_count": 5,
   "metadata": {
    "collapsed": false
   },
   "outputs": [
    {
     "name": "stdout",
     "output_type": "stream",
     "text": [
      "{'butter': 4, 'egg': 2, 'bread': 1}\n"
     ]
    }
   ],
   "source": [
    "# g.clear()  # Empties the dictionary\n",
    "f = g.copy() # Creates a copy\n",
    "print f"
   ]
  },
  {
   "cell_type": "code",
   "execution_count": 6,
   "metadata": {
    "collapsed": false
   },
   "outputs": [
    {
     "name": "stdout",
     "output_type": "stream",
     "text": [
      "4\n"
     ]
    },
    {
     "ename": "KeyError",
     "evalue": "'x'",
     "output_type": "error",
     "traceback": [
      "\u001b[1;31m---------------------------------------------------------------------------\u001b[0m",
      "\u001b[1;31mKeyError\u001b[0m                                  Traceback (most recent call last)",
      "\u001b[1;32m<ipython-input-6-9fb521ce19f6>\u001b[0m in \u001b[0;36m<module>\u001b[1;34m()\u001b[0m\n\u001b[0;32m      1\u001b[0m \u001b[1;32mprint\u001b[0m \u001b[0mf\u001b[0m\u001b[1;33m[\u001b[0m\u001b[1;34m'butter'\u001b[0m\u001b[1;33m]\u001b[0m     \u001b[1;31m# Accessing a value in a dictionary by its key\u001b[0m\u001b[1;33m\u001b[0m\u001b[0m\n\u001b[1;32m----> 2\u001b[1;33m \u001b[1;32mprint\u001b[0m \u001b[0mg\u001b[0m\u001b[1;33m[\u001b[0m\u001b[1;34m'x'\u001b[0m\u001b[1;33m]\u001b[0m          \u001b[1;31m# Throws KeyError if 'x' not in keys of g\u001b[0m\u001b[1;33m\u001b[0m\u001b[0m\n\u001b[0m",
      "\u001b[1;31mKeyError\u001b[0m: 'x'"
     ]
    }
   ],
   "source": [
    "print f['butter']     # Accessing a value in a dictionary by its key \n",
    "print g['x']          # Throws KeyError if 'x' not in keys of g"
   ]
  },
  {
   "cell_type": "code",
   "execution_count": null,
   "metadata": {
    "collapsed": false
   },
   "outputs": [],
   "source": [
    "print g.get('x')     # No KeyError is thrown if 'x' not in keys of g, instead returns None\n",
    "\n",
    "print g.get('x', 2)  # Returns default value specified if key does not exist\n",
    "\n",
    "print g.has_key('x') # Returns True if key exists else False\n",
    "\n",
    "print 'x' in g       # Preferred way for checking if a dictionary has a specific key"
   ]
  },
  {
   "cell_type": "code",
   "execution_count": null,
   "metadata": {
    "collapsed": false
   },
   "outputs": [],
   "source": [
    "print g.items()  # Returns a list of key, value pairs"
   ]
  },
  {
   "cell_type": "code",
   "execution_count": null,
   "metadata": {
    "collapsed": false
   },
   "outputs": [],
   "source": [
    "print g.pop('butter')  # Removes the key from dict and returns its value"
   ]
  },
  {
   "cell_type": "code",
   "execution_count": null,
   "metadata": {
    "collapsed": false
   },
   "outputs": [],
   "source": [
    "# Updates a dictionary with key/value pairs from another dict\n",
    "\n",
    "t = {'cat':2, 'mouse':5}\n",
    "print g\n",
    "\n",
    "g.update(t)\n",
    "print g"
   ]
  },
  {
   "cell_type": "code",
   "execution_count": null,
   "metadata": {
    "collapsed": false
   },
   "outputs": [],
   "source": [
    "'''\n",
    "If key is present:\n",
    "    returns its value\n",
    "If key not in dict:\n",
    "    set the key and \n",
    "    assign default value if given\n",
    "    else assign None\n",
    "    and return the value\n",
    "'''\n",
    "print g.setdefault('foo', 100)\n",
    "print g"
   ]
  },
  {
   "cell_type": "code",
   "execution_count": null,
   "metadata": {
    "collapsed": false
   },
   "outputs": [],
   "source": [
    "# iterkeys returns an iterator object\n",
    "# instead of returning a list of keys\n",
    "# Advantage - consumes less memory for large dicts\n",
    "print g.iterkeys()\n",
    "\n",
    "for key in g.iterkeys():\n",
    "    print key, g[key]"
   ]
  }
 ],
 "metadata": {
  "kernelspec": {
   "display_name": "Python 2",
   "language": "python",
   "name": "python2"
  },
  "language_info": {
   "codemirror_mode": {
    "name": "ipython",
    "version": 2
   },
   "file_extension": ".py",
   "mimetype": "text/x-python",
   "name": "python",
   "nbconvert_exporter": "python",
   "pygments_lexer": "ipython2",
   "version": "2.7.11"
  }
 },
 "nbformat": 4,
 "nbformat_minor": 0
}
