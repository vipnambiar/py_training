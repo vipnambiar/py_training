{
 "cells": [
  {
   "cell_type": "markdown",
   "metadata": {},
   "source": [
    "### Tuple"
   ]
  },
  {
   "cell_type": "code",
   "execution_count": 1,
   "metadata": {},
   "outputs": [
    {
     "name": "stdout",
     "output_type": "stream",
     "text": [
      "('grapes', 'oranges', 'apple')\n",
      "1\n",
      "1\n",
      "('a', 2, ['x', 'y', 'z'])\n"
     ]
    }
   ],
   "source": [
    "t = ('apple', 'oranges', 'grapes')\n",
    "\n",
    "print t[-1::-1]\n",
    "\n",
    "print t.index('oranges')\n",
    "print t.count('grapes')\n",
    "\n",
    "# Lists and Tuples are containers which store references to other objects.\n",
    "# Hence changing a mutable item referred in a tuple does not change the tuple.\n",
    "coll = ( 'a', 2, ['x', 'y'])\n",
    "coll[2].append('z')\n",
    "print coll"
   ]
  },
  {
   "cell_type": "code",
   "execution_count": 3,
   "metadata": {},
   "outputs": [
    {
     "name": "stdout",
     "output_type": "stream",
     "text": [
      "10 20\n",
      "20 10\n"
     ]
    }
   ],
   "source": [
    "x = ('eggs', 'spam')\n",
    "\n",
    "\n",
    "def func():\n",
    "    a=2\n",
    "    b=5\n",
    "    return a, b\n",
    "\n",
    "#x = func()\n",
    "#y, z = func()\n",
    "#print  y, z\n",
    "\n",
    "\n",
    "x = 10\n",
    "y = 20\n",
    "print x,y\n",
    "x,y = y,x\n",
    "print x,y"
   ]
  },
  {
   "cell_type": "markdown",
   "metadata": {},
   "source": [
    "### Dictionaries (Key Value pairs or Hash map)"
   ]
  },
  {
   "cell_type": "code",
   "execution_count": 2,
   "metadata": {},
   "outputs": [
    {
     "name": "stdout",
     "output_type": "stream",
     "text": [
      "(4, 5)\n",
      "4 5\n"
     ]
    }
   ],
   "source": [
    "t = 4,5  # comma acts as a constructor for tuple\n",
    "print t\n",
    "\n",
    "a, b = t  # tuple unpacking\n",
    "print a, b"
   ]
  },
  {
   "cell_type": "code",
   "execution_count": 3,
   "metadata": {},
   "outputs": [
    {
     "name": "stdout",
     "output_type": "stream",
     "text": [
      "10 5\n"
     ]
    }
   ],
   "source": [
    "x = 5\n",
    "y = 10\n",
    "\n",
    "x, y = y, x    # swapping values of two variables\n",
    "\n",
    "print x, y"
   ]
  },
  {
   "cell_type": "code",
   "execution_count": 11,
   "metadata": {},
   "outputs": [
    {
     "name": "stdout",
     "output_type": "stream",
     "text": [
      "{'butter': 4, 'egg': 2, 'bread': 1}\n",
      "{'egg': [], 'bread': []}\n"
     ]
    }
   ],
   "source": [
    "#d = {'egg': 3, 'spam':6}\n",
    "\n",
    "g = dict([('bread', 1), ('egg', 2), ('butter', 4)])\n",
    "\n",
    "h = {}.fromkeys(['bread', 'egg'], [])  # initialize a dictionary from a given list of keys\n",
    "#print d\n",
    "print g\n",
    "print h"
   ]
  },
  {
   "cell_type": "code",
   "execution_count": 15,
   "metadata": {},
   "outputs": [],
   "source": [
    "# g.clear()  # Empties the dictionary\n",
    "f = g.copy() # Creates a copy\n",
    "a = g\n",
    "#print id(f)\n",
    "#print id(a)"
   ]
  },
  {
   "cell_type": "code",
   "execution_count": 8,
   "metadata": {},
   "outputs": [
    {
     "name": "stdout",
     "output_type": "stream",
     "text": [
      "86371144\n",
      "86360152\n",
      "64881160\n",
      "------------------------------\n",
      "86371144\n",
      "86360152\n",
      "64880840\n"
     ]
    }
   ],
   "source": [
    "from copy import copy, deepcopy\n",
    "l = ['mango', 'apple', [10, 4]]\n",
    "n = deepcopy(l)\n",
    "for item in l:\n",
    "    print id(item)\n",
    "print '-'*30\n",
    "for item in n:\n",
    "    print id(item)"
   ]
  },
  {
   "cell_type": "code",
   "execution_count": 14,
   "metadata": {},
   "outputs": [
    {
     "name": "stdout",
     "output_type": "stream",
     "text": [
      "\n"
     ]
    }
   ],
   "source": [
    "#print(f['butter'])     # Accessing a value in a dictionary by its key \n",
    "#print g['x']          # Throws KeyError if 'x' not in keys of g\n",
    "print(g.get('x', ''))"
   ]
  },
  {
   "cell_type": "code",
   "execution_count": null,
   "metadata": {},
   "outputs": [],
   "source": [
    "print g.get('x')     # No KeyError is thrown if 'x' not in keys of g, instead returns None\n",
    "\n",
    "print g.get('x', 2)  # Returns default value specified if key does not exist\n",
    "\n",
    "print g.has_key('x') # Returns True if key exists else False\n",
    "\n",
    "print 'x' in g       # Preferred way for checking if a dictionary has a specific key"
   ]
  },
  {
   "cell_type": "code",
   "execution_count": 18,
   "metadata": {},
   "outputs": [
    {
     "name": "stdout",
     "output_type": "stream",
     "text": [
      "{'egg': 2, 'butter': 4, 'bread': 1}\n",
      "dict_items([('egg', 2), ('butter', 4), ('bread', 1)])\n"
     ]
    }
   ],
   "source": [
    "print(g)\n",
    "print(g.items())  # Returns a list of key, value pairs"
   ]
  },
  {
   "cell_type": "code",
   "execution_count": null,
   "metadata": {},
   "outputs": [],
   "source": [
    "print g.pop('butter')  # Removes the key from dict and returns its value"
   ]
  },
  {
   "cell_type": "code",
   "execution_count": 15,
   "metadata": {},
   "outputs": [
    {
     "name": "stdout",
     "output_type": "stream",
     "text": [
      "{'butter': 4, 'egg': 2, 'bread': 1}\n",
      "{'butter': 4, 'mouse': 5, 'cat': 2, 'egg': 2, 'bread': 1}\n"
     ]
    }
   ],
   "source": [
    "# Updates a dictionary with key/value pairs from another dict\n",
    "\n",
    "t = {'cat':2, 'mouse':5}\n",
    "print g\n",
    "\n",
    "g.update(t)\n",
    "print g"
   ]
  },
  {
   "cell_type": "code",
   "execution_count": 16,
   "metadata": {},
   "outputs": [
    {
     "name": "stdout",
     "output_type": "stream",
     "text": [
      "{'butter': 4, 'mouse': 5, 'cat': 2, 'egg': 2, 'bread': 1}\n",
      "50\n",
      "{'butter': 4, 'egg': 2, 'cat': 2, 'foo': 50, 'mouse': 5, 'bread': 1}\n"
     ]
    }
   ],
   "source": [
    "'''\n",
    "If key is present:\n",
    "    returns its value\n",
    "If key not in dict:\n",
    "    set the key and \n",
    "    assign default value if given\n",
    "    else assign None\n",
    "    and return the value\n",
    "'''\n",
    "print g\n",
    "print(g.setdefault('foo', 50))\n",
    "print(g)"
   ]
  },
  {
   "cell_type": "code",
   "execution_count": null,
   "metadata": {},
   "outputs": [],
   "source": [
    "# iterkeys returns an iterator object\n",
    "# instead of returning a list of keys\n",
    "# Advantage - consumes less memory for large dicts\n",
    "print g.iterkeys()\n",
    "\n",
    "for key in g.iterkeys():\n",
    "    print key, g[key]"
   ]
  },
  {
   "cell_type": "code",
   "execution_count": 23,
   "metadata": {},
   "outputs": [
    {
     "name": "stdout",
     "output_type": "stream",
     "text": [
      "<class 'range'>\n",
      "<class 'list'> [0, 1, 2, 3, 4, 5, 6, 7, 8, 9, 10, 11, 12, 13, 14, 15, 16, 17, 18, 19, 20, 21, 22, 23, 24, 25, 26, 27, 28, 29, 30, 31, 32, 33, 34, 35, 36, 37, 38, 39, 40, 41, 42, 43, 44, 45, 46, 47, 48, 49, 50, 51, 52, 53, 54, 55, 56, 57, 58, 59, 60, 61, 62, 63, 64, 65, 66, 67, 68, 69, 70, 71, 72, 73, 74, 75, 76, 77, 78, 79, 80, 81, 82, 83, 84, 85, 86, 87, 88, 89, 90, 91, 92, 93, 94, 95, 96, 97, 98, 99]\n"
     ]
    }
   ],
   "source": [
    "l = range(100)\n",
    "print(type(l))\n",
    "\n",
    "n = list(l)\n",
    "print(type(n), n)"
   ]
  },
  {
   "cell_type": "code",
   "execution_count": null,
   "metadata": {
    "collapsed": true
   },
   "outputs": [],
   "source": []
  }
 ],
 "metadata": {
  "kernelspec": {
   "display_name": "Python 2",
   "language": "python",
   "name": "python2"
  },
  "language_info": {
   "codemirror_mode": {
    "name": "ipython",
    "version": 2
   },
   "file_extension": ".py",
   "mimetype": "text/x-python",
   "name": "python",
   "nbconvert_exporter": "python",
   "pygments_lexer": "ipython2",
   "version": "2.7.13"
  }
 },
 "nbformat": 4,
 "nbformat_minor": 1
}
