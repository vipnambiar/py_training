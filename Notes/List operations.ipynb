{
 "cells": [
  {
   "cell_type": "markdown",
   "metadata": {},
   "source": [
    "## List"
   ]
  },
  {
   "cell_type": "code",
   "execution_count": 22,
   "metadata": {},
   "outputs": [
    {
     "name": "stdout",
     "output_type": "stream",
     "text": [
      "['apple', 'oranges', 'grapes', 'banana']\n"
     ]
    }
   ],
   "source": [
    "basket = ['apple', 'oranges', 'grapes']\n",
    "\n",
    "'''\n",
    "append  - Add to the end of the list\n",
    "count   - No of times the item is repeated in the list\n",
    "extend  - Extend a list with the items from another list\n",
    "index   - Returns the index of the position of the item in the list\n",
    "insert  - Insert an item before the specified index position\n",
    "pop     - Remove and return an item from a list from a specified index. Default to last\n",
    "remove  - Remove a given item from the list\n",
    "reverse - Reverse the order of the items in the list IN PLACE.\n",
    "sort    - sort the items based on given key or cmp function.\n",
    "'''\n",
    "\n",
    "basket.append('banana')\n",
    "print(basket)"
   ]
  },
  {
   "cell_type": "code",
   "execution_count": 23,
   "metadata": {},
   "outputs": [
    {
     "name": "stdout",
     "output_type": "stream",
     "text": [
      "[['pineapple', 'mango'], 'mango', 'pineapple', 'banana', 'grapes', 'oranges', 'apple']\n"
     ]
    }
   ],
   "source": [
    "extra = ['pineapple', 'mango']\n",
    "basket.extend(extra)\n",
    "#print(basket)\n",
    "basket.append(extra)\n",
    "#print(basket)\n",
    "basket.index('banana')\n",
    "print basket[::-1]"
   ]
  },
  {
   "cell_type": "code",
   "execution_count": 9,
   "metadata": {},
   "outputs": [
    {
     "name": "stdout",
     "output_type": "stream",
     "text": [
      "['apple', 'oranges', 'grapes', 'banana', 'pineapple', ['pineapple', 'mango']]\n",
      "['pineapple', 'mango']\n"
     ]
    }
   ],
   "source": [
    "#basket[6].append('apple')\n",
    "#print basket\n",
    "#print basket[6][2]\n",
    "#basket.append('mango')\n",
    "#basket.remove('mango')\n",
    "print(basket)\n",
    "'mango' in basket\n",
    "for item in basket:\n",
    "    if 'mango' in item:\n",
    "        print item"
   ]
  },
  {
   "cell_type": "code",
   "execution_count": 2,
   "metadata": {},
   "outputs": [
    {
     "name": "stdout",
     "output_type": "stream",
     "text": [
      "['apple', 'grapes', 'oranges', 'grapes', 'banana']\n",
      "5\n"
     ]
    }
   ],
   "source": [
    "#basket.append('banana')\n",
    "#print basket.count('banana')\n",
    "basket.insert(1, 'grapes')\n",
    "print(basket)\n",
    "print(len(basket))\n"
   ]
  },
  {
   "cell_type": "code",
   "execution_count": 3,
   "metadata": {},
   "outputs": [
    {
     "name": "stdout",
     "output_type": "stream",
     "text": [
      "5\n",
      "4\n",
      "['apple', 'grapes', 'oranges', 'banana']\n"
     ]
    }
   ],
   "source": [
    "print(len(basket))\n",
    "print(basket.index('banana'))\n",
    "item = basket.pop(3)\n",
    "#print basket.remove('mustard')\n",
    "print(basket)\n"
   ]
  },
  {
   "cell_type": "code",
   "execution_count": 11,
   "metadata": {},
   "outputs": [
    {
     "name": "stdout",
     "output_type": "stream",
     "text": [
      "['10', 'b', 'e']\n",
      "None\n"
     ]
    }
   ],
   "source": [
    "l = ['e', 'b', '10']\n",
    "x = l.sort()\n",
    "print l\n",
    "print x\n"
   ]
  },
  {
   "cell_type": "code",
   "execution_count": null,
   "metadata": {},
   "outputs": [],
   "source": [
    "print basket\n",
    "#basket.sort()\n",
    "new_list = sorted(basket)\n",
    "print new_list\n",
    "print basket"
   ]
  },
  {
   "cell_type": "code",
   "execution_count": 11,
   "metadata": {},
   "outputs": [
    {
     "name": "stdout",
     "output_type": "stream",
     "text": [
      "tyuv\n"
     ]
    }
   ],
   "source": [
    "\n",
    "def foo(x):\n",
    "    y = x + 'abcd'\n",
    "\n",
    "basket='tyuv'\n",
    "foo(basket)\n",
    "print(basket)"
   ]
  },
  {
   "cell_type": "code",
   "execution_count": null,
   "metadata": {},
   "outputs": [],
   "source": [
    "print basket.pop(2)"
   ]
  },
  {
   "cell_type": "code",
   "execution_count": null,
   "metadata": {},
   "outputs": [],
   "source": [
    "print basket\n",
    "print 'grapes' not in basket"
   ]
  },
  {
   "cell_type": "code",
   "execution_count": null,
   "metadata": {},
   "outputs": [],
   "source": [
    "print basket\n",
    "basket.insert(100, 'watermelon')\n",
    "print basket\n",
    "print basket.index('watermelon')"
   ]
  },
  {
   "cell_type": "code",
   "execution_count": null,
   "metadata": {},
   "outputs": [],
   "source": [
    "basket.sort()\n",
    "print basket\n",
    "basket.reverse()\n",
    "print basket"
   ]
  },
  {
   "cell_type": "code",
   "execution_count": 13,
   "metadata": {},
   "outputs": [
    {
     "name": "stdout",
     "output_type": "stream",
     "text": [
      "[('bread', 1), ('egg', 2), ('butter', 4)]\n"
     ]
    }
   ],
   "source": [
    "# sort based on a key\n",
    "\n",
    "import operator\n",
    "l = [('egg', 2), ('bread', 1), ('butter', 4)]\n",
    "l.sort(key=operator.itemgetter(1))\n",
    "print(l)\n"
   ]
  },
  {
   "cell_type": "code",
   "execution_count": 16,
   "metadata": {
    "collapsed": true
   },
   "outputs": [],
   "source": [
    "t = [('eggs', 3), ('bread', 2), ('butter', 4)]"
   ]
  },
  {
   "cell_type": "code",
   "execution_count": 18,
   "metadata": {},
   "outputs": [
    {
     "name": "stdout",
     "output_type": "stream",
     "text": [
      "Help on method_descriptor:\n",
      "\n",
      "sort(...)\n",
      "    L.sort(key=None, reverse=False) -> None -- stable sort *IN PLACE*\n",
      "\n"
     ]
    }
   ],
   "source": [
    "# Custom sorting\n",
    "\n",
    "def chk_length(x, y):\n",
    "    ''' sort based on length \n",
    "        of each item\n",
    "    '''\n",
    "    if x[1] > y[1]:\n",
    "        return -1\n",
    "    elif y[1] > x[1]:\n",
    "        return 1\n",
    "    else:\n",
    "        return 0\n",
    "\n",
    "    \n",
    "#t.sort(cmp=chk_length)\n",
    "#print(t)\n",
    "\n",
    "help(list.sort)"
   ]
  },
  {
   "cell_type": "code",
   "execution_count": null,
   "metadata": {
    "collapsed": true
   },
   "outputs": [],
   "source": []
  }
 ],
 "metadata": {
  "kernelspec": {
   "display_name": "Python 2",
   "language": "python",
   "name": "python2"
  },
  "language_info": {
   "codemirror_mode": {
    "name": "ipython",
    "version": 2
   },
   "file_extension": ".py",
   "mimetype": "text/x-python",
   "name": "python",
   "nbconvert_exporter": "python",
   "pygments_lexer": "ipython2",
   "version": "2.7.13"
  }
 },
 "nbformat": 4,
 "nbformat_minor": 1
}
