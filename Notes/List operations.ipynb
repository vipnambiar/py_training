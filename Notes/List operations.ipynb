{
 "cells": [
  {
   "cell_type": "markdown",
   "metadata": {},
   "source": [
    "## List"
   ]
  },
  {
   "cell_type": "code",
   "execution_count": 1,
   "metadata": {
    "collapsed": false
   },
   "outputs": [
    {
     "name": "stdout",
     "output_type": "stream",
     "text": [
      "['apple', 'oranges', 'grapes', 'banana']\n"
     ]
    }
   ],
   "source": [
    "basket = ['apple', 'oranges', 'grapes']\n",
    "\n",
    "'''\n",
    "append  - Add to the end of the list\n",
    "count   - No of times the item is repeated in the list\n",
    "extend  - Extend a list with the items from another list\n",
    "index   - Returns the index of the position of the item in the list\n",
    "insert  - Insert an item before the specified index position\n",
    "pop     - Remove and return an item from a list from a specified index. Default to last\n",
    "remove  - Remove a given item from the list\n",
    "reverse - Reverse the order of the items in the list IN PLACE.\n",
    "sort    - sort the items based on given key or cmp function.\n",
    "'''\n",
    "\n",
    "basket.append('banana')\n",
    "print basket"
   ]
  },
  {
   "cell_type": "code",
   "execution_count": 2,
   "metadata": {
    "collapsed": false
   },
   "outputs": [
    {
     "name": "stdout",
     "output_type": "stream",
     "text": [
      "['apple', 'oranges', 'grapes', 'banana', 'pineapple', 'mango']\n",
      "['apple', 'oranges', 'grapes', 'banana', 'pineapple', 'mango', ['pineapple', 'mango']]\n"
     ]
    },
    {
     "data": {
      "text/plain": [
       "3"
      ]
     },
     "execution_count": 2,
     "metadata": {},
     "output_type": "execute_result"
    }
   ],
   "source": [
    "extra = ['pineapple', 'mango']\n",
    "basket.extend(extra)\n",
    "print basket\n",
    "basket.append(extra)\n",
    "print basket\n",
    "basket.index('banana')"
   ]
  },
  {
   "cell_type": "code",
   "execution_count": 4,
   "metadata": {
    "collapsed": false
   },
   "outputs": [
    {
     "name": "stdout",
     "output_type": "stream",
     "text": [
      "['apple', 'oranges', 'grapes', 'banana', 'pineapple', 'mango', ['pineapple', 'mango']]\n"
     ]
    },
    {
     "data": {
      "text/plain": [
       "True"
      ]
     },
     "execution_count": 4,
     "metadata": {},
     "output_type": "execute_result"
    }
   ],
   "source": [
    "#basket[6].append('apple')\n",
    "#print basket\n",
    "#print basket[6][2]\n",
    "print basket\n",
    "'mango' in basket"
   ]
  },
  {
   "cell_type": "code",
   "execution_count": 5,
   "metadata": {
    "collapsed": false
   },
   "outputs": [
    {
     "name": "stdout",
     "output_type": "stream",
     "text": [
      "['apple', 'oranges', 'grapes', 'banana', 'pineapple', 'mango', ['pineapple', 'mango'], 'grapes']\n",
      "8\n"
     ]
    }
   ],
   "source": [
    "#basket.append('banana')\n",
    "#print basket.count('banana')\n",
    "basket.insert(100, 'grapes')\n",
    "print basket\n",
    "print len(basket)\n"
   ]
  },
  {
   "cell_type": "code",
   "execution_count": 10,
   "metadata": {
    "collapsed": false
   },
   "outputs": [
    {
     "ename": "ValueError",
     "evalue": "list.remove(x): x not in list",
     "output_type": "error",
     "traceback": [
      "\u001b[1;31m---------------------------------------------------------------------------\u001b[0m",
      "\u001b[1;31mValueError\u001b[0m                                Traceback (most recent call last)",
      "\u001b[1;32m<ipython-input-10-ecac84f54181>\u001b[0m in \u001b[0;36m<module>\u001b[1;34m()\u001b[0m\n\u001b[0;32m      2\u001b[0m \u001b[1;31m#print basket.index('banana')\u001b[0m\u001b[1;33m\u001b[0m\u001b[1;33m\u001b[0m\u001b[0m\n\u001b[0;32m      3\u001b[0m \u001b[1;31m#item = basket.pop(3)\u001b[0m\u001b[1;33m\u001b[0m\u001b[1;33m\u001b[0m\u001b[0m\n\u001b[1;32m----> 4\u001b[1;33m \u001b[1;32mprint\u001b[0m \u001b[0mbasket\u001b[0m\u001b[1;33m.\u001b[0m\u001b[0mremove\u001b[0m\u001b[1;33m(\u001b[0m\u001b[1;34m'mustard'\u001b[0m\u001b[1;33m)\u001b[0m\u001b[1;33m\u001b[0m\u001b[0m\n\u001b[0m\u001b[0;32m      5\u001b[0m \u001b[1;31m#print basket\u001b[0m\u001b[1;33m\u001b[0m\u001b[1;33m\u001b[0m\u001b[0m\n",
      "\u001b[1;31mValueError\u001b[0m: list.remove(x): x not in list"
     ]
    }
   ],
   "source": [
    "print len(basket)\n",
    "print basket.index('banana')\n",
    "item = basket.pop(3)\n",
    "#print basket.remove('mustard')\n",
    "print basket\n"
   ]
  },
  {
   "cell_type": "code",
   "execution_count": 9,
   "metadata": {
    "collapsed": false
   },
   "outputs": [
    {
     "name": "stdout",
     "output_type": "stream",
     "text": [
      "['apple', 'oranges', 'grapes', 'banana', 'pineapple', 'mango', ['pineapple', 'mango']]\n",
      "[['pineapple', 'mango'], 'apple', 'banana', 'grapes', 'mango', 'oranges', 'pineapple']\n",
      "['apple', 'oranges', 'grapes', 'banana', 'pineapple', 'mango', ['pineapple', 'mango']]\n"
     ]
    }
   ],
   "source": [
    "print basket\n",
    "#basket.sort()\n",
    "new_list = sorted(basket)\n",
    "print new_list\n",
    "print basket"
   ]
  },
  {
   "cell_type": "code",
   "execution_count": 9,
   "metadata": {
    "collapsed": false
   },
   "outputs": [
    {
     "name": "stdout",
     "output_type": "stream",
     "text": [
      "['apple', 'oranges', 'grapes', 'banana', 'pineapple', 'mango', ['pineapple', 'mango'], 'grapes', 'eggs']\n"
     ]
    }
   ],
   "source": [
    "\n",
    "def foo(x):\n",
    "    y =+ 'abcd'\n",
    "\n",
    "basket='tyuv'\n",
    "foo(basket)\n",
    "print basket"
   ]
  },
  {
   "cell_type": "code",
   "execution_count": 6,
   "metadata": {
    "collapsed": false
   },
   "outputs": [
    {
     "name": "stdout",
     "output_type": "stream",
     "text": [
      "mango\n"
     ]
    }
   ],
   "source": [
    "print basket.pop(2)"
   ]
  },
  {
   "cell_type": "code",
   "execution_count": 7,
   "metadata": {
    "collapsed": false
   },
   "outputs": [
    {
     "name": "stdout",
     "output_type": "stream",
     "text": [
      "['apple', 'grapes', 'oranges', 'pineapple']\n",
      "False\n"
     ]
    }
   ],
   "source": [
    "print basket\n",
    "print 'grapes' not in basket"
   ]
  },
  {
   "cell_type": "code",
   "execution_count": 11,
   "metadata": {
    "collapsed": false
   },
   "outputs": [
    {
     "name": "stdout",
     "output_type": "stream",
     "text": [
      "['apple', 'oranges', 'grapes', 'banana', 'pineapple', 'mango', ['pineapple', 'mango'], 'watermelon']\n",
      "['apple', 'oranges', 'grapes', 'banana', 'pineapple', 'mango', ['pineapple', 'mango'], 'watermelon', 'watermelon']\n",
      "7\n"
     ]
    }
   ],
   "source": [
    "print basket\n",
    "basket.insert(100, 'watermelon')\n",
    "print basket\n",
    "print basket.index('watermelon')"
   ]
  },
  {
   "cell_type": "code",
   "execution_count": 9,
   "metadata": {
    "collapsed": false
   },
   "outputs": [
    {
     "name": "stdout",
     "output_type": "stream",
     "text": [
      "['apple', 'grapes', 'oranges', 'pineapple', 'watermelon']\n",
      "['watermelon', 'pineapple', 'oranges', 'grapes', 'apple']\n"
     ]
    }
   ],
   "source": [
    "basket.sort()\n",
    "print basket\n",
    "basket.reverse()\n",
    "print basket"
   ]
  },
  {
   "cell_type": "code",
   "execution_count": 11,
   "metadata": {
    "collapsed": false
   },
   "outputs": [
    {
     "name": "stdout",
     "output_type": "stream",
     "text": [
      "[('bread', 1), ('egg', 2), ('butter', 4)]\n"
     ]
    }
   ],
   "source": [
    "# sort based on a key\n",
    "\n",
    "import operator\n",
    "l = [('egg', 2), ('bread', 1), ('butter', 4)]\n",
    "l.sort(key=operator.itemgetter(1))\n",
    "print l\n"
   ]
  },
  {
   "cell_type": "code",
   "execution_count": 7,
   "metadata": {
    "collapsed": true
   },
   "outputs": [],
   "source": [
    "t = [('eggs', 3), ('bread', 2), ('butter', 4)]"
   ]
  },
  {
   "cell_type": "code",
   "execution_count": 8,
   "metadata": {
    "collapsed": false
   },
   "outputs": [
    {
     "name": "stdout",
     "output_type": "stream",
     "text": [
      "[('butter', 4), ('eggs', 3), ('bread', 2)]\n"
     ]
    }
   ],
   "source": [
    "# Custom sorting\n",
    "\n",
    "def chk_length(x, y):\n",
    "    ''' sort based on length \n",
    "        of each item\n",
    "    '''\n",
    "    if x[1] > y[1]:\n",
    "        return -1\n",
    "    elif y[1] > x[1]:\n",
    "        return 1\n",
    "    else:\n",
    "        return 0\n",
    "\n",
    "    \n",
    "t.sort(cmp=chk_length)\n",
    "print t"
   ]
  },
  {
   "cell_type": "code",
   "execution_count": null,
   "metadata": {
    "collapsed": true
   },
   "outputs": [],
   "source": []
  }
 ],
 "metadata": {
  "kernelspec": {
   "display_name": "Python 2",
   "language": "python",
   "name": "python2"
  },
  "language_info": {
   "codemirror_mode": {
    "name": "ipython",
    "version": 2
   },
   "file_extension": ".py",
   "mimetype": "text/x-python",
   "name": "python",
   "nbconvert_exporter": "python",
   "pygments_lexer": "ipython2",
   "version": "2.7.11"
  }
 },
 "nbformat": 4,
 "nbformat_minor": 0
}
