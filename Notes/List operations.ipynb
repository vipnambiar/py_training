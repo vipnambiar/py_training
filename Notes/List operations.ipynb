{
 "cells": [
  {
   "cell_type": "markdown",
   "metadata": {},
   "source": [
    "## List"
   ]
  },
  {
   "cell_type": "code",
   "execution_count": 1,
   "metadata": {},
   "outputs": [
    {
     "name": "stdout",
     "output_type": "stream",
     "text": [
      "2\n"
     ]
    }
   ],
   "source": [
    "basket = ['apple', 'oranges', 'grapes']\n",
    "\n",
    "'''\n",
    "append  - Add to the end of the list\n",
    "count   - No of times the item is repeated in the list\n",
    "extend  - Extend a list with the items from another list\n",
    "index   - Returns the index of the position of the item in the list\n",
    "insert  - Insert an item before the specified index position\n",
    "pop     - Remove and return an item from a list from a specified index. Default to last\n",
    "remove  - Remove a given item from the list\n",
    "reverse - Reverse the order of the items in the list IN PLACE.\n",
    "sort    - sort the items based on given key or cmp function.\n",
    "'''\n",
    "\n",
    "basket.append('oranges')\n",
    "print basket.count('oranges')"
   ]
  },
  {
   "cell_type": "code",
   "execution_count": 5,
   "metadata": {},
   "outputs": [
    {
     "data": {
      "text/plain": [
       "1"
      ]
     },
     "execution_count": 5,
     "metadata": {},
     "output_type": "execute_result"
    }
   ],
   "source": [
    "extra = ['pineapple', 'mango']\n",
    "#basket.extend(extra)\n",
    "#basket.append(extra)\n",
    "#print basket\n",
    "#print(basket)\n",
    "basket.index('oranges')\n",
    "#print basket[::-1]"
   ]
  },
  {
   "cell_type": "code",
   "execution_count": 7,
   "metadata": {},
   "outputs": [
    {
     "data": {
      "text/plain": [
       "True"
      ]
     },
     "execution_count": 7,
     "metadata": {},
     "output_type": "execute_result"
    }
   ],
   "source": [
    "#basket[6].append('apple')\n",
    "#print basket\n",
    "#print basket[6][2]\n",
    "#basket.append('mango')\n",
    "#basket.remove('mango')\n",
    "#print(basket)\n",
    "\n",
    "basket.append('mango')\n",
    "'mango' in basket\n",
    "#for item in basket:\n",
    "#    if 'mango' in item:\n",
    "#        print item"
   ]
  },
  {
   "cell_type": "code",
   "execution_count": 8,
   "metadata": {},
   "outputs": [
    {
     "name": "stdout",
     "output_type": "stream",
     "text": [
      "['apple', 'grapes', 'oranges', 'grapes', 'oranges', ['pineapple', 'mango'], ['pineapple', 'mango'], 'mango']\n",
      "8\n"
     ]
    }
   ],
   "source": [
    "#basket.append('banana')\n",
    "#print basket.count('banana')\n",
    "basket.insert(1, 'grapes')\n",
    "print(basket)\n",
    "print(len(basket))\n"
   ]
  },
  {
   "cell_type": "code",
   "execution_count": 13,
   "metadata": {},
   "outputs": [
    {
     "name": "stdout",
     "output_type": "stream",
     "text": [
      "['apple', 'oranges', ['pineapple', 'mango'], ['pineapple', 'mango']]\n"
     ]
    }
   ],
   "source": [
    "#print(len(basket))\n",
    "#print(basket.index('banana'))\n",
    "#item = basket.pop()\n",
    "#print basket.remove('grapes')\n",
    "while 'grapes' in basket:\n",
    "    basket.remove('grapes')\n",
    "    \n",
    "print basket\n"
   ]
  },
  {
   "cell_type": "code",
   "execution_count": 10,
   "metadata": {},
   "outputs": [
    {
     "name": "stdout",
     "output_type": "stream",
     "text": [
      "mango\n"
     ]
    }
   ],
   "source": [
    "print item"
   ]
  },
  {
   "cell_type": "code",
   "execution_count": 14,
   "metadata": {},
   "outputs": [
    {
     "name": "stdout",
     "output_type": "stream",
     "text": [
      "['10', 'b', 'e']\n",
      "None\n"
     ]
    }
   ],
   "source": [
    "l = ['e', 'b', '10']\n",
    "x = l.sort()\n",
    "print l\n",
    "print x\n"
   ]
  },
  {
   "cell_type": "code",
   "execution_count": null,
   "metadata": {
    "collapsed": true
   },
   "outputs": [],
   "source": [
    "print basket\n",
    "#basket.sort()\n",
    "new_list = sorted(basket)\n",
    "print new_list\n",
    "print basket"
   ]
  },
  {
   "cell_type": "code",
   "execution_count": null,
   "metadata": {},
   "outputs": [],
   "source": [
    "\n",
    "def foo(x):\n",
    "    y = x + 'abcd'\n",
    "\n",
    "basket='tyuv'\n",
    "foo(basket)\n",
    "print(basket)"
   ]
  },
  {
   "cell_type": "code",
   "execution_count": null,
   "metadata": {
    "collapsed": true
   },
   "outputs": [],
   "source": [
    "print basket.pop(2)"
   ]
  },
  {
   "cell_type": "code",
   "execution_count": null,
   "metadata": {
    "collapsed": true
   },
   "outputs": [],
   "source": [
    "print basket\n",
    "print 'grapes' not in basket"
   ]
  },
  {
   "cell_type": "code",
   "execution_count": null,
   "metadata": {
    "collapsed": true
   },
   "outputs": [],
   "source": [
    "print basket\n",
    "basket.insert(100, 'watermelon')\n",
    "print basket\n",
    "print basket.index('watermelon')"
   ]
  },
  {
   "cell_type": "code",
   "execution_count": null,
   "metadata": {
    "collapsed": true
   },
   "outputs": [],
   "source": [
    "basket.sort()\n",
    "print basket\n",
    "basket.reverse()\n",
    "print basket"
   ]
  },
  {
   "cell_type": "code",
   "execution_count": null,
   "metadata": {},
   "outputs": [],
   "source": [
    "# sort based on a key\n",
    "\n",
    "import operator\n",
    "l = [('egg', 2), ('bread', 1), ('butter', 4)]\n",
    "l.sort(key=operator.itemgetter(1))\n",
    "print(l)\n"
   ]
  },
  {
   "cell_type": "code",
   "execution_count": 15,
   "metadata": {
    "collapsed": true
   },
   "outputs": [],
   "source": [
    "t = [('eggs', 3), ('bread', 2), ('butter', 4)]"
   ]
  },
  {
   "cell_type": "code",
   "execution_count": 21,
   "metadata": {},
   "outputs": [
    {
     "name": "stdout",
     "output_type": "stream",
     "text": [
      "[('bread', 2), ('eggs', 3), ('butter', 4)]\n",
      "Help on method_descriptor:\n",
      "\n",
      "sort(...)\n",
      "    L.sort(cmp=None, key=None, reverse=False) -- stable sort *IN PLACE*;\n",
      "    cmp(x, y) -> -1, 0, 1\n",
      "\n"
     ]
    }
   ],
   "source": [
    "# Custom sorting\n",
    "\n",
    "def chk_length(x, y):\n",
    "    ''' sort based on length \n",
    "        of each item\n",
    "    '''\n",
    "    if x[1] > y[1]:\n",
    "        return 1\n",
    "    elif y[1] > x[1]:\n",
    "        return -1\n",
    "    else:\n",
    "        return 0\n",
    "\n",
    "    \n",
    "t.sort(cmp=chk_length, reverse=False)\n",
    "print(t)\n",
    "\n",
    "help(list.sort)"
   ]
  },
  {
   "cell_type": "code",
   "execution_count": null,
   "metadata": {
    "collapsed": true
   },
   "outputs": [],
   "source": []
  }
 ],
 "metadata": {
  "kernelspec": {
   "display_name": "Python 2",
   "language": "python",
   "name": "python2"
  },
  "language_info": {
   "codemirror_mode": {
    "name": "ipython",
    "version": 2
   },
   "file_extension": ".py",
   "mimetype": "text/x-python",
   "name": "python",
   "nbconvert_exporter": "python",
   "pygments_lexer": "ipython2",
   "version": "2.7.13"
  }
 },
 "nbformat": 4,
 "nbformat_minor": 1
}
